{
 "cells": [
  {
   "cell_type": "code",
   "execution_count": 50,
   "metadata": {
    "collapsed": true
   },
   "outputs": [],
   "source": [
    "import pandas as pd\n",
    "import bokeh"
   ]
  },
  {
   "cell_type": "code",
   "execution_count": 6,
   "metadata": {
    "collapsed": true
   },
   "outputs": [],
   "source": [
    "data = pd.read_csv('C:/Users/surhu/Desktop/Studio/sk_python/data/gapminder.csv', index_col='Year', thousands=',')"
   ]
  },
  {
   "cell_type": "code",
   "execution_count": 7,
   "metadata": {},
   "outputs": [
    {
     "data": {
      "text/html": [
       "<div>\n",
       "<style>\n",
       "    .dataframe thead tr:only-child th {\n",
       "        text-align: right;\n",
       "    }\n",
       "\n",
       "    .dataframe thead th {\n",
       "        text-align: left;\n",
       "    }\n",
       "\n",
       "    .dataframe tbody tr th {\n",
       "        vertical-align: top;\n",
       "    }\n",
       "</style>\n",
       "<table border=\"1\" class=\"dataframe\">\n",
       "  <thead>\n",
       "    <tr style=\"text-align: right;\">\n",
       "      <th></th>\n",
       "      <th>Country</th>\n",
       "      <th>life</th>\n",
       "      <th>population</th>\n",
       "      <th>income</th>\n",
       "      <th>region</th>\n",
       "    </tr>\n",
       "    <tr>\n",
       "      <th>Year</th>\n",
       "      <th></th>\n",
       "      <th></th>\n",
       "      <th></th>\n",
       "      <th></th>\n",
       "      <th></th>\n",
       "    </tr>\n",
       "  </thead>\n",
       "  <tbody>\n",
       "    <tr>\n",
       "      <th>1800</th>\n",
       "      <td>Afghanistan</td>\n",
       "      <td>28.211000</td>\n",
       "      <td>3280000.0</td>\n",
       "      <td>603.0</td>\n",
       "      <td>South Asia</td>\n",
       "    </tr>\n",
       "    <tr>\n",
       "      <th>1801</th>\n",
       "      <td>Afghanistan</td>\n",
       "      <td>28.200753</td>\n",
       "      <td>NaN</td>\n",
       "      <td>603.0</td>\n",
       "      <td>South Asia</td>\n",
       "    </tr>\n",
       "    <tr>\n",
       "      <th>1802</th>\n",
       "      <td>Afghanistan</td>\n",
       "      <td>28.190507</td>\n",
       "      <td>NaN</td>\n",
       "      <td>603.0</td>\n",
       "      <td>South Asia</td>\n",
       "    </tr>\n",
       "    <tr>\n",
       "      <th>1803</th>\n",
       "      <td>Afghanistan</td>\n",
       "      <td>28.180260</td>\n",
       "      <td>NaN</td>\n",
       "      <td>603.0</td>\n",
       "      <td>South Asia</td>\n",
       "    </tr>\n",
       "    <tr>\n",
       "      <th>1804</th>\n",
       "      <td>Afghanistan</td>\n",
       "      <td>28.170013</td>\n",
       "      <td>NaN</td>\n",
       "      <td>603.0</td>\n",
       "      <td>South Asia</td>\n",
       "    </tr>\n",
       "  </tbody>\n",
       "</table>\n",
       "</div>"
      ],
      "text/plain": [
       "          Country       life  population  income      region\n",
       "Year                                                        \n",
       "1800  Afghanistan  28.211000   3280000.0   603.0  South Asia\n",
       "1801  Afghanistan  28.200753         NaN   603.0  South Asia\n",
       "1802  Afghanistan  28.190507         NaN   603.0  South Asia\n",
       "1803  Afghanistan  28.180260         NaN   603.0  South Asia\n",
       "1804  Afghanistan  28.170013         NaN   603.0  South Asia"
      ]
     },
     "execution_count": 7,
     "metadata": {},
     "output_type": "execute_result"
    }
   ],
   "source": [
    "data.head()"
   ]
  },
  {
   "cell_type": "code",
   "execution_count": 8,
   "metadata": {},
   "outputs": [
    {
     "data": {
      "text/html": [
       "\n",
       "    <div class=\"bk-root\">\n",
       "        <a href=\"https://bokeh.pydata.org\" target=\"_blank\" class=\"bk-logo bk-logo-small bk-logo-notebook\"></a>\n",
       "        <span id=\"c9f35db8-4b43-419b-b3f6-f6f9dc5ae75b\">Loading BokehJS ...</span>\n",
       "    </div>"
      ]
     },
     "metadata": {},
     "output_type": "display_data"
    },
    {
     "data": {
      "application/javascript": [
       "\n",
       "(function(root) {\n",
       "  function now() {\n",
       "    return new Date();\n",
       "  }\n",
       "\n",
       "  var force = true;\n",
       "\n",
       "  if (typeof (root._bokeh_onload_callbacks) === \"undefined\" || force === true) {\n",
       "    root._bokeh_onload_callbacks = [];\n",
       "    root._bokeh_is_loading = undefined;\n",
       "  }\n",
       "\n",
       "  var JS_MIME_TYPE = 'application/javascript';\n",
       "  var HTML_MIME_TYPE = 'text/html';\n",
       "  var EXEC_MIME_TYPE = 'application/vnd.bokehjs_exec.v0+json';\n",
       "  var CLASS_NAME = 'output_bokeh rendered_html';\n",
       "\n",
       "  /**\n",
       "   * Render data to the DOM node\n",
       "   */\n",
       "  function render(props, node) {\n",
       "    var script = document.createElement(\"script\");\n",
       "    node.appendChild(script);\n",
       "  }\n",
       "\n",
       "  /**\n",
       "   * Handle when an output is cleared or removed\n",
       "   */\n",
       "  function handleClearOutput(event, handle) {\n",
       "    var cell = handle.cell;\n",
       "\n",
       "    var id = cell.output_area._bokeh_element_id;\n",
       "    var server_id = cell.output_area._bokeh_server_id;\n",
       "    // Clean up Bokeh references\n",
       "    if (id !== undefined) {\n",
       "      Bokeh.index[id].model.document.clear();\n",
       "      delete Bokeh.index[id];\n",
       "    }\n",
       "\n",
       "    if (server_id !== undefined) {\n",
       "      // Clean up Bokeh references\n",
       "      var cmd = \"from bokeh.io.state import curstate; print(curstate().uuid_to_server['\" + server_id + \"'].get_sessions()[0].document.roots[0]._id)\";\n",
       "      cell.notebook.kernel.execute(cmd, {\n",
       "        iopub: {\n",
       "          output: function(msg) {\n",
       "            var element_id = msg.content.text.trim();\n",
       "            Bokeh.index[element_id].model.document.clear();\n",
       "            delete Bokeh.index[element_id];\n",
       "          }\n",
       "        }\n",
       "      });\n",
       "      // Destroy server and session\n",
       "      var cmd = \"import bokeh.io.notebook as ion; ion.destroy_server('\" + server_id + \"')\";\n",
       "      cell.notebook.kernel.execute(cmd);\n",
       "    }\n",
       "  }\n",
       "\n",
       "  /**\n",
       "   * Handle when a new output is added\n",
       "   */\n",
       "  function handleAddOutput(event, handle) {\n",
       "    var output_area = handle.output_area;\n",
       "    var output = handle.output;\n",
       "\n",
       "    // limit handleAddOutput to display_data with EXEC_MIME_TYPE content only\n",
       "    if ((output.output_type != \"display_data\") || (!output.data.hasOwnProperty(EXEC_MIME_TYPE))) {\n",
       "      return\n",
       "    }\n",
       "\n",
       "    var toinsert = output_area.element.find(`.${CLASS_NAME.split(' ')[0]}`);\n",
       "\n",
       "    if (output.metadata[EXEC_MIME_TYPE][\"id\"] !== undefined) {\n",
       "      toinsert[0].firstChild.textContent = output.data[JS_MIME_TYPE];\n",
       "      // store reference to embed id on output_area\n",
       "      output_area._bokeh_element_id = output.metadata[EXEC_MIME_TYPE][\"id\"];\n",
       "    }\n",
       "    if (output.metadata[EXEC_MIME_TYPE][\"server_id\"] !== undefined) {\n",
       "      var bk_div = document.createElement(\"div\");\n",
       "      bk_div.innerHTML = output.data[HTML_MIME_TYPE];\n",
       "      var script_attrs = bk_div.children[0].attributes;\n",
       "      for (var i = 0; i < script_attrs.length; i++) {\n",
       "        toinsert[0].firstChild.setAttribute(script_attrs[i].name, script_attrs[i].value);\n",
       "      }\n",
       "      // store reference to server id on output_area\n",
       "      output_area._bokeh_server_id = output.metadata[EXEC_MIME_TYPE][\"server_id\"];\n",
       "    }\n",
       "  }\n",
       "\n",
       "  function register_renderer(events, OutputArea) {\n",
       "\n",
       "    function append_mime(data, metadata, element) {\n",
       "      // create a DOM node to render to\n",
       "      var toinsert = this.create_output_subarea(\n",
       "        metadata,\n",
       "        CLASS_NAME,\n",
       "        EXEC_MIME_TYPE\n",
       "      );\n",
       "      this.keyboard_manager.register_events(toinsert);\n",
       "      // Render to node\n",
       "      var props = {data: data, metadata: metadata[EXEC_MIME_TYPE]};\n",
       "      render(props, toinsert[0]);\n",
       "      element.append(toinsert);\n",
       "      return toinsert\n",
       "    }\n",
       "\n",
       "    /* Handle when an output is cleared or removed */\n",
       "    events.on('clear_output.CodeCell', handleClearOutput);\n",
       "    events.on('delete.Cell', handleClearOutput);\n",
       "\n",
       "    /* Handle when a new output is added */\n",
       "    events.on('output_added.OutputArea', handleAddOutput);\n",
       "\n",
       "    /**\n",
       "     * Register the mime type and append_mime function with output_area\n",
       "     */\n",
       "    OutputArea.prototype.register_mime_type(EXEC_MIME_TYPE, append_mime, {\n",
       "      /* Is output safe? */\n",
       "      safe: true,\n",
       "      /* Index of renderer in `output_area.display_order` */\n",
       "      index: 0\n",
       "    });\n",
       "  }\n",
       "\n",
       "  // register the mime type if in Jupyter Notebook environment and previously unregistered\n",
       "  if (root.Jupyter !== undefined) {\n",
       "    var events = require('base/js/events');\n",
       "    var OutputArea = require('notebook/js/outputarea').OutputArea;\n",
       "\n",
       "    if (OutputArea.prototype.mime_types().indexOf(EXEC_MIME_TYPE) == -1) {\n",
       "      register_renderer(events, OutputArea);\n",
       "    }\n",
       "  }\n",
       "\n",
       "  \n",
       "  if (typeof (root._bokeh_timeout) === \"undefined\" || force === true) {\n",
       "    root._bokeh_timeout = Date.now() + 5000;\n",
       "    root._bokeh_failed_load = false;\n",
       "  }\n",
       "\n",
       "  var NB_LOAD_WARNING = {'data': {'text/html':\n",
       "     \"<div style='background-color: #fdd'>\\n\"+\n",
       "     \"<p>\\n\"+\n",
       "     \"BokehJS does not appear to have successfully loaded. If loading BokehJS from CDN, this \\n\"+\n",
       "     \"may be due to a slow or bad network connection. Possible fixes:\\n\"+\n",
       "     \"</p>\\n\"+\n",
       "     \"<ul>\\n\"+\n",
       "     \"<li>re-rerun `output_notebook()` to attempt to load from CDN again, or</li>\\n\"+\n",
       "     \"<li>use INLINE resources instead, as so:</li>\\n\"+\n",
       "     \"</ul>\\n\"+\n",
       "     \"<code>\\n\"+\n",
       "     \"from bokeh.resources import INLINE\\n\"+\n",
       "     \"output_notebook(resources=INLINE)\\n\"+\n",
       "     \"</code>\\n\"+\n",
       "     \"</div>\"}};\n",
       "\n",
       "  function display_loaded() {\n",
       "    var el = document.getElementById(\"c9f35db8-4b43-419b-b3f6-f6f9dc5ae75b\");\n",
       "    if (el != null) {\n",
       "      el.textContent = \"BokehJS is loading...\";\n",
       "    }\n",
       "    if (root.Bokeh !== undefined) {\n",
       "      if (el != null) {\n",
       "        el.textContent = \"BokehJS \" + root.Bokeh.version + \" successfully loaded.\";\n",
       "      }\n",
       "    } else if (Date.now() < root._bokeh_timeout) {\n",
       "      setTimeout(display_loaded, 100)\n",
       "    }\n",
       "  }\n",
       "\n",
       "\n",
       "  function run_callbacks() {\n",
       "    try {\n",
       "      root._bokeh_onload_callbacks.forEach(function(callback) { callback() });\n",
       "    }\n",
       "    finally {\n",
       "      delete root._bokeh_onload_callbacks\n",
       "    }\n",
       "    console.info(\"Bokeh: all callbacks have finished\");\n",
       "  }\n",
       "\n",
       "  function load_libs(js_urls, callback) {\n",
       "    root._bokeh_onload_callbacks.push(callback);\n",
       "    if (root._bokeh_is_loading > 0) {\n",
       "      console.log(\"Bokeh: BokehJS is being loaded, scheduling callback at\", now());\n",
       "      return null;\n",
       "    }\n",
       "    if (js_urls == null || js_urls.length === 0) {\n",
       "      run_callbacks();\n",
       "      return null;\n",
       "    }\n",
       "    console.log(\"Bokeh: BokehJS not loaded, scheduling load and callback at\", now());\n",
       "    root._bokeh_is_loading = js_urls.length;\n",
       "    for (var i = 0; i < js_urls.length; i++) {\n",
       "      var url = js_urls[i];\n",
       "      var s = document.createElement('script');\n",
       "      s.src = url;\n",
       "      s.async = false;\n",
       "      s.onreadystatechange = s.onload = function() {\n",
       "        root._bokeh_is_loading--;\n",
       "        if (root._bokeh_is_loading === 0) {\n",
       "          console.log(\"Bokeh: all BokehJS libraries loaded\");\n",
       "          run_callbacks()\n",
       "        }\n",
       "      };\n",
       "      s.onerror = function() {\n",
       "        console.warn(\"failed to load library \" + url);\n",
       "      };\n",
       "      console.log(\"Bokeh: injecting script tag for BokehJS library: \", url);\n",
       "      document.getElementsByTagName(\"head\")[0].appendChild(s);\n",
       "    }\n",
       "  };var element = document.getElementById(\"c9f35db8-4b43-419b-b3f6-f6f9dc5ae75b\");\n",
       "  if (element == null) {\n",
       "    console.log(\"Bokeh: ERROR: autoload.js configured with elementid 'c9f35db8-4b43-419b-b3f6-f6f9dc5ae75b' but no matching script tag was found. \")\n",
       "    return false;\n",
       "  }\n",
       "\n",
       "  var js_urls = [\"https://cdn.pydata.org/bokeh/release/bokeh-0.12.10.min.js\", \"https://cdn.pydata.org/bokeh/release/bokeh-widgets-0.12.10.min.js\", \"https://cdn.pydata.org/bokeh/release/bokeh-tables-0.12.10.min.js\", \"https://cdn.pydata.org/bokeh/release/bokeh-gl-0.12.10.min.js\"];\n",
       "\n",
       "  var inline_js = [\n",
       "    function(Bokeh) {\n",
       "      Bokeh.set_log_level(\"info\");\n",
       "    },\n",
       "    \n",
       "    function(Bokeh) {\n",
       "      \n",
       "    },\n",
       "    function(Bokeh) {\n",
       "      console.log(\"Bokeh: injecting CSS: https://cdn.pydata.org/bokeh/release/bokeh-0.12.10.min.css\");\n",
       "      Bokeh.embed.inject_css(\"https://cdn.pydata.org/bokeh/release/bokeh-0.12.10.min.css\");\n",
       "      console.log(\"Bokeh: injecting CSS: https://cdn.pydata.org/bokeh/release/bokeh-widgets-0.12.10.min.css\");\n",
       "      Bokeh.embed.inject_css(\"https://cdn.pydata.org/bokeh/release/bokeh-widgets-0.12.10.min.css\");\n",
       "      console.log(\"Bokeh: injecting CSS: https://cdn.pydata.org/bokeh/release/bokeh-tables-0.12.10.min.css\");\n",
       "      Bokeh.embed.inject_css(\"https://cdn.pydata.org/bokeh/release/bokeh-tables-0.12.10.min.css\");\n",
       "    }\n",
       "  ];\n",
       "\n",
       "  function run_inline_js() {\n",
       "    \n",
       "    if ((root.Bokeh !== undefined) || (force === true)) {\n",
       "      for (var i = 0; i < inline_js.length; i++) {\n",
       "        inline_js[i].call(root, root.Bokeh);\n",
       "      }if (force === true) {\n",
       "        display_loaded();\n",
       "      }} else if (Date.now() < root._bokeh_timeout) {\n",
       "      setTimeout(run_inline_js, 100);\n",
       "    } else if (!root._bokeh_failed_load) {\n",
       "      console.log(\"Bokeh: BokehJS failed to load within specified timeout.\");\n",
       "      root._bokeh_failed_load = true;\n",
       "    } else if (force !== true) {\n",
       "      var cell = $(document.getElementById(\"c9f35db8-4b43-419b-b3f6-f6f9dc5ae75b\")).parents('.cell').data().cell;\n",
       "      cell.output_area.append_execute_result(NB_LOAD_WARNING)\n",
       "    }\n",
       "\n",
       "  }\n",
       "\n",
       "  if (root._bokeh_is_loading === 0) {\n",
       "    console.log(\"Bokeh: BokehJS loaded, going straight to plotting\");\n",
       "    run_inline_js();\n",
       "  } else {\n",
       "    load_libs(js_urls, function() {\n",
       "      console.log(\"Bokeh: BokehJS plotting callback run at\", now());\n",
       "      run_inline_js();\n",
       "    });\n",
       "  }\n",
       "}(window));"
      ],
      "application/vnd.bokehjs_load.v0+json": "\n(function(root) {\n  function now() {\n    return new Date();\n  }\n\n  var force = true;\n\n  if (typeof (root._bokeh_onload_callbacks) === \"undefined\" || force === true) {\n    root._bokeh_onload_callbacks = [];\n    root._bokeh_is_loading = undefined;\n  }\n\n  \n\n  \n  if (typeof (root._bokeh_timeout) === \"undefined\" || force === true) {\n    root._bokeh_timeout = Date.now() + 5000;\n    root._bokeh_failed_load = false;\n  }\n\n  var NB_LOAD_WARNING = {'data': {'text/html':\n     \"<div style='background-color: #fdd'>\\n\"+\n     \"<p>\\n\"+\n     \"BokehJS does not appear to have successfully loaded. If loading BokehJS from CDN, this \\n\"+\n     \"may be due to a slow or bad network connection. Possible fixes:\\n\"+\n     \"</p>\\n\"+\n     \"<ul>\\n\"+\n     \"<li>re-rerun `output_notebook()` to attempt to load from CDN again, or</li>\\n\"+\n     \"<li>use INLINE resources instead, as so:</li>\\n\"+\n     \"</ul>\\n\"+\n     \"<code>\\n\"+\n     \"from bokeh.resources import INLINE\\n\"+\n     \"output_notebook(resources=INLINE)\\n\"+\n     \"</code>\\n\"+\n     \"</div>\"}};\n\n  function display_loaded() {\n    var el = document.getElementById(\"c9f35db8-4b43-419b-b3f6-f6f9dc5ae75b\");\n    if (el != null) {\n      el.textContent = \"BokehJS is loading...\";\n    }\n    if (root.Bokeh !== undefined) {\n      if (el != null) {\n        el.textContent = \"BokehJS \" + root.Bokeh.version + \" successfully loaded.\";\n      }\n    } else if (Date.now() < root._bokeh_timeout) {\n      setTimeout(display_loaded, 100)\n    }\n  }\n\n\n  function run_callbacks() {\n    try {\n      root._bokeh_onload_callbacks.forEach(function(callback) { callback() });\n    }\n    finally {\n      delete root._bokeh_onload_callbacks\n    }\n    console.info(\"Bokeh: all callbacks have finished\");\n  }\n\n  function load_libs(js_urls, callback) {\n    root._bokeh_onload_callbacks.push(callback);\n    if (root._bokeh_is_loading > 0) {\n      console.log(\"Bokeh: BokehJS is being loaded, scheduling callback at\", now());\n      return null;\n    }\n    if (js_urls == null || js_urls.length === 0) {\n      run_callbacks();\n      return null;\n    }\n    console.log(\"Bokeh: BokehJS not loaded, scheduling load and callback at\", now());\n    root._bokeh_is_loading = js_urls.length;\n    for (var i = 0; i < js_urls.length; i++) {\n      var url = js_urls[i];\n      var s = document.createElement('script');\n      s.src = url;\n      s.async = false;\n      s.onreadystatechange = s.onload = function() {\n        root._bokeh_is_loading--;\n        if (root._bokeh_is_loading === 0) {\n          console.log(\"Bokeh: all BokehJS libraries loaded\");\n          run_callbacks()\n        }\n      };\n      s.onerror = function() {\n        console.warn(\"failed to load library \" + url);\n      };\n      console.log(\"Bokeh: injecting script tag for BokehJS library: \", url);\n      document.getElementsByTagName(\"head\")[0].appendChild(s);\n    }\n  };var element = document.getElementById(\"c9f35db8-4b43-419b-b3f6-f6f9dc5ae75b\");\n  if (element == null) {\n    console.log(\"Bokeh: ERROR: autoload.js configured with elementid 'c9f35db8-4b43-419b-b3f6-f6f9dc5ae75b' but no matching script tag was found. \")\n    return false;\n  }\n\n  var js_urls = [\"https://cdn.pydata.org/bokeh/release/bokeh-0.12.10.min.js\", \"https://cdn.pydata.org/bokeh/release/bokeh-widgets-0.12.10.min.js\", \"https://cdn.pydata.org/bokeh/release/bokeh-tables-0.12.10.min.js\", \"https://cdn.pydata.org/bokeh/release/bokeh-gl-0.12.10.min.js\"];\n\n  var inline_js = [\n    function(Bokeh) {\n      Bokeh.set_log_level(\"info\");\n    },\n    \n    function(Bokeh) {\n      \n    },\n    function(Bokeh) {\n      console.log(\"Bokeh: injecting CSS: https://cdn.pydata.org/bokeh/release/bokeh-0.12.10.min.css\");\n      Bokeh.embed.inject_css(\"https://cdn.pydata.org/bokeh/release/bokeh-0.12.10.min.css\");\n      console.log(\"Bokeh: injecting CSS: https://cdn.pydata.org/bokeh/release/bokeh-widgets-0.12.10.min.css\");\n      Bokeh.embed.inject_css(\"https://cdn.pydata.org/bokeh/release/bokeh-widgets-0.12.10.min.css\");\n      console.log(\"Bokeh: injecting CSS: https://cdn.pydata.org/bokeh/release/bokeh-tables-0.12.10.min.css\");\n      Bokeh.embed.inject_css(\"https://cdn.pydata.org/bokeh/release/bokeh-tables-0.12.10.min.css\");\n    }\n  ];\n\n  function run_inline_js() {\n    \n    if ((root.Bokeh !== undefined) || (force === true)) {\n      for (var i = 0; i < inline_js.length; i++) {\n        inline_js[i].call(root, root.Bokeh);\n      }if (force === true) {\n        display_loaded();\n      }} else if (Date.now() < root._bokeh_timeout) {\n      setTimeout(run_inline_js, 100);\n    } else if (!root._bokeh_failed_load) {\n      console.log(\"Bokeh: BokehJS failed to load within specified timeout.\");\n      root._bokeh_failed_load = true;\n    } else if (force !== true) {\n      var cell = $(document.getElementById(\"c9f35db8-4b43-419b-b3f6-f6f9dc5ae75b\")).parents('.cell').data().cell;\n      cell.output_area.append_execute_result(NB_LOAD_WARNING)\n    }\n\n  }\n\n  if (root._bokeh_is_loading === 0) {\n    console.log(\"Bokeh: BokehJS loaded, going straight to plotting\");\n    run_inline_js();\n  } else {\n    load_libs(js_urls, function() {\n      console.log(\"Bokeh: BokehJS plotting callback run at\", now());\n      run_inline_js();\n    });\n  }\n}(window));"
     },
     "metadata": {},
     "output_type": "display_data"
    }
   ],
   "source": [
    "from bokeh.io import output_notebook\n",
    "output_notebook()"
   ]
  },
  {
   "cell_type": "code",
   "execution_count": 9,
   "metadata": {
    "collapsed": true
   },
   "outputs": [],
   "source": [
    "from bokeh.io import show\n",
    "from bokeh.plotting import figure"
   ]
  },
  {
   "cell_type": "code",
   "execution_count": 11,
   "metadata": {},
   "outputs": [
    {
     "data": {
      "text/plain": [
       "Year\n",
       "2010    27962207.0\n",
       "2010     2901883.0\n",
       "2010    36036159.0\n",
       "2010       84419.0\n",
       "2010    21219954.0\n",
       "Name: population, dtype: float64"
      ]
     },
     "execution_count": 11,
     "metadata": {},
     "output_type": "execute_result"
    }
   ],
   "source": [
    "data.loc[2010].population.head()"
   ]
  },
  {
   "cell_type": "code",
   "execution_count": 60,
   "metadata": {},
   "outputs": [
    {
     "data": {
      "text/html": [
       "\n",
       "<div class=\"bk-root\">\n",
       "    <div class=\"bk-plotdiv\" id=\"03b4acdc-e2ec-4b4f-8d99-73e2966de00e\"></div>\n",
       "</div>"
      ]
     },
     "metadata": {},
     "output_type": "display_data"
    },
    {
     "data": {
      "application/javascript": [
       "(function(root) {\n",
       "  function embed_document(root) {\n",
       "    var docs_json = {\"d4e0f6eb-0ffc-46f1-abad-a2e11858a911\":{\"roots\":{\"references\":[{\"attributes\":{\"active_drag\":\"auto\",\"active_inspect\":\"auto\",\"active_scroll\":\"auto\",\"active_tap\":\"auto\"},\"id\":\"7b653927-c5c8-41d0-a785-c503244ffaf7\",\"type\":\"Toolbar\"},{\"attributes\":{\"formatter\":{\"id\":\"4a8cf29d-78ac-40f5-a822-0362330fbd7a\",\"type\":\"BasicTickFormatter\"},\"plot\":{\"id\":\"88a14a6a-a838-4eb3-8e7c-88c04950e610\",\"subtype\":\"Figure\",\"type\":\"Plot\"},\"ticker\":{\"id\":\"fae72961-8e75-4361-a27c-ee69283b7ee5\",\"type\":\"BasicTicker\"}},\"id\":\"ebdcee54-e90c-4f9a-a4df-e6241fdc3618\",\"type\":\"LinearAxis\"},{\"attributes\":{\"formatter\":{\"id\":\"26508839-8b7f-499b-b254-c3a74aad495a\",\"type\":\"NumeralTickFormatter\"},\"plot\":{\"id\":\"88a14a6a-a838-4eb3-8e7c-88c04950e610\",\"subtype\":\"Figure\",\"type\":\"Plot\"},\"ticker\":{\"id\":\"e510af0c-9383-4540-8599-8ceeb730edeb\",\"type\":\"LogTicker\"}},\"id\":\"58dd6b0d-85f7-4bb0-b851-824283134472\",\"type\":\"LogAxis\"},{\"attributes\":{\"plot\":null,\"text\":\"\"},\"id\":\"06b45fb8-6753-4037-add3-bbdb214ba147\",\"type\":\"Title\"},{\"attributes\":{\"plot\":{\"id\":\"88a14a6a-a838-4eb3-8e7c-88c04950e610\",\"subtype\":\"Figure\",\"type\":\"Plot\"},\"ticker\":{\"id\":\"e510af0c-9383-4540-8599-8ceeb730edeb\",\"type\":\"LogTicker\"}},\"id\":\"35584820-e58c-43cd-b2da-949e1fc50fd7\",\"type\":\"Grid\"},{\"attributes\":{},\"id\":\"fae72961-8e75-4361-a27c-ee69283b7ee5\",\"type\":\"BasicTicker\"},{\"attributes\":{\"fill_color\":{\"value\":\"#1f77b4\"},\"line_color\":{\"value\":\"#1f77b4\"},\"x\":{\"field\":\"x\"},\"y\":{\"field\":\"y\"}},\"id\":\"b6718a76-767c-415e-a7e1-6f53e96fd778\",\"type\":\"Circle\"},{\"attributes\":{\"data_source\":{\"id\":\"41a26125-ea1b-48c1-81ad-ada03b1523ce\",\"type\":\"ColumnDataSource\"},\"glyph\":{\"id\":\"b6718a76-767c-415e-a7e1-6f53e96fd778\",\"type\":\"Circle\"},\"hover_glyph\":null,\"muted_glyph\":null,\"nonselection_glyph\":{\"id\":\"4d1e98b7-0954-430b-81e9-9d46873f8b6c\",\"type\":\"Circle\"},\"selection_glyph\":null,\"view\":{\"id\":\"f1110e3f-c338-4e92-ab64-a339119fa950\",\"type\":\"CDSView\"}},\"id\":\"4866d5f6-2416-4923-b4dd-183d47b9b039\",\"type\":\"GlyphRenderer\"},{\"attributes\":{\"callback\":null,\"end\":1000000,\"start\":100},\"id\":\"4a704463-0b4c-414a-8df4-6e05d4d0c5cd\",\"type\":\"Range1d\"},{\"attributes\":{\"callback\":null},\"id\":\"cbb3c950-a1ef-4719-bc19-b8b8d6d83e8f\",\"type\":\"DataRange1d\"},{\"attributes\":{\"num_minor_ticks\":10},\"id\":\"e510af0c-9383-4540-8599-8ceeb730edeb\",\"type\":\"LogTicker\"},{\"attributes\":{\"below\":[{\"id\":\"58dd6b0d-85f7-4bb0-b851-824283134472\",\"type\":\"LogAxis\"}],\"left\":[{\"id\":\"ebdcee54-e90c-4f9a-a4df-e6241fdc3618\",\"type\":\"LinearAxis\"}],\"plot_height\":200,\"renderers\":[{\"id\":\"58dd6b0d-85f7-4bb0-b851-824283134472\",\"type\":\"LogAxis\"},{\"id\":\"35584820-e58c-43cd-b2da-949e1fc50fd7\",\"type\":\"Grid\"},{\"id\":\"ebdcee54-e90c-4f9a-a4df-e6241fdc3618\",\"type\":\"LinearAxis\"},{\"id\":\"09efab84-1d24-4ffc-8a69-c4015d09b097\",\"type\":\"Grid\"},{\"id\":\"4866d5f6-2416-4923-b4dd-183d47b9b039\",\"type\":\"GlyphRenderer\"}],\"title\":{\"id\":\"06b45fb8-6753-4037-add3-bbdb214ba147\",\"type\":\"Title\"},\"toolbar\":{\"id\":\"7b653927-c5c8-41d0-a785-c503244ffaf7\",\"type\":\"Toolbar\"},\"x_range\":{\"id\":\"4a704463-0b4c-414a-8df4-6e05d4d0c5cd\",\"type\":\"Range1d\"},\"x_scale\":{\"id\":\"e847f20b-b07d-43a9-ab2f-17e66057c7ff\",\"type\":\"LogScale\"},\"y_range\":{\"id\":\"cbb3c950-a1ef-4719-bc19-b8b8d6d83e8f\",\"type\":\"DataRange1d\"},\"y_scale\":{\"id\":\"b0781761-85b8-497d-8c97-3495001fa170\",\"type\":\"LinearScale\"}},\"id\":\"88a14a6a-a838-4eb3-8e7c-88c04950e610\",\"subtype\":\"Figure\",\"type\":\"Plot\"},{\"attributes\":{\"format\":\"$0,\"},\"id\":\"26508839-8b7f-499b-b254-c3a74aad495a\",\"type\":\"NumeralTickFormatter\"},{\"attributes\":{\"dimension\":1,\"plot\":{\"id\":\"88a14a6a-a838-4eb3-8e7c-88c04950e610\",\"subtype\":\"Figure\",\"type\":\"Plot\"},\"ticker\":{\"id\":\"fae72961-8e75-4361-a27c-ee69283b7ee5\",\"type\":\"BasicTicker\"}},\"id\":\"09efab84-1d24-4ffc-8a69-c4015d09b097\",\"type\":\"Grid\"},{\"attributes\":{},\"id\":\"b0781761-85b8-497d-8c97-3495001fa170\",\"type\":\"LinearScale\"},{\"attributes\":{\"callback\":null,\"column_names\":[\"x\",\"y\"],\"data\":{\"x\":{\"__ndarray__\":\"AAAAAACUmUAAAAAAAE/CQAAAAAAAZ8hAAAAAAMAI40AAAAAAAIe7QAAAAADAFdRAAAAAAIDKzkAAAAAAAGy5QAAAAABALuRAAAAAAKDt5EAAAAAAACfPQAAAAADAYNZAAAAAACDN40AAAAAAADajQAAAAACA4M1AAAAAAICrzkAAAAAAgOfjQAAAAACACMBAAAAAAACUmUAAAAAAAHS5QAAAAAAAn7RAAAAAAIDcwUAAAAAAAKXKQAAAAAAAosxAAAAAAMA+8UAAAAAAABPNQAAAAAAAXJZAAAAAAACohkAAAAAAAKKjQAAAAAAAFqRAAAAAAKDo40AAAAAAAHW3QAAAAAAAhJ5AAAAAAADB0kAAAAAAAGvCQAAAAACADMVAAAAAAABIlkAAAAAAAMCDQAAAAAAAnbVAAAAAAAARyEAAAAAAAJimQAAAAABAhdNAAAAAAEAL0kAAAAAAYHrgQAAAAACg/uRAAAAAAADSpEAAAAAAgEPEQAAAAACAL8JAAAAAAIC7xEAAAAAAAEW8QAAAAADgz+BAAAAAAADskEAAAAAAgDPVQAAAAAAA5JBAAAAAAAC6u0AAAAAAIEDjQAAAAAAg8eFAAAAAAAA3z0AAAAAAAAyaQAAAAAAAMrdAAAAAAADX40AAAAAAACaoQAAAAACAgdxAAAAAAADVxUAAAAAAAMG6QAAAAAAAhJJAAAAAAABglUAAAAAAAKa1QAAAAAAAuJdAAAAAAACusEAAAAAAgIvVQAAAAAAg8+JAAAAAAADDsUAAAAAAAJnAQAAAAAAAldBAAAAAAAAVyEAAAAAAgGrlQAAAAABA0dxAAAAAACB14UAAAAAAAFnAQAAAAACAzOBAAAAAAAD8xUAAAAAAQCTTQAAAAAAAjqNAAAAAAAAEm0AAAAAAUGbyQAAAAAAAudFAAAAAAIDDz0AAAAAAAHahQAAAAAAAiIVAAAAAAECN3UAAAAAAgEXUQAAAAACwQPZAAAAAAIDVxUAAAAAAALiVQAAAAAAACIdAAAAAAIDr00AAAAAAAM3GQAAAAAAAAJpAAAAAAIBA20AAAAAAAHSrQAAAAAAAxqlAAAAAAIB3zkAAAAAAADLOQAAAAAAAEqpAAAAAAACqrkAAAAAAABy+QAAAAAAArMpAAAAAAABCuUAAAAAAABCNQAAAAAAACqhAAAAAAIB4wEAAAAAAADyfQAAAAABgYuZAAAAAAAAU30AAAAAAAPyuQAAAAAAASIpAAAAAAAD6s0AAAAAAQLzuQAAAAACABOhAAAAAAAB8sEAAAAAAgCTNQAAAAAAA5qBAAAAAAABgu0AAAAAAgF3DQAAAAAAA7rVAAAAAAADU1EAAAAAAQMDaQAAAAAAAP/9AAAAAAAB+0EAAAAAAACjVQAAAAAAAuJNAAAAAAAAdtUAAAAAAAG6lQAAAAADAQ+ZAAAAAAAAMoUAAAAAAgAbIQAAAAAAA49NAAAAAAAAMlUAAAAAAgJfxQAAAAACA3ddAAAAAAEC220AAAAAAAOybQAAAAAAAMINAAAAAAICbx0AAAAAAAPytQAAAAABAHOBAAAAAAACUvUAAAAAAAKSpQAAAAACA+stAAAAAAADmtkAAAAAAQPLkQAAAAADgdOpAAAAAAADLuUAAAAAAoBXjQAAAAAAAfKBAAAAAAAC+oEAAAAAAAAvJQAAAAAAAxJtAAAAAAAB4k0AAAAAAAFGzQAAAAABAotxAAAAAAIBVxEAAAAAAgEjQQAAAAAAAmMNAAAAAAACsl0AAAAAAAKS+QAAAAACAqOtAAAAAAACy4UAAAAAAoBvoQAAAAADAsdBAAAAAAABZsEAAAAAAAAinQAAAAAAAJtBAAAAAAACGsUAAAAAAAEOwQAAAAAAA9qpAAAAAAAAwl0A=\",\"dtype\":\"float64\",\"shape\":[178]},\"y\":{\"__ndarray__\":\"ZmZmZmZmS0DNzMzMzMxSQJqZmZmZ+VJAzczMzMzsVEAzMzMzM7NNQM3MzMzMzFJAMzMzMzPzUkCamZmZmTlSQM3MzMzMbFRAAAAAAAAgVECamZmZmdlRQJqZmZmZGVJAzczMzMyMU0BmZmZmZiZRQJqZmZmZ2VJAzczMzMyMUUAzMzMzM/NTQGZmZmZmhlFAAAAAAAAAUEAzMzMzMxNRQDMzMzMz01FAAAAAAAAgU0AAAAAAACBQQM3MzMzMjFJAAAAAAACgU0BmZmZmZmZSQJqZmZmZWU5AmpmZmZlZTUCamZmZmblQQAAAAAAAwExAZmZmZmZGVECamZmZmVlSQJqZmZmZGUxAMzMzMzOzU0CamZmZmflSQDMzMzMz01JAAAAAAACAT0BmZmZmZiZMQGZmZmZmJk5AZmZmZmbmU0CamZmZmZlMQM3MzMzMTFNAAAAAAACAU0BmZmZmZmZUQDMzMzMz01NAZmZmZmbmTkCamZmZmZlSQM3MzMzMjFJAMzMzMzOTUUAzMzMzM3NSQJqZmZmZmUxAAAAAAACATkAzMzMzM/NSQAAAAAAAgE5AmpmZmZl5UEAAAAAAAABUQM3MzMzMTFRAAAAAAADATEAAAAAAAIBPQJqZmZmZGVJAzczMzMwMVEAAAAAAAMBPQGZmZmZm5lNAzczMzMzMUUAzMzMzM7NRQM3MzMzMjE1AAAAAAAAASkBmZmZmZqZPQAAAAAAAgEJAMzMzMzPTUUDNzMzMzKxSQAAAAAAAoFRAZmZmZmZGUEAzMzMzM3NRQJqZmZmZeVNAMzMzMzMTUUCamZmZmflTQAAAAAAAYFRAmpmZmZl5VEAAAAAAAOBSQAAAAAAAwFRAZmZmZmZmU0BmZmZmZsZQQM3MzMzMjE9AAAAAAADATkBmZmZmZsZTQAAAAAAAgFJAAAAAAACAU0AzMzMzM7NHQJqZmZmZ2U5AZmZmZmbmUkCamZmZmXlSQAAAAAAAQFRAMzMzMzPzUkBmZmZmZuZPQGZmZmZm5kpAMzMzMzOTUkCamZmZmblTQAAAAAAAQExAMzMzMzNzVEBmZmZmZgZQQM3MzMzMDFBAmpmZmZkZUkDNzMzMzOxSQJqZmZmZmVBAzczMzMyMUUBmZmZmZuZPQM3MzMzMzFJAzczMzMxsUkCamZmZmdlLQAAAAAAAgFBAAAAAAADATUAAAAAAAGBRQAAAAAAAIFRAAAAAAAAgVEAzMzMzM/NSQJqZmZmZWU5AZmZmZmZmTUCamZmZmTlUQAAAAAAAwFJAzczMzMwsUEDNzMzMzExTQJqZmZmZWU1AmpmZmZlZUkAzMzMzMzNTQM3MzMzMbFFAZmZmZmYGU0AAAAAAAOBTQDMzMzMzU1RAAAAAAACAUkDNzMzMzCxRQJqZmZmZ2U9AZmZmZmbmUUBmZmZmZuZQQM3MzMzMbFNAAAAAAABAUEAAAAAAAEBTQDMzMzMzM1JAAAAAAABATEAAAAAAAGBUQAAAAAAA4FJAAAAAAADgU0AAAAAAAIBPQDMzMzMzc0xAmpmZmZlZTEAAAAAAAEBMQGZmZmZmZlRAzczMzMzsUkAAAAAAAABRQAAAAAAAYFFAZmZmZmbmR0AAAAAAAGBUQDMzMzMzk1RAzczMzMwsU0AzMzMzM7NTQJqZmZmZeVFAMzMzMzNzTkBmZmZmZqZSQDMzMzMzc1FAAAAAAACATkBmZmZmZoZRQGZmZmZmxlFAMzMzMzMzU0DNzMzMzOxSQGZmZmZmplBAMzMzMzMzTUCamZmZmZlRQM3MzMzMDFNAAAAAAAAAVEAAAAAAAKBTQAAAAAAAIFNAZmZmZmZGUUAAAAAAAABQQM3MzMzMrFJAMzMzMzPzUkAAAAAAAIBSQM3MzMzMDEtAMzMzMzMzSUA=\",\"dtype\":\"float64\",\"shape\":[178]}}},\"id\":\"41a26125-ea1b-48c1-81ad-ada03b1523ce\",\"type\":\"ColumnDataSource\"},{\"attributes\":{},\"id\":\"4a8cf29d-78ac-40f5-a822-0362330fbd7a\",\"type\":\"BasicTickFormatter\"},{\"attributes\":{\"fill_alpha\":{\"value\":0.1},\"fill_color\":{\"value\":\"#1f77b4\"},\"line_alpha\":{\"value\":0.1},\"line_color\":{\"value\":\"#1f77b4\"},\"x\":{\"field\":\"x\"},\"y\":{\"field\":\"y\"}},\"id\":\"4d1e98b7-0954-430b-81e9-9d46873f8b6c\",\"type\":\"Circle\"},{\"attributes\":{},\"id\":\"e847f20b-b07d-43a9-ab2f-17e66057c7ff\",\"type\":\"LogScale\"},{\"attributes\":{\"source\":{\"id\":\"41a26125-ea1b-48c1-81ad-ada03b1523ce\",\"type\":\"ColumnDataSource\"}},\"id\":\"f1110e3f-c338-4e92-ab64-a339119fa950\",\"type\":\"CDSView\"}],\"root_ids\":[\"88a14a6a-a838-4eb3-8e7c-88c04950e610\"]},\"title\":\"Bokeh Application\",\"version\":\"0.12.10\"}};\n",
       "    var render_items = [{\"docid\":\"d4e0f6eb-0ffc-46f1-abad-a2e11858a911\",\"elementid\":\"03b4acdc-e2ec-4b4f-8d99-73e2966de00e\",\"modelid\":\"88a14a6a-a838-4eb3-8e7c-88c04950e610\"}];\n",
       "\n",
       "    root.Bokeh.embed.embed_items(docs_json, render_items);\n",
       "  }\n",
       "\n",
       "  if (root.Bokeh !== undefined) {\n",
       "    embed_document(root);\n",
       "  } else {\n",
       "    var attempts = 0;\n",
       "    var timer = setInterval(function(root) {\n",
       "      if (root.Bokeh !== undefined) {\n",
       "        embed_document(root);\n",
       "        clearInterval(timer);\n",
       "      }\n",
       "      attempts++;\n",
       "      if (attempts > 100) {\n",
       "        console.log(\"Bokeh: ERROR: Unable to embed document because BokehJS library is missing\")\n",
       "        clearInterval(timer);\n",
       "      }\n",
       "    }, 10, root)\n",
       "  }\n",
       "})(window);"
      ],
      "application/vnd.bokehjs_exec.v0+json": ""
     },
     "metadata": {
      "application/vnd.bokehjs_exec.v0+json": {
       "id": "88a14a6a-a838-4eb3-8e7c-88c04950e610"
      }
     },
     "output_type": "display_data"
    }
   ],
   "source": [
    "from bokeh.models import NumeralTickFormatter\n",
    "p = figure(height = 200, x_axis_type = 'log', x_range = (100, 1000000), tools = ' ')\n",
    "p.circle(x=data.loc[2010].income, y = data.loc[2010].life)\n",
    "p.xaxis[0].formatter = NumeralTickFormatter(format='$0,')\n",
    "show(p)"
   ]
  },
  {
   "cell_type": "code",
   "execution_count": 86,
   "metadata": {},
   "outputs": [
    {
     "data": {
      "text/plain": [
       "['x', 'y', 'country', 'region', 'population']"
      ]
     },
     "execution_count": 86,
     "metadata": {},
     "output_type": "execute_result"
    }
   ],
   "source": [
    "from bokeh.models import ColumnDataSource\n",
    "source = ColumnDataSource(dict(x=data.loc[2010].income, \n",
    "                               y=data.loc[2010].life, \n",
    "                               country = data.loc[2010].Country, \n",
    "                               region = data.loc[2010].region,\n",
    "                              population = data.loc[2010].population))\n",
    "source.column_names"
   ]
  },
  {
   "cell_type": "code",
   "execution_count": 109,
   "metadata": {
    "collapsed": true
   },
   "outputs": [],
   "source": [
    "plot_opts = dict(height = 300, x_axis_type = 'log', x_range = (100,100000), y_range = (0,100))"
   ]
  },
  {
   "cell_type": "code",
   "execution_count": 68,
   "metadata": {
    "collapsed": true
   },
   "outputs": [],
   "source": [
    "p = figure(**plot_opts)"
   ]
  },
  {
   "cell_type": "code",
   "execution_count": 73,
   "metadata": {},
   "outputs": [
    {
     "data": {
      "text/html": [
       "\n",
       "<div class=\"bk-root\">\n",
       "    <div class=\"bk-plotdiv\" id=\"48e76df9-0a0d-4875-ac19-33c68b0c8892\"></div>\n",
       "</div>"
      ]
     },
     "metadata": {},
     "output_type": "display_data"
    },
    {
     "data": {
      "application/javascript": [
       "(function(root) {\n",
       "  function embed_document(root) {\n",
       "    var docs_json = {\"ff0946cb-258b-48af-a5d7-9b147ae4c41b\":{\"roots\":{\"references\":[{\"attributes\":{\"callback\":null,\"column_names\":[\"x\",\"y\"],\"data\":{\"x\":{\"__ndarray__\":\"AAAAAACUmUAAAAAAAE/CQAAAAAAAZ8hAAAAAAMAI40AAAAAAAIe7QAAAAADAFdRAAAAAAIDKzkAAAAAAAGy5QAAAAABALuRAAAAAAKDt5EAAAAAAACfPQAAAAADAYNZAAAAAACDN40AAAAAAADajQAAAAACA4M1AAAAAAICrzkAAAAAAgOfjQAAAAACACMBAAAAAAACUmUAAAAAAAHS5QAAAAAAAn7RAAAAAAIDcwUAAAAAAAKXKQAAAAAAAosxAAAAAAMA+8UAAAAAAABPNQAAAAAAAXJZAAAAAAACohkAAAAAAAKKjQAAAAAAAFqRAAAAAAKDo40AAAAAAAHW3QAAAAAAAhJ5AAAAAAADB0kAAAAAAAGvCQAAAAACADMVAAAAAAABIlkAAAAAAAMCDQAAAAAAAnbVAAAAAAAARyEAAAAAAAJimQAAAAABAhdNAAAAAAEAL0kAAAAAAYHrgQAAAAACg/uRAAAAAAADSpEAAAAAAgEPEQAAAAACAL8JAAAAAAIC7xEAAAAAAAEW8QAAAAADgz+BAAAAAAADskEAAAAAAgDPVQAAAAAAA5JBAAAAAAAC6u0AAAAAAIEDjQAAAAAAg8eFAAAAAAAA3z0AAAAAAAAyaQAAAAAAAMrdAAAAAAADX40AAAAAAACaoQAAAAACAgdxAAAAAAADVxUAAAAAAAMG6QAAAAAAAhJJAAAAAAABglUAAAAAAAKa1QAAAAAAAuJdAAAAAAACusEAAAAAAgIvVQAAAAAAg8+JAAAAAAADDsUAAAAAAAJnAQAAAAAAAldBAAAAAAAAVyEAAAAAAgGrlQAAAAABA0dxAAAAAACB14UAAAAAAAFnAQAAAAACAzOBAAAAAAAD8xUAAAAAAQCTTQAAAAAAAjqNAAAAAAAAEm0AAAAAAUGbyQAAAAAAAudFAAAAAAIDDz0AAAAAAAHahQAAAAAAAiIVAAAAAAECN3UAAAAAAgEXUQAAAAACwQPZAAAAAAIDVxUAAAAAAALiVQAAAAAAACIdAAAAAAIDr00AAAAAAAM3GQAAAAAAAAJpAAAAAAIBA20AAAAAAAHSrQAAAAAAAxqlAAAAAAIB3zkAAAAAAADLOQAAAAAAAEqpAAAAAAACqrkAAAAAAABy+QAAAAAAArMpAAAAAAABCuUAAAAAAABCNQAAAAAAACqhAAAAAAIB4wEAAAAAAADyfQAAAAABgYuZAAAAAAAAU30AAAAAAAPyuQAAAAAAASIpAAAAAAAD6s0AAAAAAQLzuQAAAAACABOhAAAAAAAB8sEAAAAAAgCTNQAAAAAAA5qBAAAAAAABgu0AAAAAAgF3DQAAAAAAA7rVAAAAAAADU1EAAAAAAQMDaQAAAAAAAP/9AAAAAAAB+0EAAAAAAACjVQAAAAAAAuJNAAAAAAAAdtUAAAAAAAG6lQAAAAADAQ+ZAAAAAAAAMoUAAAAAAgAbIQAAAAAAA49NAAAAAAAAMlUAAAAAAgJfxQAAAAACA3ddAAAAAAEC220AAAAAAAOybQAAAAAAAMINAAAAAAICbx0AAAAAAAPytQAAAAABAHOBAAAAAAACUvUAAAAAAAKSpQAAAAACA+stAAAAAAADmtkAAAAAAQPLkQAAAAADgdOpAAAAAAADLuUAAAAAAoBXjQAAAAAAAfKBAAAAAAAC+oEAAAAAAAAvJQAAAAAAAxJtAAAAAAAB4k0AAAAAAAFGzQAAAAABAotxAAAAAAIBVxEAAAAAAgEjQQAAAAAAAmMNAAAAAAACsl0AAAAAAAKS+QAAAAACAqOtAAAAAAACy4UAAAAAAoBvoQAAAAADAsdBAAAAAAABZsEAAAAAAAAinQAAAAAAAJtBAAAAAAACGsUAAAAAAAEOwQAAAAAAA9qpAAAAAAAAwl0A=\",\"dtype\":\"float64\",\"shape\":[178]},\"y\":{\"__ndarray__\":\"ZmZmZmZmS0DNzMzMzMxSQJqZmZmZ+VJAzczMzMzsVEAzMzMzM7NNQM3MzMzMzFJAMzMzMzPzUkCamZmZmTlSQM3MzMzMbFRAAAAAAAAgVECamZmZmdlRQJqZmZmZGVJAzczMzMyMU0BmZmZmZiZRQJqZmZmZ2VJAzczMzMyMUUAzMzMzM/NTQGZmZmZmhlFAAAAAAAAAUEAzMzMzMxNRQDMzMzMz01FAAAAAAAAgU0AAAAAAACBQQM3MzMzMjFJAAAAAAACgU0BmZmZmZmZSQJqZmZmZWU5AmpmZmZlZTUCamZmZmblQQAAAAAAAwExAZmZmZmZGVECamZmZmVlSQJqZmZmZGUxAMzMzMzOzU0CamZmZmflSQDMzMzMz01JAAAAAAACAT0BmZmZmZiZMQGZmZmZmJk5AZmZmZmbmU0CamZmZmZlMQM3MzMzMTFNAAAAAAACAU0BmZmZmZmZUQDMzMzMz01NAZmZmZmbmTkCamZmZmZlSQM3MzMzMjFJAMzMzMzOTUUAzMzMzM3NSQJqZmZmZmUxAAAAAAACATkAzMzMzM/NSQAAAAAAAgE5AmpmZmZl5UEAAAAAAAABUQM3MzMzMTFRAAAAAAADATEAAAAAAAIBPQJqZmZmZGVJAzczMzMwMVEAAAAAAAMBPQGZmZmZm5lNAzczMzMzMUUAzMzMzM7NRQM3MzMzMjE1AAAAAAAAASkBmZmZmZqZPQAAAAAAAgEJAMzMzMzPTUUDNzMzMzKxSQAAAAAAAoFRAZmZmZmZGUEAzMzMzM3NRQJqZmZmZeVNAMzMzMzMTUUCamZmZmflTQAAAAAAAYFRAmpmZmZl5VEAAAAAAAOBSQAAAAAAAwFRAZmZmZmZmU0BmZmZmZsZQQM3MzMzMjE9AAAAAAADATkBmZmZmZsZTQAAAAAAAgFJAAAAAAACAU0AzMzMzM7NHQJqZmZmZ2U5AZmZmZmbmUkCamZmZmXlSQAAAAAAAQFRAMzMzMzPzUkBmZmZmZuZPQGZmZmZm5kpAMzMzMzOTUkCamZmZmblTQAAAAAAAQExAMzMzMzNzVEBmZmZmZgZQQM3MzMzMDFBAmpmZmZkZUkDNzMzMzOxSQJqZmZmZmVBAzczMzMyMUUBmZmZmZuZPQM3MzMzMzFJAzczMzMxsUkCamZmZmdlLQAAAAAAAgFBAAAAAAADATUAAAAAAAGBRQAAAAAAAIFRAAAAAAAAgVEAzMzMzM/NSQJqZmZmZWU5AZmZmZmZmTUCamZmZmTlUQAAAAAAAwFJAzczMzMwsUEDNzMzMzExTQJqZmZmZWU1AmpmZmZlZUkAzMzMzMzNTQM3MzMzMbFFAZmZmZmYGU0AAAAAAAOBTQDMzMzMzU1RAAAAAAACAUkDNzMzMzCxRQJqZmZmZ2U9AZmZmZmbmUUBmZmZmZuZQQM3MzMzMbFNAAAAAAABAUEAAAAAAAEBTQDMzMzMzM1JAAAAAAABATEAAAAAAAGBUQAAAAAAA4FJAAAAAAADgU0AAAAAAAIBPQDMzMzMzc0xAmpmZmZlZTEAAAAAAAEBMQGZmZmZmZlRAzczMzMzsUkAAAAAAAABRQAAAAAAAYFFAZmZmZmbmR0AAAAAAAGBUQDMzMzMzk1RAzczMzMwsU0AzMzMzM7NTQJqZmZmZeVFAMzMzMzNzTkBmZmZmZqZSQDMzMzMzc1FAAAAAAACATkBmZmZmZoZRQGZmZmZmxlFAMzMzMzMzU0DNzMzMzOxSQGZmZmZmplBAMzMzMzMzTUCamZmZmZlRQM3MzMzMDFNAAAAAAAAAVEAAAAAAAKBTQAAAAAAAIFNAZmZmZmZGUUAAAAAAAABQQM3MzMzMrFJAMzMzMzPzUkAAAAAAAIBSQM3MzMzMDEtAMzMzMzMzSUA=\",\"dtype\":\"float64\",\"shape\":[178]}}},\"id\":\"cfbb6bcc-3332-483c-b215-fab1a03f5bea\",\"type\":\"ColumnDataSource\"},{\"attributes\":{},\"id\":\"7341b9e4-2161-4d92-a87e-abc1fa574f02\",\"type\":\"LogScale\"},{\"attributes\":{\"fill_color\":{\"value\":\"#1f77b4\"},\"line_color\":{\"value\":\"#1f77b4\"},\"x\":{\"field\":\"x\"},\"y\":{\"field\":\"y\"}},\"id\":\"1b94cfff-026c-4ec2-8aa6-67c2c15c0f65\",\"type\":\"Circle\"},{\"attributes\":{},\"id\":\"b5776a03-4041-4b8c-89eb-c3af69f48804\",\"type\":\"LinearScale\"},{\"attributes\":{\"bottom_units\":\"screen\",\"fill_alpha\":{\"value\":0.5},\"fill_color\":{\"value\":\"lightgrey\"},\"left_units\":\"screen\",\"level\":\"overlay\",\"line_alpha\":{\"value\":1.0},\"line_color\":{\"value\":\"black\"},\"line_dash\":[4,4],\"line_width\":{\"value\":2},\"plot\":null,\"render_mode\":\"css\",\"right_units\":\"screen\",\"top_units\":\"screen\"},\"id\":\"e4ccf1f5-8354-49f3-8163-c995b2f9f83f\",\"type\":\"BoxAnnotation\"},{\"attributes\":{\"callback\":null,\"end\":100},\"id\":\"b37a6af2-e9b0-40a6-97ca-24e31f787ca1\",\"type\":\"Range1d\"},{\"attributes\":{},\"id\":\"bcb88463-e8e3-42de-89e4-79a69abbf681\",\"type\":\"PanTool\"},{\"attributes\":{},\"id\":\"072dfd34-c439-44e6-ab45-869cd303b0c3\",\"type\":\"BasicTickFormatter\"},{\"attributes\":{\"active_drag\":\"auto\",\"active_inspect\":\"auto\",\"active_scroll\":\"auto\",\"active_tap\":\"auto\",\"tools\":[{\"id\":\"bcb88463-e8e3-42de-89e4-79a69abbf681\",\"type\":\"PanTool\"},{\"id\":\"6006bdbd-72e8-468b-8799-44488fe1d5ba\",\"type\":\"WheelZoomTool\"},{\"id\":\"61bf666b-6562-4ac3-8ac4-e7a2be1f85e3\",\"type\":\"BoxZoomTool\"},{\"id\":\"f3f3c8b3-25b6-4c24-9bcf-f48405b14a15\",\"type\":\"SaveTool\"},{\"id\":\"70a044be-bb5b-4aaa-802a-2a12db74d11b\",\"type\":\"ResetTool\"},{\"id\":\"b7bb17d3-f264-4300-bd88-0300db06f422\",\"type\":\"HelpTool\"}]},\"id\":\"5865497c-8374-4bfb-be23-a67eaf69d3e5\",\"type\":\"Toolbar\"},{\"attributes\":{},\"id\":\"6006bdbd-72e8-468b-8799-44488fe1d5ba\",\"type\":\"WheelZoomTool\"},{\"attributes\":{\"source\":{\"id\":\"ba14fa1d-19f5-4da4-8903-29584f584c8a\",\"type\":\"ColumnDataSource\"}},\"id\":\"f7465577-5603-459b-8b3e-f566fff620bc\",\"type\":\"CDSView\"},{\"attributes\":{\"fill_alpha\":{\"value\":0.1},\"fill_color\":{\"value\":\"#1f77b4\"},\"line_alpha\":{\"value\":0.1},\"line_color\":{\"value\":\"#1f77b4\"},\"x\":{\"field\":\"x\"},\"y\":{\"field\":\"y\"}},\"id\":\"8b089bbd-37e8-40de-969e-e85cd630c9f4\",\"type\":\"Circle\"},{\"attributes\":{\"overlay\":{\"id\":\"e4ccf1f5-8354-49f3-8163-c995b2f9f83f\",\"type\":\"BoxAnnotation\"}},\"id\":\"61bf666b-6562-4ac3-8ac4-e7a2be1f85e3\",\"type\":\"BoxZoomTool\"},{\"attributes\":{},\"id\":\"f3f3c8b3-25b6-4c24-9bcf-f48405b14a15\",\"type\":\"SaveTool\"},{\"attributes\":{\"callback\":null,\"end\":100000,\"start\":100},\"id\":\"a263eb14-bf2c-43cf-9c4f-dea9dc76fce7\",\"type\":\"Range1d\"},{\"attributes\":{},\"id\":\"70a044be-bb5b-4aaa-802a-2a12db74d11b\",\"type\":\"ResetTool\"},{\"attributes\":{},\"id\":\"b7bb17d3-f264-4300-bd88-0300db06f422\",\"type\":\"HelpTool\"},{\"attributes\":{\"fill_alpha\":{\"value\":0.1},\"fill_color\":{\"value\":\"#1f77b4\"},\"line_alpha\":{\"value\":0.1},\"line_color\":{\"value\":\"#1f77b4\"},\"x\":{\"field\":\"x\"},\"y\":{\"field\":\"y\"}},\"id\":\"fb25877b-8a03-476b-8628-c0cc2b631d87\",\"type\":\"Circle\"},{\"attributes\":{\"fill_color\":{\"value\":\"#1f77b4\"},\"line_color\":{\"value\":\"#1f77b4\"},\"x\":{\"field\":\"x\"},\"y\":{\"field\":\"y\"}},\"id\":\"7cb328bc-a0c4-4a2f-a040-b67714f588d3\",\"type\":\"Circle\"},{\"attributes\":{\"source\":{\"id\":\"ba14fa1d-19f5-4da4-8903-29584f584c8a\",\"type\":\"ColumnDataSource\"}},\"id\":\"be2e6a87-5318-4b6e-8127-14b6903bbf7b\",\"type\":\"CDSView\"},{\"attributes\":{\"source\":{\"id\":\"cfbb6bcc-3332-483c-b215-fab1a03f5bea\",\"type\":\"ColumnDataSource\"}},\"id\":\"f1c95ea8-aa08-407c-90a9-df85de824b31\",\"type\":\"CDSView\"},{\"attributes\":{\"fill_color\":{\"value\":\"#1f77b4\"},\"line_color\":{\"value\":\"#1f77b4\"},\"x\":{\"field\":\"x\"},\"y\":{\"field\":\"y\"}},\"id\":\"9c92aeff-a2f9-4c25-ad6d-ff28407a43ab\",\"type\":\"Circle\"},{\"attributes\":{\"data_source\":{\"id\":\"cfbb6bcc-3332-483c-b215-fab1a03f5bea\",\"type\":\"ColumnDataSource\"},\"glyph\":{\"id\":\"7cb328bc-a0c4-4a2f-a040-b67714f588d3\",\"type\":\"Circle\"},\"hover_glyph\":null,\"muted_glyph\":null,\"nonselection_glyph\":{\"id\":\"fb25877b-8a03-476b-8628-c0cc2b631d87\",\"type\":\"Circle\"},\"selection_glyph\":null,\"view\":{\"id\":\"f1c95ea8-aa08-407c-90a9-df85de824b31\",\"type\":\"CDSView\"}},\"id\":\"14c88ec9-8ba6-4baf-9270-47c2e9a0c3fb\",\"type\":\"GlyphRenderer\"},{\"attributes\":{\"data_source\":{\"id\":\"ba14fa1d-19f5-4da4-8903-29584f584c8a\",\"type\":\"ColumnDataSource\"},\"glyph\":{\"id\":\"1b94cfff-026c-4ec2-8aa6-67c2c15c0f65\",\"type\":\"Circle\"},\"hover_glyph\":null,\"muted_glyph\":null,\"nonselection_glyph\":{\"id\":\"955807d2-637a-4ef0-9b42-1fac010e8789\",\"type\":\"Circle\"},\"selection_glyph\":null,\"view\":{\"id\":\"f7465577-5603-459b-8b3e-f566fff620bc\",\"type\":\"CDSView\"}},\"id\":\"411f9e7a-2255-4b51-820e-89024955507e\",\"type\":\"GlyphRenderer\"},{\"attributes\":{\"plot\":{\"id\":\"7ad2cd06-4d03-4ad9-bc7a-a1087722ac5f\",\"subtype\":\"Figure\",\"type\":\"Plot\"},\"ticker\":{\"id\":\"cdb93f14-9bb9-4e8c-8fa9-9c9c9096ae57\",\"type\":\"LogTicker\"}},\"id\":\"19fc554f-df33-44cc-974c-f06d4f7f12da\",\"type\":\"Grid\"},{\"attributes\":{\"ticker\":null},\"id\":\"66517e98-457b-49b0-9128-2dd178a71203\",\"type\":\"LogTickFormatter\"},{\"attributes\":{\"callback\":null,\"column_names\":[\"x\",\"y\",\"country\"],\"data\":{\"country\":[\"Afghanistan\",\"Albania\",\"Algeria\",\"Andorra\",\"Angola\",\"Antigua and Barbuda\",\"Argentina\",\"Armenia\",\"Australia\",\"Austria\",\"Azerbaijan\",\"Bahamas\",\"Bahrain\",\"Bangladesh\",\"Barbados\",\"Belarus\",\"Belgium\",\"Belize\",\"Benin\",\"Bhutan\",\"Bolivia\",\"Bosnia and Herzegovina\",\"Botswana\",\"Brazil\",\"Brunei\",\"Bulgaria\",\"Burkina Faso\",\"Burundi\",\"Cambodia\",\"Cameroon\",\"Canada\",\"Cape Verde\",\"Chad\",\"Chile\",\"China\",\"Colombia\",\"Comoros\",\"Congo, Dem. Rep.\",\"Congo, Rep.\",\"Costa Rica\",\"Cote d'Ivoire\",\"Croatia\",\"Cuba\",\"Cyprus\",\"Denmark\",\"Djibouti\",\"Dominica\",\"Ecuador\",\"Egypt\",\"El Salvador\",\"Equatorial Guinea\",\"Eritrea\",\"Estonia\",\"Ethiopia\",\"Fiji\",\"Finland\",\"France\",\"Gabon\",\"Gambia\",\"Georgia\",\"Germany\",\"Ghana\",\"Greece\",\"Grenada\",\"Guatemala\",\"Guinea\",\"Guinea-Bissau\",\"Guyana\",\"Haiti\",\"Honduras\",\"Hungary\",\"Iceland\",\"India\",\"Indonesia\",\"Iran\",\"Iraq\",\"Ireland\",\"Israel\",\"Italy\",\"Jamaica\",\"Japan\",\"Jordan\",\"Kazakhstan\",\"Kenya\",\"Kiribati\",\"Kuwait\",\"Latvia\",\"Lebanon\",\"Lesotho\",\"Liberia\",\"Libya\",\"Lithuania\",\"Luxembourg\",\"Macedonia, FYR\",\"Madagascar\",\"Malawi\",\"Malaysia\",\"Maldives\",\"Mali\",\"Malta\",\"Marshall Islands\",\"Mauritania\",\"Mauritius\",\"Mexico\",\"Micronesia, Fed. Sts.\",\"Moldova\",\"Mongolia\",\"Montenegro\",\"Morocco\",\"Mozambique\",\"Myanmar\",\"Namibia\",\"Nepal\",\"Netherlands\",\"New Zealand\",\"Nicaragua\",\"Niger\",\"Nigeria\",\"Norway\",\"Oman\",\"Pakistan\",\"Panama\",\"Papua New Guinea\",\"Paraguay\",\"Peru\",\"Philippines\",\"Poland\",\"Portugal\",\"Qatar\",\"Romania\",\"Russia\",\"Rwanda\",\"Samoa\",\"Sao Tome and Principe\",\"Saudi Arabia\",\"Senegal\",\"Serbia\",\"Seychelles\",\"Sierra Leone\",\"Singapore\",\"Slovak Republic\",\"Slovenia\",\"Solomon Islands\",\"Somalia\",\"South Africa\",\"South Sudan\",\"Spain\",\"Sri Lanka\",\"Sudan\",\"Suriname\",\"Swaziland\",\"Sweden\",\"Switzerland\",\"Syria\",\"Taiwan\",\"Tajikistan\",\"Tanzania\",\"Thailand\",\"Timor-Leste\",\"Togo\",\"Tonga\",\"Trinidad and Tobago\",\"Tunisia\",\"Turkey\",\"Turkmenistan\",\"Uganda\",\"Ukraine\",\"United Arab Emirates\",\"United Kingdom\",\"United States\",\"Uruguay\",\"Uzbekistan\",\"Vanuatu\",\"Venezuela\",\"Vietnam\",\"West Bank and Gaza\",\"Zambia\",\"Zimbabwe\"],\"x\":{\"__ndarray__\":\"AAAAAACUmUAAAAAAAE/CQAAAAAAAZ8hAAAAAAMAI40AAAAAAAIe7QAAAAADAFdRAAAAAAIDKzkAAAAAAAGy5QAAAAABALuRAAAAAAKDt5EAAAAAAACfPQAAAAADAYNZAAAAAACDN40AAAAAAADajQAAAAACA4M1AAAAAAICrzkAAAAAAgOfjQAAAAACACMBAAAAAAACUmUAAAAAAAHS5QAAAAAAAn7RAAAAAAIDcwUAAAAAAAKXKQAAAAAAAosxAAAAAAMA+8UAAAAAAABPNQAAAAAAAXJZAAAAAAACohkAAAAAAAKKjQAAAAAAAFqRAAAAAAKDo40AAAAAAAHW3QAAAAAAAhJ5AAAAAAADB0kAAAAAAAGvCQAAAAACADMVAAAAAAABIlkAAAAAAAMCDQAAAAAAAnbVAAAAAAAARyEAAAAAAAJimQAAAAABAhdNAAAAAAEAL0kAAAAAAYHrgQAAAAACg/uRAAAAAAADSpEAAAAAAgEPEQAAAAACAL8JAAAAAAIC7xEAAAAAAAEW8QAAAAADgz+BAAAAAAADskEAAAAAAgDPVQAAAAAAA5JBAAAAAAAC6u0AAAAAAIEDjQAAAAAAg8eFAAAAAAAA3z0AAAAAAAAyaQAAAAAAAMrdAAAAAAADX40AAAAAAACaoQAAAAACAgdxAAAAAAADVxUAAAAAAAMG6QAAAAAAAhJJAAAAAAABglUAAAAAAAKa1QAAAAAAAuJdAAAAAAACusEAAAAAAgIvVQAAAAAAg8+JAAAAAAADDsUAAAAAAAJnAQAAAAAAAldBAAAAAAAAVyEAAAAAAgGrlQAAAAABA0dxAAAAAACB14UAAAAAAAFnAQAAAAACAzOBAAAAAAAD8xUAAAAAAQCTTQAAAAAAAjqNAAAAAAAAEm0AAAAAAUGbyQAAAAAAAudFAAAAAAIDDz0AAAAAAAHahQAAAAAAAiIVAAAAAAECN3UAAAAAAgEXUQAAAAACwQPZAAAAAAIDVxUAAAAAAALiVQAAAAAAACIdAAAAAAIDr00AAAAAAAM3GQAAAAAAAAJpAAAAAAIBA20AAAAAAAHSrQAAAAAAAxqlAAAAAAIB3zkAAAAAAADLOQAAAAAAAEqpAAAAAAACqrkAAAAAAABy+QAAAAAAArMpAAAAAAABCuUAAAAAAABCNQAAAAAAACqhAAAAAAIB4wEAAAAAAADyfQAAAAABgYuZAAAAAAAAU30AAAAAAAPyuQAAAAAAASIpAAAAAAAD6s0AAAAAAQLzuQAAAAACABOhAAAAAAAB8sEAAAAAAgCTNQAAAAAAA5qBAAAAAAABgu0AAAAAAgF3DQAAAAAAA7rVAAAAAAADU1EAAAAAAQMDaQAAAAAAAP/9AAAAAAAB+0EAAAAAAACjVQAAAAAAAuJNAAAAAAAAdtUAAAAAAAG6lQAAAAADAQ+ZAAAAAAAAMoUAAAAAAgAbIQAAAAAAA49NAAAAAAAAMlUAAAAAAgJfxQAAAAACA3ddAAAAAAEC220AAAAAAAOybQAAAAAAAMINAAAAAAICbx0AAAAAAAPytQAAAAABAHOBAAAAAAACUvUAAAAAAAKSpQAAAAACA+stAAAAAAADmtkAAAAAAQPLkQAAAAADgdOpAAAAAAADLuUAAAAAAoBXjQAAAAAAAfKBAAAAAAAC+oEAAAAAAAAvJQAAAAAAAxJtAAAAAAAB4k0AAAAAAAFGzQAAAAABAotxAAAAAAIBVxEAAAAAAgEjQQAAAAAAAmMNAAAAAAACsl0AAAAAAAKS+QAAAAACAqOtAAAAAAACy4UAAAAAAoBvoQAAAAADAsdBAAAAAAABZsEAAAAAAAAinQAAAAAAAJtBAAAAAAACGsUAAAAAAAEOwQAAAAAAA9qpAAAAAAAAwl0A=\",\"dtype\":\"float64\",\"shape\":[178]},\"y\":{\"__ndarray__\":\"ZmZmZmZmS0DNzMzMzMxSQJqZmZmZ+VJAzczMzMzsVEAzMzMzM7NNQM3MzMzMzFJAMzMzMzPzUkCamZmZmTlSQM3MzMzMbFRAAAAAAAAgVECamZmZmdlRQJqZmZmZGVJAzczMzMyMU0BmZmZmZiZRQJqZmZmZ2VJAzczMzMyMUUAzMzMzM/NTQGZmZmZmhlFAAAAAAAAAUEAzMzMzMxNRQDMzMzMz01FAAAAAAAAgU0AAAAAAACBQQM3MzMzMjFJAAAAAAACgU0BmZmZmZmZSQJqZmZmZWU5AmpmZmZlZTUCamZmZmblQQAAAAAAAwExAZmZmZmZGVECamZmZmVlSQJqZmZmZGUxAMzMzMzOzU0CamZmZmflSQDMzMzMz01JAAAAAAACAT0BmZmZmZiZMQGZmZmZmJk5AZmZmZmbmU0CamZmZmZlMQM3MzMzMTFNAAAAAAACAU0BmZmZmZmZUQDMzMzMz01NAZmZmZmbmTkCamZmZmZlSQM3MzMzMjFJAMzMzMzOTUUAzMzMzM3NSQJqZmZmZmUxAAAAAAACATkAzMzMzM/NSQAAAAAAAgE5AmpmZmZl5UEAAAAAAAABUQM3MzMzMTFRAAAAAAADATEAAAAAAAIBPQJqZmZmZGVJAzczMzMwMVEAAAAAAAMBPQGZmZmZm5lNAzczMzMzMUUAzMzMzM7NRQM3MzMzMjE1AAAAAAAAASkBmZmZmZqZPQAAAAAAAgEJAMzMzMzPTUUDNzMzMzKxSQAAAAAAAoFRAZmZmZmZGUEAzMzMzM3NRQJqZmZmZeVNAMzMzMzMTUUCamZmZmflTQAAAAAAAYFRAmpmZmZl5VEAAAAAAAOBSQAAAAAAAwFRAZmZmZmZmU0BmZmZmZsZQQM3MzMzMjE9AAAAAAADATkBmZmZmZsZTQAAAAAAAgFJAAAAAAACAU0AzMzMzM7NHQJqZmZmZ2U5AZmZmZmbmUkCamZmZmXlSQAAAAAAAQFRAMzMzMzPzUkBmZmZmZuZPQGZmZmZm5kpAMzMzMzOTUkCamZmZmblTQAAAAAAAQExAMzMzMzNzVEBmZmZmZgZQQM3MzMzMDFBAmpmZmZkZUkDNzMzMzOxSQJqZmZmZmVBAzczMzMyMUUBmZmZmZuZPQM3MzMzMzFJAzczMzMxsUkCamZmZmdlLQAAAAAAAgFBAAAAAAADATUAAAAAAAGBRQAAAAAAAIFRAAAAAAAAgVEAzMzMzM/NSQJqZmZmZWU5AZmZmZmZmTUCamZmZmTlUQAAAAAAAwFJAzczMzMwsUEDNzMzMzExTQJqZmZmZWU1AmpmZmZlZUkAzMzMzMzNTQM3MzMzMbFFAZmZmZmYGU0AAAAAAAOBTQDMzMzMzU1RAAAAAAACAUkDNzMzMzCxRQJqZmZmZ2U9AZmZmZmbmUUBmZmZmZuZQQM3MzMzMbFNAAAAAAABAUEAAAAAAAEBTQDMzMzMzM1JAAAAAAABATEAAAAAAAGBUQAAAAAAA4FJAAAAAAADgU0AAAAAAAIBPQDMzMzMzc0xAmpmZmZlZTEAAAAAAAEBMQGZmZmZmZlRAzczMzMzsUkAAAAAAAABRQAAAAAAAYFFAZmZmZmbmR0AAAAAAAGBUQDMzMzMzk1RAzczMzMwsU0AzMzMzM7NTQJqZmZmZeVFAMzMzMzNzTkBmZmZmZqZSQDMzMzMzc1FAAAAAAACATkBmZmZmZoZRQGZmZmZmxlFAMzMzMzMzU0DNzMzMzOxSQGZmZmZmplBAMzMzMzMzTUCamZmZmZlRQM3MzMzMDFNAAAAAAAAAVEAAAAAAAKBTQAAAAAAAIFNAZmZmZmZGUUAAAAAAAABQQM3MzMzMrFJAMzMzMzPzUkAAAAAAAIBSQM3MzMzMDEtAMzMzMzMzSUA=\",\"dtype\":\"float64\",\"shape\":[178]}}},\"id\":\"ba14fa1d-19f5-4da4-8903-29584f584c8a\",\"type\":\"ColumnDataSource\"},{\"attributes\":{\"below\":[{\"id\":\"f006de6f-3b00-4a10-a552-c20057e1eb7d\",\"type\":\"LogAxis\"}],\"css_classes\":null,\"left\":[{\"id\":\"2d89aeae-d9c4-4a79-b7f0-b699b1fbb362\",\"type\":\"LinearAxis\"}],\"plot_height\":200,\"renderers\":[{\"id\":\"f006de6f-3b00-4a10-a552-c20057e1eb7d\",\"type\":\"LogAxis\"},{\"id\":\"19fc554f-df33-44cc-974c-f06d4f7f12da\",\"type\":\"Grid\"},{\"id\":\"2d89aeae-d9c4-4a79-b7f0-b699b1fbb362\",\"type\":\"LinearAxis\"},{\"id\":\"4d19ed35-f924-47b2-9115-1ebc974dddce\",\"type\":\"Grid\"},{\"id\":\"e4ccf1f5-8354-49f3-8163-c995b2f9f83f\",\"type\":\"BoxAnnotation\"},{\"id\":\"14c88ec9-8ba6-4baf-9270-47c2e9a0c3fb\",\"type\":\"GlyphRenderer\"},{\"id\":\"411f9e7a-2255-4b51-820e-89024955507e\",\"type\":\"GlyphRenderer\"},{\"id\":\"ba6e1060-be9f-4a6c-a436-504121795f9f\",\"type\":\"GlyphRenderer\"}],\"title\":{\"id\":\"02817449-a98a-46dd-900e-79f350bee18b\",\"type\":\"Title\"},\"toolbar\":{\"id\":\"5865497c-8374-4bfb-be23-a67eaf69d3e5\",\"type\":\"Toolbar\"},\"x_range\":{\"id\":\"a263eb14-bf2c-43cf-9c4f-dea9dc76fce7\",\"type\":\"Range1d\"},\"x_scale\":{\"id\":\"7341b9e4-2161-4d92-a87e-abc1fa574f02\",\"type\":\"LogScale\"},\"y_range\":{\"id\":\"b37a6af2-e9b0-40a6-97ca-24e31f787ca1\",\"type\":\"Range1d\"},\"y_scale\":{\"id\":\"b5776a03-4041-4b8c-89eb-c3af69f48804\",\"type\":\"LinearScale\"}},\"id\":\"7ad2cd06-4d03-4ad9-bc7a-a1087722ac5f\",\"subtype\":\"Figure\",\"type\":\"Plot\"},{\"attributes\":{\"plot\":null,\"text\":\"\"},\"id\":\"02817449-a98a-46dd-900e-79f350bee18b\",\"type\":\"Title\"},{\"attributes\":{\"formatter\":{\"id\":\"072dfd34-c439-44e6-ab45-869cd303b0c3\",\"type\":\"BasicTickFormatter\"},\"plot\":{\"id\":\"7ad2cd06-4d03-4ad9-bc7a-a1087722ac5f\",\"subtype\":\"Figure\",\"type\":\"Plot\"},\"ticker\":{\"id\":\"8d7db132-9d19-4793-a5b5-c367916b4ead\",\"type\":\"BasicTicker\"}},\"id\":\"2d89aeae-d9c4-4a79-b7f0-b699b1fbb362\",\"type\":\"LinearAxis\"},{\"attributes\":{},\"id\":\"8d7db132-9d19-4793-a5b5-c367916b4ead\",\"type\":\"BasicTicker\"},{\"attributes\":{\"formatter\":{\"id\":\"66517e98-457b-49b0-9128-2dd178a71203\",\"type\":\"LogTickFormatter\"},\"plot\":{\"id\":\"7ad2cd06-4d03-4ad9-bc7a-a1087722ac5f\",\"subtype\":\"Figure\",\"type\":\"Plot\"},\"ticker\":{\"id\":\"cdb93f14-9bb9-4e8c-8fa9-9c9c9096ae57\",\"type\":\"LogTicker\"}},\"id\":\"f006de6f-3b00-4a10-a552-c20057e1eb7d\",\"type\":\"LogAxis\"},{\"attributes\":{\"dimension\":1,\"plot\":{\"id\":\"7ad2cd06-4d03-4ad9-bc7a-a1087722ac5f\",\"subtype\":\"Figure\",\"type\":\"Plot\"},\"ticker\":{\"id\":\"8d7db132-9d19-4793-a5b5-c367916b4ead\",\"type\":\"BasicTicker\"}},\"id\":\"4d19ed35-f924-47b2-9115-1ebc974dddce\",\"type\":\"Grid\"},{\"attributes\":{\"data_source\":{\"id\":\"ba14fa1d-19f5-4da4-8903-29584f584c8a\",\"type\":\"ColumnDataSource\"},\"glyph\":{\"id\":\"9c92aeff-a2f9-4c25-ad6d-ff28407a43ab\",\"type\":\"Circle\"},\"hover_glyph\":null,\"muted_glyph\":null,\"nonselection_glyph\":{\"id\":\"8b089bbd-37e8-40de-969e-e85cd630c9f4\",\"type\":\"Circle\"},\"selection_glyph\":null,\"view\":{\"id\":\"be2e6a87-5318-4b6e-8127-14b6903bbf7b\",\"type\":\"CDSView\"}},\"id\":\"ba6e1060-be9f-4a6c-a436-504121795f9f\",\"type\":\"GlyphRenderer\"},{\"attributes\":{\"fill_alpha\":{\"value\":0.1},\"fill_color\":{\"value\":\"#1f77b4\"},\"line_alpha\":{\"value\":0.1},\"line_color\":{\"value\":\"#1f77b4\"},\"x\":{\"field\":\"x\"},\"y\":{\"field\":\"y\"}},\"id\":\"955807d2-637a-4ef0-9b42-1fac010e8789\",\"type\":\"Circle\"},{\"attributes\":{\"num_minor_ticks\":10},\"id\":\"cdb93f14-9bb9-4e8c-8fa9-9c9c9096ae57\",\"type\":\"LogTicker\"}],\"root_ids\":[\"7ad2cd06-4d03-4ad9-bc7a-a1087722ac5f\"]},\"title\":\"Bokeh Application\",\"version\":\"0.12.10\"}};\n",
       "    var render_items = [{\"docid\":\"ff0946cb-258b-48af-a5d7-9b147ae4c41b\",\"elementid\":\"48e76df9-0a0d-4875-ac19-33c68b0c8892\",\"modelid\":\"7ad2cd06-4d03-4ad9-bc7a-a1087722ac5f\"}];\n",
       "\n",
       "    root.Bokeh.embed.embed_items(docs_json, render_items);\n",
       "  }\n",
       "\n",
       "  if (root.Bokeh !== undefined) {\n",
       "    embed_document(root);\n",
       "  } else {\n",
       "    var attempts = 0;\n",
       "    var timer = setInterval(function(root) {\n",
       "      if (root.Bokeh !== undefined) {\n",
       "        embed_document(root);\n",
       "        clearInterval(timer);\n",
       "      }\n",
       "      attempts++;\n",
       "      if (attempts > 100) {\n",
       "        console.log(\"Bokeh: ERROR: Unable to embed document because BokehJS library is missing\")\n",
       "        clearInterval(timer);\n",
       "      }\n",
       "    }, 10, root)\n",
       "  }\n",
       "})(window);"
      ],
      "application/vnd.bokehjs_exec.v0+json": ""
     },
     "metadata": {
      "application/vnd.bokehjs_exec.v0+json": {
       "id": "7ad2cd06-4d03-4ad9-bc7a-a1087722ac5f"
      }
     },
     "output_type": "display_data"
    }
   ],
   "source": [
    "p.circle(x='x', y = 'y', source = source)\n",
    "show(p)"
   ]
  },
  {
   "cell_type": "code",
   "execution_count": 74,
   "metadata": {
    "collapsed": true
   },
   "outputs": [],
   "source": [
    "from bokeh.models import HoverTool"
   ]
  },
  {
   "cell_type": "code",
   "execution_count": 85,
   "metadata": {},
   "outputs": [
    {
     "data": {
      "text/html": [
       "\n",
       "<div class=\"bk-root\">\n",
       "    <div class=\"bk-plotdiv\" id=\"62909d8d-4b9f-493a-b7b7-69aeabac519b\"></div>\n",
       "</div>"
      ]
     },
     "metadata": {},
     "output_type": "display_data"
    },
    {
     "data": {
      "application/javascript": [
       "(function(root) {\n",
       "  function embed_document(root) {\n",
       "    var docs_json = {\"57553e89-5a5c-46ae-9290-245c9f759bd9\":{\"roots\":{\"references\":[{\"attributes\":{\"formatter\":{\"id\":\"324897b8-c2d0-4992-ae2e-92869ab18ea6\",\"type\":\"BasicTickFormatter\"},\"plot\":{\"id\":\"1448e78d-1cf0-4540-aa39-6607bb53cfc3\",\"subtype\":\"Figure\",\"type\":\"Plot\"},\"ticker\":{\"id\":\"5c1d1512-52cd-4edd-bafb-548cb5dbdd61\",\"type\":\"BasicTicker\"}},\"id\":\"4c1e975c-4de4-474d-9604-d8697b33d992\",\"type\":\"LinearAxis\"},{\"attributes\":{},\"id\":\"4bdb14d4-03e3-401c-ad14-9dfa59df063b\",\"type\":\"LogScale\"},{\"attributes\":{\"plot\":{\"id\":\"1448e78d-1cf0-4540-aa39-6607bb53cfc3\",\"subtype\":\"Figure\",\"type\":\"Plot\"},\"ticker\":{\"id\":\"1fbff7c9-c501-4e80-a3e5-31dcc19d491c\",\"type\":\"LogTicker\"}},\"id\":\"5c100c62-3c16-42bd-9694-bd84b48fa9d6\",\"type\":\"Grid\"},{\"attributes\":{\"data_source\":{\"id\":\"f16b09fe-92ab-49b2-ac69-dc624fc35f7a\",\"type\":\"ColumnDataSource\"},\"glyph\":{\"id\":\"9be680d3-beb4-4b0b-a232-4d089c027945\",\"type\":\"Circle\"},\"hover_glyph\":null,\"muted_glyph\":null,\"nonselection_glyph\":{\"id\":\"e19a04b1-874b-4524-9c02-44d4304b8610\",\"type\":\"Circle\"},\"selection_glyph\":null,\"view\":{\"id\":\"ffce45c1-b334-4fea-a0df-f9daa40cebc4\",\"type\":\"CDSView\"}},\"id\":\"1e0ee5d0-197e-462a-bea5-d5aa939a89a1\",\"type\":\"GlyphRenderer\"},{\"attributes\":{\"callback\":null,\"tooltips\":\"@region\"},\"id\":\"6a905efb-603a-457b-b9b6-25f8527b8133\",\"type\":\"HoverTool\"},{\"attributes\":{\"callback\":null,\"column_names\":[\"x\",\"y\",\"country\",\"region\"],\"data\":{\"country\":[\"Afghanistan\",\"Albania\",\"Algeria\",\"Andorra\",\"Angola\",\"Antigua and Barbuda\",\"Argentina\",\"Armenia\",\"Australia\",\"Austria\",\"Azerbaijan\",\"Bahamas\",\"Bahrain\",\"Bangladesh\",\"Barbados\",\"Belarus\",\"Belgium\",\"Belize\",\"Benin\",\"Bhutan\",\"Bolivia\",\"Bosnia and Herzegovina\",\"Botswana\",\"Brazil\",\"Brunei\",\"Bulgaria\",\"Burkina Faso\",\"Burundi\",\"Cambodia\",\"Cameroon\",\"Canada\",\"Cape Verde\",\"Chad\",\"Chile\",\"China\",\"Colombia\",\"Comoros\",\"Congo, Dem. Rep.\",\"Congo, Rep.\",\"Costa Rica\",\"Cote d'Ivoire\",\"Croatia\",\"Cuba\",\"Cyprus\",\"Denmark\",\"Djibouti\",\"Dominica\",\"Ecuador\",\"Egypt\",\"El Salvador\",\"Equatorial Guinea\",\"Eritrea\",\"Estonia\",\"Ethiopia\",\"Fiji\",\"Finland\",\"France\",\"Gabon\",\"Gambia\",\"Georgia\",\"Germany\",\"Ghana\",\"Greece\",\"Grenada\",\"Guatemala\",\"Guinea\",\"Guinea-Bissau\",\"Guyana\",\"Haiti\",\"Honduras\",\"Hungary\",\"Iceland\",\"India\",\"Indonesia\",\"Iran\",\"Iraq\",\"Ireland\",\"Israel\",\"Italy\",\"Jamaica\",\"Japan\",\"Jordan\",\"Kazakhstan\",\"Kenya\",\"Kiribati\",\"Kuwait\",\"Latvia\",\"Lebanon\",\"Lesotho\",\"Liberia\",\"Libya\",\"Lithuania\",\"Luxembourg\",\"Macedonia, FYR\",\"Madagascar\",\"Malawi\",\"Malaysia\",\"Maldives\",\"Mali\",\"Malta\",\"Marshall Islands\",\"Mauritania\",\"Mauritius\",\"Mexico\",\"Micronesia, Fed. Sts.\",\"Moldova\",\"Mongolia\",\"Montenegro\",\"Morocco\",\"Mozambique\",\"Myanmar\",\"Namibia\",\"Nepal\",\"Netherlands\",\"New Zealand\",\"Nicaragua\",\"Niger\",\"Nigeria\",\"Norway\",\"Oman\",\"Pakistan\",\"Panama\",\"Papua New Guinea\",\"Paraguay\",\"Peru\",\"Philippines\",\"Poland\",\"Portugal\",\"Qatar\",\"Romania\",\"Russia\",\"Rwanda\",\"Samoa\",\"Sao Tome and Principe\",\"Saudi Arabia\",\"Senegal\",\"Serbia\",\"Seychelles\",\"Sierra Leone\",\"Singapore\",\"Slovak Republic\",\"Slovenia\",\"Solomon Islands\",\"Somalia\",\"South Africa\",\"South Sudan\",\"Spain\",\"Sri Lanka\",\"Sudan\",\"Suriname\",\"Swaziland\",\"Sweden\",\"Switzerland\",\"Syria\",\"Taiwan\",\"Tajikistan\",\"Tanzania\",\"Thailand\",\"Timor-Leste\",\"Togo\",\"Tonga\",\"Trinidad and Tobago\",\"Tunisia\",\"Turkey\",\"Turkmenistan\",\"Uganda\",\"Ukraine\",\"United Arab Emirates\",\"United Kingdom\",\"United States\",\"Uruguay\",\"Uzbekistan\",\"Vanuatu\",\"Venezuela\",\"Vietnam\",\"West Bank and Gaza\",\"Zambia\",\"Zimbabwe\"],\"region\":[\"South Asia\",\"Europe & Central Asia\",\"Middle East & North Africa\",\"Europe & Central Asia\",\"Sub-Saharan Africa\",\"America\",\"America\",\"Europe & Central Asia\",\"East Asia & Pacific\",\"Europe & Central Asia\",\"Europe & Central Asia\",\"America\",\"Middle East & North Africa\",\"South Asia\",\"America\",\"Europe & Central Asia\",\"Europe & Central Asia\",\"America\",\"Sub-Saharan Africa\",\"South Asia\",\"America\",\"Europe & Central Asia\",\"Sub-Saharan Africa\",\"America\",\"East Asia & Pacific\",\"Europe & Central Asia\",\"Sub-Saharan Africa\",\"Sub-Saharan Africa\",\"East Asia & Pacific\",\"Sub-Saharan Africa\",\"America\",\"Sub-Saharan Africa\",\"Sub-Saharan Africa\",\"America\",\"East Asia & Pacific\",\"America\",\"Sub-Saharan Africa\",\"Sub-Saharan Africa\",\"Sub-Saharan Africa\",\"America\",\"Sub-Saharan Africa\",\"Europe & Central Asia\",\"America\",\"Europe & Central Asia\",\"Europe & Central Asia\",\"Middle East & North Africa\",\"America\",\"America\",\"Middle East & North Africa\",\"America\",\"Sub-Saharan Africa\",\"Sub-Saharan Africa\",\"Europe & Central Asia\",\"Sub-Saharan Africa\",\"East Asia & Pacific\",\"Europe & Central Asia\",\"Europe & Central Asia\",\"Sub-Saharan Africa\",\"Sub-Saharan Africa\",\"Europe & Central Asia\",\"Europe & Central Asia\",\"Sub-Saharan Africa\",\"Europe & Central Asia\",\"America\",\"America\",\"Sub-Saharan Africa\",\"Sub-Saharan Africa\",\"America\",\"America\",\"America\",\"Europe & Central Asia\",\"Europe & Central Asia\",\"South Asia\",\"East Asia & Pacific\",\"Middle East & North Africa\",\"Middle East & North Africa\",\"Europe & Central Asia\",\"Middle East & North Africa\",\"Europe & Central Asia\",\"America\",\"East Asia & Pacific\",\"Middle East & North Africa\",\"Europe & Central Asia\",\"Sub-Saharan Africa\",\"East Asia & Pacific\",\"Middle East & North Africa\",\"Europe & Central Asia\",\"Middle East & North Africa\",\"Sub-Saharan Africa\",\"Sub-Saharan Africa\",\"Middle East & North Africa\",\"Europe & Central Asia\",\"Europe & Central Asia\",\"Europe & Central Asia\",\"Sub-Saharan Africa\",\"Sub-Saharan Africa\",\"East Asia & Pacific\",\"South Asia\",\"Sub-Saharan Africa\",\"Europe & Central Asia\",\"East Asia & Pacific\",\"Sub-Saharan Africa\",\"Sub-Saharan Africa\",\"America\",\"East Asia & Pacific\",\"Europe & Central Asia\",\"East Asia & Pacific\",\"Europe & Central Asia\",\"Middle East & North Africa\",\"Sub-Saharan Africa\",\"East Asia & Pacific\",\"Sub-Saharan Africa\",\"South Asia\",\"Europe & Central Asia\",\"East Asia & Pacific\",\"America\",\"Sub-Saharan Africa\",\"Sub-Saharan Africa\",\"Europe & Central Asia\",\"Middle East & North Africa\",\"South Asia\",\"America\",\"East Asia & Pacific\",\"America\",\"America\",\"East Asia & Pacific\",\"Europe & Central Asia\",\"Europe & Central Asia\",\"Middle East & North Africa\",\"Europe & Central Asia\",\"Europe & Central Asia\",\"Sub-Saharan Africa\",\"East Asia & Pacific\",\"Sub-Saharan Africa\",\"Middle East & North Africa\",\"Sub-Saharan Africa\",\"Europe & Central Asia\",\"Sub-Saharan Africa\",\"Sub-Saharan Africa\",\"East Asia & Pacific\",\"Europe & Central Asia\",\"Europe & Central Asia\",\"East Asia & Pacific\",\"Sub-Saharan Africa\",\"Sub-Saharan Africa\",\"Sub-Saharan Africa\",\"Europe & Central Asia\",\"South Asia\",\"Sub-Saharan Africa\",\"America\",\"Sub-Saharan Africa\",\"Europe & Central Asia\",\"Europe & Central Asia\",\"Middle East & North Africa\",\"East Asia & Pacific\",\"Europe & Central Asia\",\"Sub-Saharan Africa\",\"East Asia & Pacific\",\"East Asia & Pacific\",\"Sub-Saharan Africa\",\"East Asia & Pacific\",\"America\",\"Middle East & North Africa\",\"Europe & Central Asia\",\"Europe & Central Asia\",\"Sub-Saharan Africa\",\"Europe & Central Asia\",\"Middle East & North Africa\",\"Europe & Central Asia\",\"America\",\"America\",\"Europe & Central Asia\",\"East Asia & Pacific\",\"America\",\"East Asia & Pacific\",\"Middle East & North Africa\",\"Sub-Saharan Africa\",\"Sub-Saharan Africa\"],\"x\":{\"__ndarray__\":\"AAAAAACUmUAAAAAAAE/CQAAAAAAAZ8hAAAAAAMAI40AAAAAAAIe7QAAAAADAFdRAAAAAAIDKzkAAAAAAAGy5QAAAAABALuRAAAAAAKDt5EAAAAAAACfPQAAAAADAYNZAAAAAACDN40AAAAAAADajQAAAAACA4M1AAAAAAICrzkAAAAAAgOfjQAAAAACACMBAAAAAAACUmUAAAAAAAHS5QAAAAAAAn7RAAAAAAIDcwUAAAAAAAKXKQAAAAAAAosxAAAAAAMA+8UAAAAAAABPNQAAAAAAAXJZAAAAAAACohkAAAAAAAKKjQAAAAAAAFqRAAAAAAKDo40AAAAAAAHW3QAAAAAAAhJ5AAAAAAADB0kAAAAAAAGvCQAAAAACADMVAAAAAAABIlkAAAAAAAMCDQAAAAAAAnbVAAAAAAAARyEAAAAAAAJimQAAAAABAhdNAAAAAAEAL0kAAAAAAYHrgQAAAAACg/uRAAAAAAADSpEAAAAAAgEPEQAAAAACAL8JAAAAAAIC7xEAAAAAAAEW8QAAAAADgz+BAAAAAAADskEAAAAAAgDPVQAAAAAAA5JBAAAAAAAC6u0AAAAAAIEDjQAAAAAAg8eFAAAAAAAA3z0AAAAAAAAyaQAAAAAAAMrdAAAAAAADX40AAAAAAACaoQAAAAACAgdxAAAAAAADVxUAAAAAAAMG6QAAAAAAAhJJAAAAAAABglUAAAAAAAKa1QAAAAAAAuJdAAAAAAACusEAAAAAAgIvVQAAAAAAg8+JAAAAAAADDsUAAAAAAAJnAQAAAAAAAldBAAAAAAAAVyEAAAAAAgGrlQAAAAABA0dxAAAAAACB14UAAAAAAAFnAQAAAAACAzOBAAAAAAAD8xUAAAAAAQCTTQAAAAAAAjqNAAAAAAAAEm0AAAAAAUGbyQAAAAAAAudFAAAAAAIDDz0AAAAAAAHahQAAAAAAAiIVAAAAAAECN3UAAAAAAgEXUQAAAAACwQPZAAAAAAIDVxUAAAAAAALiVQAAAAAAACIdAAAAAAIDr00AAAAAAAM3GQAAAAAAAAJpAAAAAAIBA20AAAAAAAHSrQAAAAAAAxqlAAAAAAIB3zkAAAAAAADLOQAAAAAAAEqpAAAAAAACqrkAAAAAAABy+QAAAAAAArMpAAAAAAABCuUAAAAAAABCNQAAAAAAACqhAAAAAAIB4wEAAAAAAADyfQAAAAABgYuZAAAAAAAAU30AAAAAAAPyuQAAAAAAASIpAAAAAAAD6s0AAAAAAQLzuQAAAAACABOhAAAAAAAB8sEAAAAAAgCTNQAAAAAAA5qBAAAAAAABgu0AAAAAAgF3DQAAAAAAA7rVAAAAAAADU1EAAAAAAQMDaQAAAAAAAP/9AAAAAAAB+0EAAAAAAACjVQAAAAAAAuJNAAAAAAAAdtUAAAAAAAG6lQAAAAADAQ+ZAAAAAAAAMoUAAAAAAgAbIQAAAAAAA49NAAAAAAAAMlUAAAAAAgJfxQAAAAACA3ddAAAAAAEC220AAAAAAAOybQAAAAAAAMINAAAAAAICbx0AAAAAAAPytQAAAAABAHOBAAAAAAACUvUAAAAAAAKSpQAAAAACA+stAAAAAAADmtkAAAAAAQPLkQAAAAADgdOpAAAAAAADLuUAAAAAAoBXjQAAAAAAAfKBAAAAAAAC+oEAAAAAAAAvJQAAAAAAAxJtAAAAAAAB4k0AAAAAAAFGzQAAAAABAotxAAAAAAIBVxEAAAAAAgEjQQAAAAAAAmMNAAAAAAACsl0AAAAAAAKS+QAAAAACAqOtAAAAAAACy4UAAAAAAoBvoQAAAAADAsdBAAAAAAABZsEAAAAAAAAinQAAAAAAAJtBAAAAAAACGsUAAAAAAAEOwQAAAAAAA9qpAAAAAAAAwl0A=\",\"dtype\":\"float64\",\"shape\":[178]},\"y\":{\"__ndarray__\":\"ZmZmZmZmS0DNzMzMzMxSQJqZmZmZ+VJAzczMzMzsVEAzMzMzM7NNQM3MzMzMzFJAMzMzMzPzUkCamZmZmTlSQM3MzMzMbFRAAAAAAAAgVECamZmZmdlRQJqZmZmZGVJAzczMzMyMU0BmZmZmZiZRQJqZmZmZ2VJAzczMzMyMUUAzMzMzM/NTQGZmZmZmhlFAAAAAAAAAUEAzMzMzMxNRQDMzMzMz01FAAAAAAAAgU0AAAAAAACBQQM3MzMzMjFJAAAAAAACgU0BmZmZmZmZSQJqZmZmZWU5AmpmZmZlZTUCamZmZmblQQAAAAAAAwExAZmZmZmZGVECamZmZmVlSQJqZmZmZGUxAMzMzMzOzU0CamZmZmflSQDMzMzMz01JAAAAAAACAT0BmZmZmZiZMQGZmZmZmJk5AZmZmZmbmU0CamZmZmZlMQM3MzMzMTFNAAAAAAACAU0BmZmZmZmZUQDMzMzMz01NAZmZmZmbmTkCamZmZmZlSQM3MzMzMjFJAMzMzMzOTUUAzMzMzM3NSQJqZmZmZmUxAAAAAAACATkAzMzMzM/NSQAAAAAAAgE5AmpmZmZl5UEAAAAAAAABUQM3MzMzMTFRAAAAAAADATEAAAAAAAIBPQJqZmZmZGVJAzczMzMwMVEAAAAAAAMBPQGZmZmZm5lNAzczMzMzMUUAzMzMzM7NRQM3MzMzMjE1AAAAAAAAASkBmZmZmZqZPQAAAAAAAgEJAMzMzMzPTUUDNzMzMzKxSQAAAAAAAoFRAZmZmZmZGUEAzMzMzM3NRQJqZmZmZeVNAMzMzMzMTUUCamZmZmflTQAAAAAAAYFRAmpmZmZl5VEAAAAAAAOBSQAAAAAAAwFRAZmZmZmZmU0BmZmZmZsZQQM3MzMzMjE9AAAAAAADATkBmZmZmZsZTQAAAAAAAgFJAAAAAAACAU0AzMzMzM7NHQJqZmZmZ2U5AZmZmZmbmUkCamZmZmXlSQAAAAAAAQFRAMzMzMzPzUkBmZmZmZuZPQGZmZmZm5kpAMzMzMzOTUkCamZmZmblTQAAAAAAAQExAMzMzMzNzVEBmZmZmZgZQQM3MzMzMDFBAmpmZmZkZUkDNzMzMzOxSQJqZmZmZmVBAzczMzMyMUUBmZmZmZuZPQM3MzMzMzFJAzczMzMxsUkCamZmZmdlLQAAAAAAAgFBAAAAAAADATUAAAAAAAGBRQAAAAAAAIFRAAAAAAAAgVEAzMzMzM/NSQJqZmZmZWU5AZmZmZmZmTUCamZmZmTlUQAAAAAAAwFJAzczMzMwsUEDNzMzMzExTQJqZmZmZWU1AmpmZmZlZUkAzMzMzMzNTQM3MzMzMbFFAZmZmZmYGU0AAAAAAAOBTQDMzMzMzU1RAAAAAAACAUkDNzMzMzCxRQJqZmZmZ2U9AZmZmZmbmUUBmZmZmZuZQQM3MzMzMbFNAAAAAAABAUEAAAAAAAEBTQDMzMzMzM1JAAAAAAABATEAAAAAAAGBUQAAAAAAA4FJAAAAAAADgU0AAAAAAAIBPQDMzMzMzc0xAmpmZmZlZTEAAAAAAAEBMQGZmZmZmZlRAzczMzMzsUkAAAAAAAABRQAAAAAAAYFFAZmZmZmbmR0AAAAAAAGBUQDMzMzMzk1RAzczMzMwsU0AzMzMzM7NTQJqZmZmZeVFAMzMzMzNzTkBmZmZmZqZSQDMzMzMzc1FAAAAAAACATkBmZmZmZoZRQGZmZmZmxlFAMzMzMzMzU0DNzMzMzOxSQGZmZmZmplBAMzMzMzMzTUCamZmZmZlRQM3MzMzMDFNAAAAAAAAAVEAAAAAAAKBTQAAAAAAAIFNAZmZmZmZGUUAAAAAAAABQQM3MzMzMrFJAMzMzMzPzUkAAAAAAAIBSQM3MzMzMDEtAMzMzMzMzSUA=\",\"dtype\":\"float64\",\"shape\":[178]}}},\"id\":\"f16b09fe-92ab-49b2-ac69-dc624fc35f7a\",\"type\":\"ColumnDataSource\"},{\"attributes\":{\"fill_color\":{\"value\":\"#1f77b4\"},\"line_color\":{\"value\":\"#1f77b4\"},\"x\":{\"field\":\"x\"},\"y\":{\"field\":\"y\"}},\"id\":\"9be680d3-beb4-4b0b-a232-4d089c027945\",\"type\":\"Circle\"},{\"attributes\":{\"plot\":null,\"text\":\"\"},\"id\":\"63dd2856-e498-4a82-962c-98b8bd4a584b\",\"type\":\"Title\"},{\"attributes\":{\"source\":{\"id\":\"f16b09fe-92ab-49b2-ac69-dc624fc35f7a\",\"type\":\"ColumnDataSource\"}},\"id\":\"ffce45c1-b334-4fea-a0df-f9daa40cebc4\",\"type\":\"CDSView\"},{\"attributes\":{\"below\":[{\"id\":\"9983fd66-773f-40b1-9579-ad56c7959fa0\",\"type\":\"LogAxis\"}],\"left\":[{\"id\":\"4c1e975c-4de4-474d-9604-d8697b33d992\",\"type\":\"LinearAxis\"}],\"plot_height\":200,\"renderers\":[{\"id\":\"9983fd66-773f-40b1-9579-ad56c7959fa0\",\"type\":\"LogAxis\"},{\"id\":\"5c100c62-3c16-42bd-9694-bd84b48fa9d6\",\"type\":\"Grid\"},{\"id\":\"4c1e975c-4de4-474d-9604-d8697b33d992\",\"type\":\"LinearAxis\"},{\"id\":\"c815afec-88b1-4263-9c85-6ee056c8d035\",\"type\":\"Grid\"},{\"id\":\"1e0ee5d0-197e-462a-bea5-d5aa939a89a1\",\"type\":\"GlyphRenderer\"}],\"title\":{\"id\":\"63dd2856-e498-4a82-962c-98b8bd4a584b\",\"type\":\"Title\"},\"toolbar\":{\"id\":\"b798c3a6-1668-422e-b5f7-caf5357c425c\",\"type\":\"Toolbar\"},\"x_range\":{\"id\":\"02bb0c40-0e1d-4d25-bd57-42b79be218ce\",\"type\":\"Range1d\"},\"x_scale\":{\"id\":\"4bdb14d4-03e3-401c-ad14-9dfa59df063b\",\"type\":\"LogScale\"},\"y_range\":{\"id\":\"546cd527-e4ee-4956-a5ea-154cc8b4c646\",\"type\":\"Range1d\"},\"y_scale\":{\"id\":\"a0ed4096-2d00-4c8c-9bb6-98327120937f\",\"type\":\"LinearScale\"}},\"id\":\"1448e78d-1cf0-4540-aa39-6607bb53cfc3\",\"subtype\":\"Figure\",\"type\":\"Plot\"},{\"attributes\":{\"formatter\":{\"id\":\"cfd70a00-8d52-4ca7-966b-5e3d231f6d8d\",\"type\":\"LogTickFormatter\"},\"plot\":{\"id\":\"1448e78d-1cf0-4540-aa39-6607bb53cfc3\",\"subtype\":\"Figure\",\"type\":\"Plot\"},\"ticker\":{\"id\":\"1fbff7c9-c501-4e80-a3e5-31dcc19d491c\",\"type\":\"LogTicker\"}},\"id\":\"9983fd66-773f-40b1-9579-ad56c7959fa0\",\"type\":\"LogAxis\"},{\"attributes\":{\"fill_alpha\":{\"value\":0.1},\"fill_color\":{\"value\":\"#1f77b4\"},\"line_alpha\":{\"value\":0.1},\"line_color\":{\"value\":\"#1f77b4\"},\"x\":{\"field\":\"x\"},\"y\":{\"field\":\"y\"}},\"id\":\"e19a04b1-874b-4524-9c02-44d4304b8610\",\"type\":\"Circle\"},{\"attributes\":{\"callback\":null,\"end\":100000,\"start\":100},\"id\":\"02bb0c40-0e1d-4d25-bd57-42b79be218ce\",\"type\":\"Range1d\"},{\"attributes\":{\"active_drag\":\"auto\",\"active_inspect\":\"auto\",\"active_scroll\":\"auto\",\"active_tap\":\"auto\",\"tools\":[{\"id\":\"6a905efb-603a-457b-b9b6-25f8527b8133\",\"type\":\"HoverTool\"}]},\"id\":\"b798c3a6-1668-422e-b5f7-caf5357c425c\",\"type\":\"Toolbar\"},{\"attributes\":{\"num_minor_ticks\":10},\"id\":\"1fbff7c9-c501-4e80-a3e5-31dcc19d491c\",\"type\":\"LogTicker\"},{\"attributes\":{\"ticker\":null},\"id\":\"cfd70a00-8d52-4ca7-966b-5e3d231f6d8d\",\"type\":\"LogTickFormatter\"},{\"attributes\":{\"callback\":null,\"end\":100},\"id\":\"546cd527-e4ee-4956-a5ea-154cc8b4c646\",\"type\":\"Range1d\"},{\"attributes\":{},\"id\":\"324897b8-c2d0-4992-ae2e-92869ab18ea6\",\"type\":\"BasicTickFormatter\"},{\"attributes\":{},\"id\":\"a0ed4096-2d00-4c8c-9bb6-98327120937f\",\"type\":\"LinearScale\"},{\"attributes\":{\"dimension\":1,\"plot\":{\"id\":\"1448e78d-1cf0-4540-aa39-6607bb53cfc3\",\"subtype\":\"Figure\",\"type\":\"Plot\"},\"ticker\":{\"id\":\"5c1d1512-52cd-4edd-bafb-548cb5dbdd61\",\"type\":\"BasicTicker\"}},\"id\":\"c815afec-88b1-4263-9c85-6ee056c8d035\",\"type\":\"Grid\"},{\"attributes\":{},\"id\":\"5c1d1512-52cd-4edd-bafb-548cb5dbdd61\",\"type\":\"BasicTicker\"}],\"root_ids\":[\"1448e78d-1cf0-4540-aa39-6607bb53cfc3\"]},\"title\":\"Bokeh Application\",\"version\":\"0.12.10\"}};\n",
       "    var render_items = [{\"docid\":\"57553e89-5a5c-46ae-9290-245c9f759bd9\",\"elementid\":\"62909d8d-4b9f-493a-b7b7-69aeabac519b\",\"modelid\":\"1448e78d-1cf0-4540-aa39-6607bb53cfc3\"}];\n",
       "\n",
       "    root.Bokeh.embed.embed_items(docs_json, render_items);\n",
       "  }\n",
       "\n",
       "  if (root.Bokeh !== undefined) {\n",
       "    embed_document(root);\n",
       "  } else {\n",
       "    var attempts = 0;\n",
       "    var timer = setInterval(function(root) {\n",
       "      if (root.Bokeh !== undefined) {\n",
       "        embed_document(root);\n",
       "        clearInterval(timer);\n",
       "      }\n",
       "      attempts++;\n",
       "      if (attempts > 100) {\n",
       "        console.log(\"Bokeh: ERROR: Unable to embed document because BokehJS library is missing\")\n",
       "        clearInterval(timer);\n",
       "      }\n",
       "    }, 10, root)\n",
       "  }\n",
       "})(window);"
      ],
      "application/vnd.bokehjs_exec.v0+json": ""
     },
     "metadata": {
      "application/vnd.bokehjs_exec.v0+json": {
       "id": "1448e78d-1cf0-4540-aa39-6607bb53cfc3"
      }
     },
     "output_type": "display_data"
    }
   ],
   "source": [
    "hover = HoverTool(tooltips = ('@region'))\n",
    "p = figure(tools = [hover], **plot_opts)\n",
    "p.circle(x='x', y = 'y', source = source)\n",
    "show(p)"
   ]
  },
  {
   "cell_type": "code",
   "execution_count": 87,
   "metadata": {},
   "outputs": [
    {
     "data": {
      "text/plain": [
       "['x', 'y', 'country', 'region', 'population']"
      ]
     },
     "execution_count": 87,
     "metadata": {},
     "output_type": "execute_result"
    }
   ],
   "source": [
    "from bokeh.models import ColumnDataSource\n",
    "source = ColumnDataSource(dict(x=data.loc[2010].income, \n",
    "                               y=data.loc[2010].life, \n",
    "                               country = data.loc[2010].Country, \n",
    "                               region = data.loc[2010].region,\n",
    "                              population = data.loc[2010].population))\n",
    "source.column_names"
   ]
  },
  {
   "cell_type": "code",
   "execution_count": 117,
   "metadata": {},
   "outputs": [
    {
     "name": "stderr",
     "output_type": "stream",
     "text": [
      "W-1005 (SNAPPED_TOOLBAR_ANNOTATIONS): Snapped toolbars and annotations on the same side MAY overlap visually: Figure(id='a24a726c-76bb-4930-be41-23d5d77c57e8', ...)\n"
     ]
    },
    {
     "data": {
      "text/html": [
       "\n",
       "<div class=\"bk-root\">\n",
       "    <div class=\"bk-plotdiv\" id=\"0e457228-02d9-4f14-b4b1-d60a774e7eff\"></div>\n",
       "</div>"
      ]
     },
     "metadata": {},
     "output_type": "display_data"
    },
    {
     "data": {
      "application/javascript": [
       "(function(root) {\n",
       "  function embed_document(root) {\n",
       "    var docs_json = {\"98574fc6-dc84-43a1-bcff-be5cd5a75629\":{\"roots\":{\"references\":[{\"attributes\":{\"data_source\":{\"id\":\"86dbe1ed-dda0-4ef7-9bbb-990bf4032dce\",\"type\":\"ColumnDataSource\"},\"glyph\":{\"id\":\"aec557be-c8dd-401f-8872-7c9b0994ea30\",\"type\":\"Circle\"},\"hover_glyph\":null,\"muted_glyph\":null,\"nonselection_glyph\":{\"id\":\"7403ae7b-d182-484b-8601-a2c1d2dc339d\",\"type\":\"Circle\"},\"selection_glyph\":null,\"view\":{\"id\":\"58ced37c-0940-4fff-81b2-1fced23b36a0\",\"type\":\"CDSView\"}},\"id\":\"a9005487-39d2-4b01-b187-b31478d0e47d\",\"type\":\"GlyphRenderer\"},{\"attributes\":{\"active_drag\":\"auto\",\"active_inspect\":\"auto\",\"active_scroll\":\"auto\",\"active_tap\":\"auto\",\"tools\":[{\"id\":\"9c78024b-6a62-4db3-ac18-a8eec0e5b873\",\"type\":\"HoverTool\"}]},\"id\":\"610efbcb-e769-4f63-9c28-3f828dc8527c\",\"type\":\"Toolbar\"},{\"attributes\":{},\"id\":\"9f4f7bb6-e021-4c2e-ab75-38f06737db3f\",\"type\":\"BasicTickFormatter\"},{\"attributes\":{\"num_minor_ticks\":10},\"id\":\"63ace487-ea6a-4c1e-b217-a9a2efbb1ca3\",\"type\":\"LogTicker\"},{\"attributes\":{\"callback\":null,\"column_names\":[\"x\",\"y\",\"country\",\"region\",\"population\"],\"data\":{\"country\":[\"Afghanistan\",\"Albania\",\"Algeria\",\"Andorra\",\"Angola\",\"Antigua and Barbuda\",\"Argentina\",\"Armenia\",\"Aruba\",\"Australia\",\"Austria\",\"Azerbaijan\",\"Bahamas\",\"Bahrain\",\"Bangladesh\",\"Barbados\",\"Belarus\",\"Belgium\",\"Belize\",\"Benin\",\"Bhutan\",\"Bolivia\",\"Bosnia and Herzegovina\",\"Botswana\",\"Brazil\",\"Brunei\",\"Bulgaria\",\"Burkina Faso\",\"Burundi\",\"Cambodia\",\"Cameroon\",\"Canada\",\"Cape Verde\",\"Chad\",\"Channel Islands\",\"Chile\",\"China\",\"Colombia\",\"Comoros\",\"Congo, Dem. Rep.\",\"Congo, Rep.\",\"Costa Rica\",\"Cote d'Ivoire\",\"Croatia\",\"Cuba\",\"Cyprus\",\"Denmark\",\"Djibouti\",\"Dominica\",\"Ecuador\",\"Egypt\",\"El Salvador\",\"Equatorial Guinea\",\"Eritrea\",\"Estonia\",\"Ethiopia\",\"Fiji\",\"Finland\",\"France\",\"French Guiana\",\"French Polynesia\",\"Gabon\",\"Gambia\",\"Georgia\",\"Germany\",\"Ghana\",\"Greece\",\"Greenland\",\"Grenada\",\"Guadeloupe\",\"Guam\",\"Guatemala\",\"Guinea\",\"Guinea-Bissau\",\"Guyana\",\"Haiti\",\"Honduras\",\"Hong Kong, China\",\"Hungary\",\"Iceland\",\"India\",\"Indonesia\",\"Iran\",\"Iraq\",\"Ireland\",\"Israel\",\"Italy\",\"Jamaica\",\"Japan\",\"Jordan\",\"Kazakhstan\",\"Kenya\",\"Kiribati\",\"Kuwait\",\"Latvia\",\"Lebanon\",\"Lesotho\",\"Liberia\",\"Libya\",\"Lithuania\",\"Luxembourg\",\"Macao, China\",\"Macedonia, FYR\",\"Madagascar\",\"Malawi\",\"Malaysia\",\"Maldives\",\"Mali\",\"Malta\",\"Marshall Islands\",\"Martinique\",\"Mauritania\",\"Mauritius\",\"Mayotte\",\"Mexico\",\"Micronesia, Fed. Sts.\",\"Moldova\",\"Mongolia\",\"Montenegro\",\"Morocco\",\"Mozambique\",\"Myanmar\",\"Namibia\",\"Nepal\",\"Netherlands\",\"Netherlands Antilles\",\"New Caledonia\",\"New Zealand\",\"Nicaragua\",\"Niger\",\"Nigeria\",\"Norway\",\"Oman\",\"Pakistan\",\"Panama\",\"Papua New Guinea\",\"Paraguay\",\"Peru\",\"Philippines\",\"Poland\",\"Portugal\",\"Puerto Rico\",\"Qatar\",\"Reunion\",\"Romania\",\"Russia\",\"Rwanda\",\"Samoa\",\"Sao Tome and Principe\",\"Saudi Arabia\",\"Senegal\",\"Serbia\",\"Seychelles\",\"Sierra Leone\",\"Singapore\",\"Slovak Republic\",\"Slovenia\",\"Solomon Islands\",\"Somalia\",\"South Africa\",\"South Sudan\",\"Spain\",\"Sri Lanka\",\"Sudan\",\"Suriname\",\"Swaziland\",\"Sweden\",\"Switzerland\",\"Syria\",\"Taiwan\",\"Tajikistan\",\"Tanzania\",\"Thailand\",\"Timor-Leste\",\"Togo\",\"Tonga\",\"Trinidad and Tobago\",\"Tunisia\",\"Turkey\",\"Turkmenistan\",\"Uganda\",\"Ukraine\",\"United Arab Emirates\",\"United Kingdom\",\"United States\",\"Uruguay\",\"Uzbekistan\",\"Vanuatu\",\"Venezuela\",\"Vietnam\",\"Virgin Islands (U.S.)\",\"West Bank and Gaza\",\"Western Sahara\",\"Zambia\",\"Zimbabwe\"],\"population\":{\"__ndarray__\":\"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\",\"dtype\":\"float64\",\"shape\":[195]},\"region\":[\"South Asia\",\"Europe & Central Asia\",\"Middle East & North Africa\",\"Europe & Central Asia\",\"Sub-Saharan Africa\",\"America\",\"America\",\"Europe & Central Asia\",\"America\",\"East Asia & Pacific\",\"Europe & Central Asia\",\"Europe & Central Asia\",\"America\",\"Middle East & North Africa\",\"South Asia\",\"America\",\"Europe & Central Asia\",\"Europe & Central Asia\",\"America\",\"Sub-Saharan Africa\",\"South Asia\",\"America\",\"Europe & Central Asia\",\"Sub-Saharan Africa\",\"America\",\"East Asia & Pacific\",\"Europe & Central Asia\",\"Sub-Saharan Africa\",\"Sub-Saharan Africa\",\"East Asia & Pacific\",\"Sub-Saharan Africa\",\"America\",\"Sub-Saharan Africa\",\"Sub-Saharan Africa\",\"Europe & Central Asia\",\"America\",\"East Asia & Pacific\",\"America\",\"Sub-Saharan Africa\",\"Sub-Saharan Africa\",\"Sub-Saharan Africa\",\"America\",\"Sub-Saharan Africa\",\"Europe & Central Asia\",\"America\",\"Europe & Central Asia\",\"Europe & Central Asia\",\"Middle East & North Africa\",\"America\",\"America\",\"Middle East & North Africa\",\"America\",\"Sub-Saharan Africa\",\"Sub-Saharan Africa\",\"Europe & Central Asia\",\"Sub-Saharan Africa\",\"East Asia & Pacific\",\"Europe & Central Asia\",\"Europe & Central Asia\",\"America\",\"East Asia & Pacific\",\"Sub-Saharan Africa\",\"Sub-Saharan Africa\",\"Europe & Central Asia\",\"Europe & Central Asia\",\"Sub-Saharan Africa\",\"Europe & Central Asia\",\"Europe & Central Asia\",\"America\",\"America\",\"East Asia & Pacific\",\"America\",\"Sub-Saharan Africa\",\"Sub-Saharan Africa\",\"America\",\"America\",\"America\",\"East Asia & Pacific\",\"Europe & Central Asia\",\"Europe & Central Asia\",\"South Asia\",\"East Asia & Pacific\",\"Middle East & North Africa\",\"Middle East & North Africa\",\"Europe & Central Asia\",\"Middle East & North Africa\",\"Europe & Central Asia\",\"America\",\"East Asia & Pacific\",\"Middle East & North Africa\",\"Europe & Central Asia\",\"Sub-Saharan Africa\",\"East Asia & Pacific\",\"Middle East & North Africa\",\"Europe & Central Asia\",\"Middle East & North Africa\",\"Sub-Saharan Africa\",\"Sub-Saharan Africa\",\"Middle East & North Africa\",\"Europe & Central Asia\",\"Europe & Central Asia\",\"East Asia & Pacific\",\"Europe & Central Asia\",\"Sub-Saharan Africa\",\"Sub-Saharan Africa\",\"East Asia & Pacific\",\"South Asia\",\"Sub-Saharan Africa\",\"Europe & Central Asia\",\"East Asia & Pacific\",\"America\",\"Sub-Saharan Africa\",\"Sub-Saharan Africa\",\"Sub-Saharan Africa\",\"America\",\"East Asia & Pacific\",\"Europe & Central Asia\",\"East Asia & Pacific\",\"Europe & Central Asia\",\"Middle East & North Africa\",\"Sub-Saharan Africa\",\"East Asia & Pacific\",\"Sub-Saharan Africa\",\"South Asia\",\"Europe & Central Asia\",\"America\",\"East Asia & Pacific\",\"East Asia & Pacific\",\"America\",\"Sub-Saharan Africa\",\"Sub-Saharan Africa\",\"Europe & Central Asia\",\"Middle East & North Africa\",\"South Asia\",\"America\",\"East Asia & Pacific\",\"America\",\"America\",\"East Asia & Pacific\",\"Europe & Central Asia\",\"Europe & Central Asia\",\"America\",\"Middle East & North Africa\",\"Sub-Saharan Africa\",\"Europe & Central Asia\",\"Europe & Central Asia\",\"Sub-Saharan Africa\",\"East Asia & Pacific\",\"Sub-Saharan Africa\",\"Middle East & North Africa\",\"Sub-Saharan Africa\",\"Europe & Central Asia\",\"Sub-Saharan Africa\",\"Sub-Saharan Africa\",\"East Asia & Pacific\",\"Europe & Central Asia\",\"Europe & Central Asia\",\"East Asia & Pacific\",\"Sub-Saharan Africa\",\"Sub-Saharan Africa\",\"Sub-Saharan Africa\",\"Europe & Central Asia\",\"South Asia\",\"Sub-Saharan Africa\",\"America\",\"Sub-Saharan Africa\",\"Europe & Central Asia\",\"Europe & Central Asia\",\"Middle East & North Africa\",\"East Asia & Pacific\",\"Europe & Central Asia\",\"Sub-Saharan Africa\",\"East Asia & Pacific\",\"East Asia & Pacific\",\"Sub-Saharan Africa\",\"East Asia & Pacific\",\"America\",\"Middle East & North Africa\",\"Europe & Central Asia\",\"Europe & Central Asia\",\"Sub-Saharan Africa\",\"Europe & Central Asia\",\"Middle East & North Africa\",\"Europe & Central Asia\",\"America\",\"America\",\"Europe & Central Asia\",\"East Asia & Pacific\",\"America\",\"East Asia & Pacific\",\"America\",\"Middle East & North Africa\",\"Middle East & North Africa\",\"Sub-Saharan Africa\",\"Sub-Saharan Africa\"],\"x\":{\"__ndarray__\":\"AAAAAAB8kUAAAAAAAFywQAAAAAAAXMFAAAAAAICV4EAAAAAAAFyzQAAAAAAA47hAAAAAAABTxUAAAAAAAMKuQAAAAACA3sVAAAAAAEDZ1UAAAAAAwODWQAAAAACAT8BAAAAAAADXzkAAAAAAoNHjQAAAAAAAOJBAAAAAAIByxUAAAAAAAL+5QAAAAACA/tZAAAAAAABUqkAAAAAAAJySQAAAAAAAbJBAAAAAAADQsUAAAAAAACKpQAAAAAAAxKlAAAAAAACUwkAAAAAAkAj7QAAAAAAAOsNAAAAAAABQhkAAAAAAAGiMQAAAAAAAgI5AAAAAAACkokAAAAAAwIHYQAAAAAAAaIdAAAAAAACUk0AAAAAAAAD4fwAAAAAAE7pAAAAAAABAjEAAAAAAAKi1QAAAAAAAyJdAAAAAAACwm0AAAAAAABqrQAAAAAAAibxAAAAAAAD6sUAAAAAAQBHQQAAAAAAA4MZAAAAAAAAmx0AAAAAAgCfZQAAAAAAAhq1AAAAAAAAyrUAAAAAAAIi9QAAAAAAAQq1AAAAAAAAbtkAAAAAAAMyUQAAAAAAAGI1AAAAAAICCxkAAAAAAAACGQAAAAAAAgrVAAAAAAEDP0kAAAAAAgL/VQAAAAAAAAPh/AAAAAAAA+H8AAAAAwDbUQAAAAAAAlJ5AAAAAAAABvUAAAAAAgBPZQAAAAAAASqBAAAAAAEBf0EAAAAAAAF3MQAAAAAAAMbFAAAAAAAAA+H8AAAAAAAD4fwAAAAAAn7dAAAAAAAAokkAAAAAAALCZQAAAAAAAObFAAAAAAADYokAAAAAAAECrQAAAAAAA18lAAAAAAID2zkAAAAAAwBPVQAAAAAAAyJNAAAAAAAAEp0AAAAAAgFDPQAAAAACAm8ZAAAAAAICTzEAAAAAAAAbKQAAAAACAlNNAAAAAAAAou0AAAAAAQErRQAAAAAAANbdAAAAAAID6yUAAAAAAAHqgQAAAAAAAFK5AAAAAADB79UAAAAAAACnDQAAAAAAA67xAAAAAAAD0kUAAAAAAAGiVQAAAAAAA6OpAAAAAAADNzkAAAAAAQFzgQAAAAAAAgtZAAAAAAIALwUAAAAAAABChQAAAAAAAsIRAAAAAAACMt0AAAAAAACiWQAAAAAAATJBAAAAAAACowUAAAAAAAHCiQAAAAAAAAPh/AAAAAABIpkAAAAAAAFqzQAAAAAAAAPh/AAAAAABsxEAAAAAAAMykQAAAAAAAi7dAAAAAAACSoEAAAAAAgEjMQAAAAAAA9KdAAAAAAAAYgEAAAAAAAFCZQAAAAAAAwbhAAAAAAAAckEAAAAAAAN3XQAAAAAAAAPh/AAAAAAAA+H8AAAAAwCPUQAAAAAAA4btAAAAAAAC8kUAAAAAAAD+xQAAAAADAm91AAAAAAMBp1kAAAAAAAKSdQAAAAAAAsbpAAAAAAAAknEAAAAAAABiyQAAAAAAAV7xAAAAAAADWrkAAAAAAgODGQAAAAACAGMpAAAAAAMBh0UAAAAAAwMgBQQAAAAAAAPh/AAAAAIDLyUAAAAAAwBPRQAAAAAAAgIdAAAAAAABKq0AAAAAAAIamQAAAAADA7vJAAAAAAABsn0AAAAAAAC3LQAAAAACAXMJAAAAAAABwl0AAAAAAQDPQQAAAAAAAoclAAAAAAAAg0UAAAAAAAIiRQAAAAAAAWJBAAAAAAAA9xUAAAAAAAIKnQAAAAABA5tBAAAAAAABYoUAAAAAAAP6kQAAAAAAAG8dAAAAAAAD7skAAAAAAwP3XQAAAAAAgp+JAAAAAAABSsEAAAAAAgHnBQAAAAAAAALNAAAAAAACYmEAAAAAAACCoQAAAAAAAQIhAAAAAAACEnEAAAAAAACCfQAAAAAAAdMxAAAAAAACfsEAAAAAAgE/BQAAAAACAvMRAAAAAAADwjUAAAAAAABfCQAAAAADwbARBAAAAAAA500AAAAAAgFXbQAAAAAAA0sBAAAAAAAAArEAAAAAAADyfQAAAAAAALNNAAAAAAAB4kkAAAAAAAAD4fwAAAAAAFJ9AAAAAAAAA+H8AAAAAAGyqQAAAAAAAOKJA\",\"dtype\":\"float64\",\"shape\":[195]},\"y\":{\"__ndarray__\":\"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\",\"dtype\":\"float64\",\"shape\":[195]}}},\"id\":\"86dbe1ed-dda0-4ef7-9bbb-990bf4032dce\",\"type\":\"ColumnDataSource\"},{\"attributes\":{\"label\":{\"field\":\"region\"},\"renderers\":[{\"id\":\"a9005487-39d2-4b01-b187-b31478d0e47d\",\"type\":\"GlyphRenderer\"}]},\"id\":\"d49bd333-9383-4041-9c10-9f761a2f019d\",\"type\":\"LegendItem\"},{\"attributes\":{\"callback\":null,\"end\":100},\"id\":\"1deaf3e5-51e6-465b-bef7-7d7f996d5fc1\",\"type\":\"Range1d\"},{\"attributes\":{\"items\":[{\"id\":\"d49bd333-9383-4041-9c10-9f761a2f019d\",\"type\":\"LegendItem\"}],\"location\":[0,-50],\"plot\":{\"id\":\"a24a726c-76bb-4930-be41-23d5d77c57e8\",\"subtype\":\"Figure\",\"type\":\"Plot\"}},\"id\":\"1977e680-0e94-48a0-aece-23cf51a6489c\",\"type\":\"Legend\"},{\"attributes\":{},\"id\":\"138d66ba-59bb-4f37-9243-4f799e270fc9\",\"type\":\"LinearScale\"},{\"attributes\":{\"callback\":null,\"show_arrow\":false,\"tooltips\":\"@country\"},\"id\":\"9c78024b-6a62-4db3-ac18-a8eec0e5b873\",\"type\":\"HoverTool\"},{\"attributes\":{\"plot\":{\"id\":\"a24a726c-76bb-4930-be41-23d5d77c57e8\",\"subtype\":\"Figure\",\"type\":\"Plot\"},\"ticker\":{\"id\":\"63ace487-ea6a-4c1e-b217-a9a2efbb1ca3\",\"type\":\"LogTicker\"}},\"id\":\"eecdca27-a1de-40a6-ac99-94101d1de21d\",\"type\":\"Grid\"},{\"attributes\":{},\"id\":\"37984d0f-dc33-433b-935b-42f01690a6ae\",\"type\":\"LogScale\"},{\"attributes\":{\"formatter\":{\"id\":\"095a2711-8f1c-49c5-90d2-794bdbfaec99\",\"type\":\"LogTickFormatter\"},\"plot\":{\"id\":\"a24a726c-76bb-4930-be41-23d5d77c57e8\",\"subtype\":\"Figure\",\"type\":\"Plot\"},\"ticker\":{\"id\":\"63ace487-ea6a-4c1e-b217-a9a2efbb1ca3\",\"type\":\"LogTicker\"}},\"id\":\"450e5e08-7d3f-4dab-9180-d4aa2a9af20e\",\"type\":\"LogAxis\"},{\"attributes\":{\"formatter\":{\"id\":\"9f4f7bb6-e021-4c2e-ab75-38f06737db3f\",\"type\":\"BasicTickFormatter\"},\"plot\":{\"id\":\"a24a726c-76bb-4930-be41-23d5d77c57e8\",\"subtype\":\"Figure\",\"type\":\"Plot\"},\"ticker\":{\"id\":\"295945d4-49d1-4acd-9d18-3e9cf41ceb3b\",\"type\":\"BasicTicker\"}},\"id\":\"1c865391-af91-4f35-a0e0-7870f6b08853\",\"type\":\"LinearAxis\"},{\"attributes\":{},\"id\":\"295945d4-49d1-4acd-9d18-3e9cf41ceb3b\",\"type\":\"BasicTicker\"},{\"attributes\":{\"dimension\":1,\"plot\":{\"id\":\"a24a726c-76bb-4930-be41-23d5d77c57e8\",\"subtype\":\"Figure\",\"type\":\"Plot\"},\"ticker\":{\"id\":\"295945d4-49d1-4acd-9d18-3e9cf41ceb3b\",\"type\":\"BasicTicker\"}},\"id\":\"d02a286a-85b9-49ca-a9bf-37649c2c27a5\",\"type\":\"Grid\"},{\"attributes\":{\"fill_alpha\":{\"value\":0.6},\"fill_color\":{\"field\":\"region\",\"transform\":{\"id\":\"97d3d7d0-6c5d-45b6-83e3-244a72413b45\",\"type\":\"CategoricalColorMapper\"}},\"line_alpha\":{\"value\":0.6},\"line_color\":{\"field\":\"region\",\"transform\":{\"id\":\"97d3d7d0-6c5d-45b6-83e3-244a72413b45\",\"type\":\"CategoricalColorMapper\"}},\"size\":{\"field\":\"population\",\"transform\":{\"id\":\"13a53d3c-f256-43a5-8e94-160aa34938dc\",\"type\":\"LinearInterpolator\"},\"units\":\"screen\"},\"x\":{\"field\":\"x\"},\"y\":{\"field\":\"y\"}},\"id\":\"aec557be-c8dd-401f-8872-7c9b0994ea30\",\"type\":\"Circle\"},{\"attributes\":{\"fill_alpha\":{\"value\":0.1},\"fill_color\":{\"value\":\"#1f77b4\"},\"line_alpha\":{\"value\":0.1},\"line_color\":{\"value\":\"#1f77b4\"},\"size\":{\"field\":\"population\",\"transform\":{\"id\":\"13a53d3c-f256-43a5-8e94-160aa34938dc\",\"type\":\"LinearInterpolator\"},\"units\":\"screen\"},\"x\":{\"field\":\"x\"},\"y\":{\"field\":\"y\"}},\"id\":\"7403ae7b-d182-484b-8601-a2c1d2dc339d\",\"type\":\"Circle\"},{\"attributes\":{\"factors\":[\"South Asia\",\"Europe & Central Asia\",\"Middle East & North Africa\",\"Sub-Saharan Africa\",\"America\",\"East Asia & Pacific\"],\"palette\":[\"#3288bd\",\"#99d594\",\"#e6f598\",\"#fee08b\",\"#fc8d59\",\"#d53e4f\"]},\"id\":\"97d3d7d0-6c5d-45b6-83e3-244a72413b45\",\"type\":\"CategoricalColorMapper\"},{\"attributes\":{\"source\":{\"id\":\"86dbe1ed-dda0-4ef7-9bbb-990bf4032dce\",\"type\":\"ColumnDataSource\"}},\"id\":\"58ced37c-0940-4fff-81b2-1fced23b36a0\",\"type\":\"CDSView\"},{\"attributes\":{\"data\":null,\"x\":[1548.0,1376048943.0],\"y\":[5,50]},\"id\":\"13a53d3c-f256-43a5-8e94-160aa34938dc\",\"type\":\"LinearInterpolator\"},{\"attributes\":{\"ticker\":null},\"id\":\"095a2711-8f1c-49c5-90d2-794bdbfaec99\",\"type\":\"LogTickFormatter\"},{\"attributes\":{\"below\":[{\"id\":\"450e5e08-7d3f-4dab-9180-d4aa2a9af20e\",\"type\":\"LogAxis\"}],\"left\":[{\"id\":\"1c865391-af91-4f35-a0e0-7870f6b08853\",\"type\":\"LinearAxis\"}],\"plot_height\":300,\"renderers\":[{\"id\":\"450e5e08-7d3f-4dab-9180-d4aa2a9af20e\",\"type\":\"LogAxis\"},{\"id\":\"eecdca27-a1de-40a6-ac99-94101d1de21d\",\"type\":\"Grid\"},{\"id\":\"1c865391-af91-4f35-a0e0-7870f6b08853\",\"type\":\"LinearAxis\"},{\"id\":\"d02a286a-85b9-49ca-a9bf-37649c2c27a5\",\"type\":\"Grid\"},{\"id\":\"1977e680-0e94-48a0-aece-23cf51a6489c\",\"type\":\"Legend\"},{\"id\":\"a9005487-39d2-4b01-b187-b31478d0e47d\",\"type\":\"GlyphRenderer\"}],\"right\":[{\"id\":\"1977e680-0e94-48a0-aece-23cf51a6489c\",\"type\":\"Legend\"}],\"title\":{\"id\":\"dd53920f-f62b-4447-89d9-06513b7f6ddd\",\"type\":\"Title\"},\"title_location\":\"below\",\"toolbar\":{\"id\":\"610efbcb-e769-4f63-9c28-3f828dc8527c\",\"type\":\"Toolbar\"},\"x_range\":{\"id\":\"5ca1e7d2-9b26-4f68-b247-04a4d2cb3372\",\"type\":\"Range1d\"},\"x_scale\":{\"id\":\"37984d0f-dc33-433b-935b-42f01690a6ae\",\"type\":\"LogScale\"},\"y_range\":{\"id\":\"1deaf3e5-51e6-465b-bef7-7d7f996d5fc1\",\"type\":\"Range1d\"},\"y_scale\":{\"id\":\"138d66ba-59bb-4f37-9243-4f799e270fc9\",\"type\":\"LinearScale\"}},\"id\":\"a24a726c-76bb-4930-be41-23d5d77c57e8\",\"subtype\":\"Figure\",\"type\":\"Plot\"},{\"attributes\":{\"plot\":null,\"text\":\"2010\"},\"id\":\"dd53920f-f62b-4447-89d9-06513b7f6ddd\",\"type\":\"Title\"},{\"attributes\":{\"callback\":null,\"end\":100000,\"start\":100},\"id\":\"5ca1e7d2-9b26-4f68-b247-04a4d2cb3372\",\"type\":\"Range1d\"}],\"root_ids\":[\"a24a726c-76bb-4930-be41-23d5d77c57e8\"]},\"title\":\"Bokeh Application\",\"version\":\"0.12.10\"}};\n",
       "    var render_items = [{\"docid\":\"98574fc6-dc84-43a1-bcff-be5cd5a75629\",\"elementid\":\"0e457228-02d9-4f14-b4b1-d60a774e7eff\",\"modelid\":\"a24a726c-76bb-4930-be41-23d5d77c57e8\",\"notebook_comms_target\":\"f4b02661-c718-4591-8ffd-db066f7d8294\"}];\n",
       "\n",
       "    root.Bokeh.embed.embed_items(docs_json, render_items);\n",
       "  }\n",
       "\n",
       "  if (root.Bokeh !== undefined) {\n",
       "    embed_document(root);\n",
       "  } else {\n",
       "    var attempts = 0;\n",
       "    var timer = setInterval(function(root) {\n",
       "      if (root.Bokeh !== undefined) {\n",
       "        embed_document(root);\n",
       "        clearInterval(timer);\n",
       "      }\n",
       "      attempts++;\n",
       "      if (attempts > 100) {\n",
       "        console.log(\"Bokeh: ERROR: Unable to embed document because BokehJS library is missing\")\n",
       "        clearInterval(timer);\n",
       "      }\n",
       "    }, 10, root)\n",
       "  }\n",
       "})(window);"
      ],
      "application/vnd.bokehjs_exec.v0+json": ""
     },
     "metadata": {
      "application/vnd.bokehjs_exec.v0+json": {
       "id": "a24a726c-76bb-4930-be41-23d5d77c57e8"
      }
     },
     "output_type": "display_data"
    },
    {
     "data": {
      "text/html": [
       "<p><code>&lt;Bokeh Notebook handle for <strong>In[74]</strong>&gt;</code></p>"
      ],
      "text/plain": [
       "<bokeh.io.notebook.CommsHandle at 0x1fcbe483d30>"
      ]
     },
     "execution_count": 117,
     "metadata": {},
     "output_type": "execute_result"
    }
   ],
   "source": [
    "from bokeh.models import LinearInterpolator\n",
    "from bokeh.models import CategoricalColorMapper\n",
    "from bokeh.palettes import Spectral6\n",
    "from ipywidgets import interact\n",
    "\n",
    "from bokeh.io import push_notebook\n",
    "\n",
    "def update(year):\n",
    "    new_data = dict(\n",
    "    x=data.loc[year].income,\n",
    "    y=data.loc[year].life,\n",
    "    country=data.loc[year].Country,\n",
    "    region=data.loc[year].region,\n",
    "    population=data.loc[year].population)\n",
    "    \n",
    "    source.data = new_data\n",
    "    p.title.text = str(year)\n",
    "    push_notebook()\n",
    "\n",
    "size_mapper = LinearInterpolator(x=[data.population.min(), data.population.max()],\n",
    "                                y = [5, 50])\n",
    "\n",
    "color_mapper = CategoricalColorMapper(factors=list(data.region.unique()),\n",
    "                                     palette=Spectral6)\n",
    "\n",
    "p = figure(\n",
    "    title='2010',\n",
    "    title_location = 'below',\n",
    "    tools = [HoverTool(tooltips = '@country', show_arrow = False)], \n",
    "    **plot_opts)\n",
    "\n",
    "p.circle(x='x', y='y', \n",
    "         size = {'field': 'population', 'transform': size_mapper},\n",
    "         color = {'field': 'region', 'transform': color_mapper},\n",
    "         alpha = 0.6, \n",
    "         source = source,\n",
    "        legend = 'region')\n",
    "\n",
    "p.legend.location = (0,-50)\n",
    "p.right.append(p.legend[0])\n",
    "show(p, notebook_handle=True)"
   ]
  },
  {
   "cell_type": "code",
   "execution_count": 116,
   "metadata": {},
   "outputs": [
    {
     "data": {
      "application/vnd.jupyter.widget-view+json": {
       "model_id": "1162d0d1e9c4423380e7908b4a291e50",
       "version_major": 2,
       "version_minor": 0
      },
      "text/plain": [
       "A Jupyter Widget"
      ]
     },
     "metadata": {},
     "output_type": "display_data"
    },
    {
     "data": {
      "text/plain": [
       "<function __main__.update>"
      ]
     },
     "execution_count": 116,
     "metadata": {},
     "output_type": "execute_result"
    }
   ],
   "source": [
    "interact(update, year=(1800,2014,1))"
   ]
  }
 ],
 "metadata": {
  "kernelspec": {
   "display_name": "Python 3",
   "language": "python",
   "name": "python3"
  },
  "language_info": {
   "codemirror_mode": {
    "name": "ipython",
    "version": 3
   },
   "file_extension": ".py",
   "mimetype": "text/x-python",
   "name": "python",
   "nbconvert_exporter": "python",
   "pygments_lexer": "ipython3",
   "version": "3.6.3"
  }
 },
 "nbformat": 4,
 "nbformat_minor": 2
}
