{
 "cells": [
  {
   "cell_type": "code",
   "execution_count": 1,
   "metadata": {
    "collapsed": true
   },
   "outputs": [],
   "source": [
    "import pandas as pd\n",
    "import bokeh"
   ]
  },
  {
   "cell_type": "code",
   "execution_count": 2,
   "metadata": {
    "collapsed": true
   },
   "outputs": [],
   "source": [
    "data = pd.read_csv('C:/Users/surhu/Desktop/Studio/sk_python/data/gapminder.csv', index_col='Year', thousands=',')"
   ]
  },
  {
   "cell_type": "code",
   "execution_count": 3,
   "metadata": {},
   "outputs": [
    {
     "data": {
      "text/html": [
       "<div>\n",
       "<style>\n",
       "    .dataframe thead tr:only-child th {\n",
       "        text-align: right;\n",
       "    }\n",
       "\n",
       "    .dataframe thead th {\n",
       "        text-align: left;\n",
       "    }\n",
       "\n",
       "    .dataframe tbody tr th {\n",
       "        vertical-align: top;\n",
       "    }\n",
       "</style>\n",
       "<table border=\"1\" class=\"dataframe\">\n",
       "  <thead>\n",
       "    <tr style=\"text-align: right;\">\n",
       "      <th></th>\n",
       "      <th>Country</th>\n",
       "      <th>life</th>\n",
       "      <th>population</th>\n",
       "      <th>income</th>\n",
       "      <th>region</th>\n",
       "    </tr>\n",
       "    <tr>\n",
       "      <th>Year</th>\n",
       "      <th></th>\n",
       "      <th></th>\n",
       "      <th></th>\n",
       "      <th></th>\n",
       "      <th></th>\n",
       "    </tr>\n",
       "  </thead>\n",
       "  <tbody>\n",
       "    <tr>\n",
       "      <th>1800</th>\n",
       "      <td>Afghanistan</td>\n",
       "      <td>28.211000</td>\n",
       "      <td>3280000.0</td>\n",
       "      <td>603.0</td>\n",
       "      <td>South Asia</td>\n",
       "    </tr>\n",
       "    <tr>\n",
       "      <th>1801</th>\n",
       "      <td>Afghanistan</td>\n",
       "      <td>28.200753</td>\n",
       "      <td>NaN</td>\n",
       "      <td>603.0</td>\n",
       "      <td>South Asia</td>\n",
       "    </tr>\n",
       "    <tr>\n",
       "      <th>1802</th>\n",
       "      <td>Afghanistan</td>\n",
       "      <td>28.190507</td>\n",
       "      <td>NaN</td>\n",
       "      <td>603.0</td>\n",
       "      <td>South Asia</td>\n",
       "    </tr>\n",
       "    <tr>\n",
       "      <th>1803</th>\n",
       "      <td>Afghanistan</td>\n",
       "      <td>28.180260</td>\n",
       "      <td>NaN</td>\n",
       "      <td>603.0</td>\n",
       "      <td>South Asia</td>\n",
       "    </tr>\n",
       "    <tr>\n",
       "      <th>1804</th>\n",
       "      <td>Afghanistan</td>\n",
       "      <td>28.170013</td>\n",
       "      <td>NaN</td>\n",
       "      <td>603.0</td>\n",
       "      <td>South Asia</td>\n",
       "    </tr>\n",
       "  </tbody>\n",
       "</table>\n",
       "</div>"
      ],
      "text/plain": [
       "          Country       life  population  income      region\n",
       "Year                                                        \n",
       "1800  Afghanistan  28.211000   3280000.0   603.0  South Asia\n",
       "1801  Afghanistan  28.200753         NaN   603.0  South Asia\n",
       "1802  Afghanistan  28.190507         NaN   603.0  South Asia\n",
       "1803  Afghanistan  28.180260         NaN   603.0  South Asia\n",
       "1804  Afghanistan  28.170013         NaN   603.0  South Asia"
      ]
     },
     "execution_count": 3,
     "metadata": {},
     "output_type": "execute_result"
    }
   ],
   "source": [
    "data.head()"
   ]
  },
  {
   "cell_type": "code",
   "execution_count": 4,
   "metadata": {},
   "outputs": [
    {
     "data": {
      "text/html": [
       "\n",
       "    <div class=\"bk-root\">\n",
       "        <a href=\"https://bokeh.pydata.org\" target=\"_blank\" class=\"bk-logo bk-logo-small bk-logo-notebook\"></a>\n",
       "        <span id=\"1a0d1824-87b6-42e7-a539-bb3fc035eeb4\">Loading BokehJS ...</span>\n",
       "    </div>"
      ]
     },
     "metadata": {},
     "output_type": "display_data"
    },
    {
     "data": {
      "application/javascript": [
       "\n",
       "(function(root) {\n",
       "  function now() {\n",
       "    return new Date();\n",
       "  }\n",
       "\n",
       "  var force = true;\n",
       "\n",
       "  if (typeof (root._bokeh_onload_callbacks) === \"undefined\" || force === true) {\n",
       "    root._bokeh_onload_callbacks = [];\n",
       "    root._bokeh_is_loading = undefined;\n",
       "  }\n",
       "\n",
       "  var JS_MIME_TYPE = 'application/javascript';\n",
       "  var HTML_MIME_TYPE = 'text/html';\n",
       "  var EXEC_MIME_TYPE = 'application/vnd.bokehjs_exec.v0+json';\n",
       "  var CLASS_NAME = 'output_bokeh rendered_html';\n",
       "\n",
       "  /**\n",
       "   * Render data to the DOM node\n",
       "   */\n",
       "  function render(props, node) {\n",
       "    var script = document.createElement(\"script\");\n",
       "    node.appendChild(script);\n",
       "  }\n",
       "\n",
       "  /**\n",
       "   * Handle when an output is cleared or removed\n",
       "   */\n",
       "  function handleClearOutput(event, handle) {\n",
       "    var cell = handle.cell;\n",
       "\n",
       "    var id = cell.output_area._bokeh_element_id;\n",
       "    var server_id = cell.output_area._bokeh_server_id;\n",
       "    // Clean up Bokeh references\n",
       "    if (id !== undefined) {\n",
       "      Bokeh.index[id].model.document.clear();\n",
       "      delete Bokeh.index[id];\n",
       "    }\n",
       "\n",
       "    if (server_id !== undefined) {\n",
       "      // Clean up Bokeh references\n",
       "      var cmd = \"from bokeh.io.state import curstate; print(curstate().uuid_to_server['\" + server_id + \"'].get_sessions()[0].document.roots[0]._id)\";\n",
       "      cell.notebook.kernel.execute(cmd, {\n",
       "        iopub: {\n",
       "          output: function(msg) {\n",
       "            var element_id = msg.content.text.trim();\n",
       "            Bokeh.index[element_id].model.document.clear();\n",
       "            delete Bokeh.index[element_id];\n",
       "          }\n",
       "        }\n",
       "      });\n",
       "      // Destroy server and session\n",
       "      var cmd = \"import bokeh.io.notebook as ion; ion.destroy_server('\" + server_id + \"')\";\n",
       "      cell.notebook.kernel.execute(cmd);\n",
       "    }\n",
       "  }\n",
       "\n",
       "  /**\n",
       "   * Handle when a new output is added\n",
       "   */\n",
       "  function handleAddOutput(event, handle) {\n",
       "    var output_area = handle.output_area;\n",
       "    var output = handle.output;\n",
       "\n",
       "    // limit handleAddOutput to display_data with EXEC_MIME_TYPE content only\n",
       "    if ((output.output_type != \"display_data\") || (!output.data.hasOwnProperty(EXEC_MIME_TYPE))) {\n",
       "      return\n",
       "    }\n",
       "\n",
       "    var toinsert = output_area.element.find(`.${CLASS_NAME.split(' ')[0]}`);\n",
       "\n",
       "    if (output.metadata[EXEC_MIME_TYPE][\"id\"] !== undefined) {\n",
       "      toinsert[0].firstChild.textContent = output.data[JS_MIME_TYPE];\n",
       "      // store reference to embed id on output_area\n",
       "      output_area._bokeh_element_id = output.metadata[EXEC_MIME_TYPE][\"id\"];\n",
       "    }\n",
       "    if (output.metadata[EXEC_MIME_TYPE][\"server_id\"] !== undefined) {\n",
       "      var bk_div = document.createElement(\"div\");\n",
       "      bk_div.innerHTML = output.data[HTML_MIME_TYPE];\n",
       "      var script_attrs = bk_div.children[0].attributes;\n",
       "      for (var i = 0; i < script_attrs.length; i++) {\n",
       "        toinsert[0].firstChild.setAttribute(script_attrs[i].name, script_attrs[i].value);\n",
       "      }\n",
       "      // store reference to server id on output_area\n",
       "      output_area._bokeh_server_id = output.metadata[EXEC_MIME_TYPE][\"server_id\"];\n",
       "    }\n",
       "  }\n",
       "\n",
       "  function register_renderer(events, OutputArea) {\n",
       "\n",
       "    function append_mime(data, metadata, element) {\n",
       "      // create a DOM node to render to\n",
       "      var toinsert = this.create_output_subarea(\n",
       "        metadata,\n",
       "        CLASS_NAME,\n",
       "        EXEC_MIME_TYPE\n",
       "      );\n",
       "      this.keyboard_manager.register_events(toinsert);\n",
       "      // Render to node\n",
       "      var props = {data: data, metadata: metadata[EXEC_MIME_TYPE]};\n",
       "      render(props, toinsert[0]);\n",
       "      element.append(toinsert);\n",
       "      return toinsert\n",
       "    }\n",
       "\n",
       "    /* Handle when an output is cleared or removed */\n",
       "    events.on('clear_output.CodeCell', handleClearOutput);\n",
       "    events.on('delete.Cell', handleClearOutput);\n",
       "\n",
       "    /* Handle when a new output is added */\n",
       "    events.on('output_added.OutputArea', handleAddOutput);\n",
       "\n",
       "    /**\n",
       "     * Register the mime type and append_mime function with output_area\n",
       "     */\n",
       "    OutputArea.prototype.register_mime_type(EXEC_MIME_TYPE, append_mime, {\n",
       "      /* Is output safe? */\n",
       "      safe: true,\n",
       "      /* Index of renderer in `output_area.display_order` */\n",
       "      index: 0\n",
       "    });\n",
       "  }\n",
       "\n",
       "  // register the mime type if in Jupyter Notebook environment and previously unregistered\n",
       "  if (root.Jupyter !== undefined) {\n",
       "    var events = require('base/js/events');\n",
       "    var OutputArea = require('notebook/js/outputarea').OutputArea;\n",
       "\n",
       "    if (OutputArea.prototype.mime_types().indexOf(EXEC_MIME_TYPE) == -1) {\n",
       "      register_renderer(events, OutputArea);\n",
       "    }\n",
       "  }\n",
       "\n",
       "  \n",
       "  if (typeof (root._bokeh_timeout) === \"undefined\" || force === true) {\n",
       "    root._bokeh_timeout = Date.now() + 5000;\n",
       "    root._bokeh_failed_load = false;\n",
       "  }\n",
       "\n",
       "  var NB_LOAD_WARNING = {'data': {'text/html':\n",
       "     \"<div style='background-color: #fdd'>\\n\"+\n",
       "     \"<p>\\n\"+\n",
       "     \"BokehJS does not appear to have successfully loaded. If loading BokehJS from CDN, this \\n\"+\n",
       "     \"may be due to a slow or bad network connection. Possible fixes:\\n\"+\n",
       "     \"</p>\\n\"+\n",
       "     \"<ul>\\n\"+\n",
       "     \"<li>re-rerun `output_notebook()` to attempt to load from CDN again, or</li>\\n\"+\n",
       "     \"<li>use INLINE resources instead, as so:</li>\\n\"+\n",
       "     \"</ul>\\n\"+\n",
       "     \"<code>\\n\"+\n",
       "     \"from bokeh.resources import INLINE\\n\"+\n",
       "     \"output_notebook(resources=INLINE)\\n\"+\n",
       "     \"</code>\\n\"+\n",
       "     \"</div>\"}};\n",
       "\n",
       "  function display_loaded() {\n",
       "    var el = document.getElementById(\"1a0d1824-87b6-42e7-a539-bb3fc035eeb4\");\n",
       "    if (el != null) {\n",
       "      el.textContent = \"BokehJS is loading...\";\n",
       "    }\n",
       "    if (root.Bokeh !== undefined) {\n",
       "      if (el != null) {\n",
       "        el.textContent = \"BokehJS \" + root.Bokeh.version + \" successfully loaded.\";\n",
       "      }\n",
       "    } else if (Date.now() < root._bokeh_timeout) {\n",
       "      setTimeout(display_loaded, 100)\n",
       "    }\n",
       "  }\n",
       "\n",
       "\n",
       "  function run_callbacks() {\n",
       "    try {\n",
       "      root._bokeh_onload_callbacks.forEach(function(callback) { callback() });\n",
       "    }\n",
       "    finally {\n",
       "      delete root._bokeh_onload_callbacks\n",
       "    }\n",
       "    console.info(\"Bokeh: all callbacks have finished\");\n",
       "  }\n",
       "\n",
       "  function load_libs(js_urls, callback) {\n",
       "    root._bokeh_onload_callbacks.push(callback);\n",
       "    if (root._bokeh_is_loading > 0) {\n",
       "      console.log(\"Bokeh: BokehJS is being loaded, scheduling callback at\", now());\n",
       "      return null;\n",
       "    }\n",
       "    if (js_urls == null || js_urls.length === 0) {\n",
       "      run_callbacks();\n",
       "      return null;\n",
       "    }\n",
       "    console.log(\"Bokeh: BokehJS not loaded, scheduling load and callback at\", now());\n",
       "    root._bokeh_is_loading = js_urls.length;\n",
       "    for (var i = 0; i < js_urls.length; i++) {\n",
       "      var url = js_urls[i];\n",
       "      var s = document.createElement('script');\n",
       "      s.src = url;\n",
       "      s.async = false;\n",
       "      s.onreadystatechange = s.onload = function() {\n",
       "        root._bokeh_is_loading--;\n",
       "        if (root._bokeh_is_loading === 0) {\n",
       "          console.log(\"Bokeh: all BokehJS libraries loaded\");\n",
       "          run_callbacks()\n",
       "        }\n",
       "      };\n",
       "      s.onerror = function() {\n",
       "        console.warn(\"failed to load library \" + url);\n",
       "      };\n",
       "      console.log(\"Bokeh: injecting script tag for BokehJS library: \", url);\n",
       "      document.getElementsByTagName(\"head\")[0].appendChild(s);\n",
       "    }\n",
       "  };var element = document.getElementById(\"1a0d1824-87b6-42e7-a539-bb3fc035eeb4\");\n",
       "  if (element == null) {\n",
       "    console.log(\"Bokeh: ERROR: autoload.js configured with elementid '1a0d1824-87b6-42e7-a539-bb3fc035eeb4' but no matching script tag was found. \")\n",
       "    return false;\n",
       "  }\n",
       "\n",
       "  var js_urls = [\"https://cdn.pydata.org/bokeh/release/bokeh-0.12.10.min.js\", \"https://cdn.pydata.org/bokeh/release/bokeh-widgets-0.12.10.min.js\", \"https://cdn.pydata.org/bokeh/release/bokeh-tables-0.12.10.min.js\", \"https://cdn.pydata.org/bokeh/release/bokeh-gl-0.12.10.min.js\"];\n",
       "\n",
       "  var inline_js = [\n",
       "    function(Bokeh) {\n",
       "      Bokeh.set_log_level(\"info\");\n",
       "    },\n",
       "    \n",
       "    function(Bokeh) {\n",
       "      \n",
       "    },\n",
       "    function(Bokeh) {\n",
       "      console.log(\"Bokeh: injecting CSS: https://cdn.pydata.org/bokeh/release/bokeh-0.12.10.min.css\");\n",
       "      Bokeh.embed.inject_css(\"https://cdn.pydata.org/bokeh/release/bokeh-0.12.10.min.css\");\n",
       "      console.log(\"Bokeh: injecting CSS: https://cdn.pydata.org/bokeh/release/bokeh-widgets-0.12.10.min.css\");\n",
       "      Bokeh.embed.inject_css(\"https://cdn.pydata.org/bokeh/release/bokeh-widgets-0.12.10.min.css\");\n",
       "      console.log(\"Bokeh: injecting CSS: https://cdn.pydata.org/bokeh/release/bokeh-tables-0.12.10.min.css\");\n",
       "      Bokeh.embed.inject_css(\"https://cdn.pydata.org/bokeh/release/bokeh-tables-0.12.10.min.css\");\n",
       "    }\n",
       "  ];\n",
       "\n",
       "  function run_inline_js() {\n",
       "    \n",
       "    if ((root.Bokeh !== undefined) || (force === true)) {\n",
       "      for (var i = 0; i < inline_js.length; i++) {\n",
       "        inline_js[i].call(root, root.Bokeh);\n",
       "      }if (force === true) {\n",
       "        display_loaded();\n",
       "      }} else if (Date.now() < root._bokeh_timeout) {\n",
       "      setTimeout(run_inline_js, 100);\n",
       "    } else if (!root._bokeh_failed_load) {\n",
       "      console.log(\"Bokeh: BokehJS failed to load within specified timeout.\");\n",
       "      root._bokeh_failed_load = true;\n",
       "    } else if (force !== true) {\n",
       "      var cell = $(document.getElementById(\"1a0d1824-87b6-42e7-a539-bb3fc035eeb4\")).parents('.cell').data().cell;\n",
       "      cell.output_area.append_execute_result(NB_LOAD_WARNING)\n",
       "    }\n",
       "\n",
       "  }\n",
       "\n",
       "  if (root._bokeh_is_loading === 0) {\n",
       "    console.log(\"Bokeh: BokehJS loaded, going straight to plotting\");\n",
       "    run_inline_js();\n",
       "  } else {\n",
       "    load_libs(js_urls, function() {\n",
       "      console.log(\"Bokeh: BokehJS plotting callback run at\", now());\n",
       "      run_inline_js();\n",
       "    });\n",
       "  }\n",
       "}(window));"
      ],
      "application/vnd.bokehjs_load.v0+json": "\n(function(root) {\n  function now() {\n    return new Date();\n  }\n\n  var force = true;\n\n  if (typeof (root._bokeh_onload_callbacks) === \"undefined\" || force === true) {\n    root._bokeh_onload_callbacks = [];\n    root._bokeh_is_loading = undefined;\n  }\n\n  \n\n  \n  if (typeof (root._bokeh_timeout) === \"undefined\" || force === true) {\n    root._bokeh_timeout = Date.now() + 5000;\n    root._bokeh_failed_load = false;\n  }\n\n  var NB_LOAD_WARNING = {'data': {'text/html':\n     \"<div style='background-color: #fdd'>\\n\"+\n     \"<p>\\n\"+\n     \"BokehJS does not appear to have successfully loaded. If loading BokehJS from CDN, this \\n\"+\n     \"may be due to a slow or bad network connection. Possible fixes:\\n\"+\n     \"</p>\\n\"+\n     \"<ul>\\n\"+\n     \"<li>re-rerun `output_notebook()` to attempt to load from CDN again, or</li>\\n\"+\n     \"<li>use INLINE resources instead, as so:</li>\\n\"+\n     \"</ul>\\n\"+\n     \"<code>\\n\"+\n     \"from bokeh.resources import INLINE\\n\"+\n     \"output_notebook(resources=INLINE)\\n\"+\n     \"</code>\\n\"+\n     \"</div>\"}};\n\n  function display_loaded() {\n    var el = document.getElementById(\"1a0d1824-87b6-42e7-a539-bb3fc035eeb4\");\n    if (el != null) {\n      el.textContent = \"BokehJS is loading...\";\n    }\n    if (root.Bokeh !== undefined) {\n      if (el != null) {\n        el.textContent = \"BokehJS \" + root.Bokeh.version + \" successfully loaded.\";\n      }\n    } else if (Date.now() < root._bokeh_timeout) {\n      setTimeout(display_loaded, 100)\n    }\n  }\n\n\n  function run_callbacks() {\n    try {\n      root._bokeh_onload_callbacks.forEach(function(callback) { callback() });\n    }\n    finally {\n      delete root._bokeh_onload_callbacks\n    }\n    console.info(\"Bokeh: all callbacks have finished\");\n  }\n\n  function load_libs(js_urls, callback) {\n    root._bokeh_onload_callbacks.push(callback);\n    if (root._bokeh_is_loading > 0) {\n      console.log(\"Bokeh: BokehJS is being loaded, scheduling callback at\", now());\n      return null;\n    }\n    if (js_urls == null || js_urls.length === 0) {\n      run_callbacks();\n      return null;\n    }\n    console.log(\"Bokeh: BokehJS not loaded, scheduling load and callback at\", now());\n    root._bokeh_is_loading = js_urls.length;\n    for (var i = 0; i < js_urls.length; i++) {\n      var url = js_urls[i];\n      var s = document.createElement('script');\n      s.src = url;\n      s.async = false;\n      s.onreadystatechange = s.onload = function() {\n        root._bokeh_is_loading--;\n        if (root._bokeh_is_loading === 0) {\n          console.log(\"Bokeh: all BokehJS libraries loaded\");\n          run_callbacks()\n        }\n      };\n      s.onerror = function() {\n        console.warn(\"failed to load library \" + url);\n      };\n      console.log(\"Bokeh: injecting script tag for BokehJS library: \", url);\n      document.getElementsByTagName(\"head\")[0].appendChild(s);\n    }\n  };var element = document.getElementById(\"1a0d1824-87b6-42e7-a539-bb3fc035eeb4\");\n  if (element == null) {\n    console.log(\"Bokeh: ERROR: autoload.js configured with elementid '1a0d1824-87b6-42e7-a539-bb3fc035eeb4' but no matching script tag was found. \")\n    return false;\n  }\n\n  var js_urls = [\"https://cdn.pydata.org/bokeh/release/bokeh-0.12.10.min.js\", \"https://cdn.pydata.org/bokeh/release/bokeh-widgets-0.12.10.min.js\", \"https://cdn.pydata.org/bokeh/release/bokeh-tables-0.12.10.min.js\", \"https://cdn.pydata.org/bokeh/release/bokeh-gl-0.12.10.min.js\"];\n\n  var inline_js = [\n    function(Bokeh) {\n      Bokeh.set_log_level(\"info\");\n    },\n    \n    function(Bokeh) {\n      \n    },\n    function(Bokeh) {\n      console.log(\"Bokeh: injecting CSS: https://cdn.pydata.org/bokeh/release/bokeh-0.12.10.min.css\");\n      Bokeh.embed.inject_css(\"https://cdn.pydata.org/bokeh/release/bokeh-0.12.10.min.css\");\n      console.log(\"Bokeh: injecting CSS: https://cdn.pydata.org/bokeh/release/bokeh-widgets-0.12.10.min.css\");\n      Bokeh.embed.inject_css(\"https://cdn.pydata.org/bokeh/release/bokeh-widgets-0.12.10.min.css\");\n      console.log(\"Bokeh: injecting CSS: https://cdn.pydata.org/bokeh/release/bokeh-tables-0.12.10.min.css\");\n      Bokeh.embed.inject_css(\"https://cdn.pydata.org/bokeh/release/bokeh-tables-0.12.10.min.css\");\n    }\n  ];\n\n  function run_inline_js() {\n    \n    if ((root.Bokeh !== undefined) || (force === true)) {\n      for (var i = 0; i < inline_js.length; i++) {\n        inline_js[i].call(root, root.Bokeh);\n      }if (force === true) {\n        display_loaded();\n      }} else if (Date.now() < root._bokeh_timeout) {\n      setTimeout(run_inline_js, 100);\n    } else if (!root._bokeh_failed_load) {\n      console.log(\"Bokeh: BokehJS failed to load within specified timeout.\");\n      root._bokeh_failed_load = true;\n    } else if (force !== true) {\n      var cell = $(document.getElementById(\"1a0d1824-87b6-42e7-a539-bb3fc035eeb4\")).parents('.cell').data().cell;\n      cell.output_area.append_execute_result(NB_LOAD_WARNING)\n    }\n\n  }\n\n  if (root._bokeh_is_loading === 0) {\n    console.log(\"Bokeh: BokehJS loaded, going straight to plotting\");\n    run_inline_js();\n  } else {\n    load_libs(js_urls, function() {\n      console.log(\"Bokeh: BokehJS plotting callback run at\", now());\n      run_inline_js();\n    });\n  }\n}(window));"
     },
     "metadata": {},
     "output_type": "display_data"
    }
   ],
   "source": [
    "from bokeh.io import output_notebook\n",
    "output_notebook()"
   ]
  },
  {
   "cell_type": "code",
   "execution_count": 5,
   "metadata": {
    "collapsed": true
   },
   "outputs": [],
   "source": [
    "from bokeh.io import show\n",
    "from bokeh.plotting import figure"
   ]
  },
  {
   "cell_type": "code",
   "execution_count": 6,
   "metadata": {},
   "outputs": [
    {
     "data": {
      "text/plain": [
       "Year\n",
       "2010    27962207.0\n",
       "2010     2901883.0\n",
       "2010    36036159.0\n",
       "2010       84419.0\n",
       "2010    21219954.0\n",
       "Name: population, dtype: float64"
      ]
     },
     "execution_count": 6,
     "metadata": {},
     "output_type": "execute_result"
    }
   ],
   "source": [
    "data.loc[2010].population.head()"
   ]
  },
  {
   "cell_type": "code",
   "execution_count": 7,
   "metadata": {},
   "outputs": [
    {
     "data": {
      "text/html": [
       "\n",
       "<div class=\"bk-root\">\n",
       "    <div class=\"bk-plotdiv\" id=\"90c8540d-0980-4541-a4ac-caf37e9c9ae5\"></div>\n",
       "</div>"
      ]
     },
     "metadata": {},
     "output_type": "display_data"
    },
    {
     "data": {
      "application/javascript": [
       "(function(root) {\n",
       "  function embed_document(root) {\n",
       "    var docs_json = {\"c13bff84-a6d2-4890-bdeb-00b2646de389\":{\"roots\":{\"references\":[{\"attributes\":{\"formatter\":{\"id\":\"97ff3a65-ed57-4338-ae6c-0b4776ad2e8a\",\"type\":\"BasicTickFormatter\"},\"plot\":{\"id\":\"d5533274-98bd-416b-be1f-ed9b0c34cbef\",\"subtype\":\"Figure\",\"type\":\"Plot\"},\"ticker\":{\"id\":\"edeba6aa-7c06-4889-8d00-50ac3e667c7d\",\"type\":\"BasicTicker\"}},\"id\":\"08c4ab9d-f6c6-4671-a751-8a040982a502\",\"type\":\"LinearAxis\"},{\"attributes\":{},\"id\":\"edeba6aa-7c06-4889-8d00-50ac3e667c7d\",\"type\":\"BasicTicker\"},{\"attributes\":{\"dimension\":1,\"plot\":{\"id\":\"d5533274-98bd-416b-be1f-ed9b0c34cbef\",\"subtype\":\"Figure\",\"type\":\"Plot\"},\"ticker\":{\"id\":\"edeba6aa-7c06-4889-8d00-50ac3e667c7d\",\"type\":\"BasicTicker\"}},\"id\":\"969192ba-8673-4b54-b1f0-cabc283994c6\",\"type\":\"Grid\"},{\"attributes\":{\"callback\":null,\"column_names\":[\"x\",\"y\"],\"data\":{\"x\":{\"__ndarray__\":\"AAAAAACUmUAAAAAAAE/CQAAAAAAAZ8hAAAAAAMAI40AAAAAAAIe7QAAAAADAFdRAAAAAAIDKzkAAAAAAAGy5QAAAAABALuRAAAAAAKDt5EAAAAAAACfPQAAAAADAYNZAAAAAACDN40AAAAAAADajQAAAAACA4M1AAAAAAICrzkAAAAAAgOfjQAAAAACACMBAAAAAAACUmUAAAAAAAHS5QAAAAAAAn7RAAAAAAIDcwUAAAAAAAKXKQAAAAAAAosxAAAAAAMA+8UAAAAAAABPNQAAAAAAAXJZAAAAAAACohkAAAAAAAKKjQAAAAAAAFqRAAAAAAKDo40AAAAAAAHW3QAAAAAAAhJ5AAAAAAADB0kAAAAAAAGvCQAAAAACADMVAAAAAAABIlkAAAAAAAMCDQAAAAAAAnbVAAAAAAAARyEAAAAAAAJimQAAAAABAhdNAAAAAAEAL0kAAAAAAYHrgQAAAAACg/uRAAAAAAADSpEAAAAAAgEPEQAAAAACAL8JAAAAAAIC7xEAAAAAAAEW8QAAAAADgz+BAAAAAAADskEAAAAAAgDPVQAAAAAAA5JBAAAAAAAC6u0AAAAAAIEDjQAAAAAAg8eFAAAAAAAA3z0AAAAAAAAyaQAAAAAAAMrdAAAAAAADX40AAAAAAACaoQAAAAACAgdxAAAAAAADVxUAAAAAAAMG6QAAAAAAAhJJAAAAAAABglUAAAAAAAKa1QAAAAAAAuJdAAAAAAACusEAAAAAAgIvVQAAAAAAg8+JAAAAAAADDsUAAAAAAAJnAQAAAAAAAldBAAAAAAAAVyEAAAAAAgGrlQAAAAABA0dxAAAAAACB14UAAAAAAAFnAQAAAAACAzOBAAAAAAAD8xUAAAAAAQCTTQAAAAAAAjqNAAAAAAAAEm0AAAAAAUGbyQAAAAAAAudFAAAAAAIDDz0AAAAAAAHahQAAAAAAAiIVAAAAAAECN3UAAAAAAgEXUQAAAAACwQPZAAAAAAIDVxUAAAAAAALiVQAAAAAAACIdAAAAAAIDr00AAAAAAAM3GQAAAAAAAAJpAAAAAAIBA20AAAAAAAHSrQAAAAAAAxqlAAAAAAIB3zkAAAAAAADLOQAAAAAAAEqpAAAAAAACqrkAAAAAAABy+QAAAAAAArMpAAAAAAABCuUAAAAAAABCNQAAAAAAACqhAAAAAAIB4wEAAAAAAADyfQAAAAABgYuZAAAAAAAAU30AAAAAAAPyuQAAAAAAASIpAAAAAAAD6s0AAAAAAQLzuQAAAAACABOhAAAAAAAB8sEAAAAAAgCTNQAAAAAAA5qBAAAAAAABgu0AAAAAAgF3DQAAAAAAA7rVAAAAAAADU1EAAAAAAQMDaQAAAAAAAP/9AAAAAAAB+0EAAAAAAACjVQAAAAAAAuJNAAAAAAAAdtUAAAAAAAG6lQAAAAADAQ+ZAAAAAAAAMoUAAAAAAgAbIQAAAAAAA49NAAAAAAAAMlUAAAAAAgJfxQAAAAACA3ddAAAAAAEC220AAAAAAAOybQAAAAAAAMINAAAAAAICbx0AAAAAAAPytQAAAAABAHOBAAAAAAACUvUAAAAAAAKSpQAAAAACA+stAAAAAAADmtkAAAAAAQPLkQAAAAADgdOpAAAAAAADLuUAAAAAAoBXjQAAAAAAAfKBAAAAAAAC+oEAAAAAAAAvJQAAAAAAAxJtAAAAAAAB4k0AAAAAAAFGzQAAAAABAotxAAAAAAIBVxEAAAAAAgEjQQAAAAAAAmMNAAAAAAACsl0AAAAAAAKS+QAAAAACAqOtAAAAAAACy4UAAAAAAoBvoQAAAAADAsdBAAAAAAABZsEAAAAAAAAinQAAAAAAAJtBAAAAAAACGsUAAAAAAAEOwQAAAAAAA9qpAAAAAAAAwl0A=\",\"dtype\":\"float64\",\"shape\":[178]},\"y\":{\"__ndarray__\":\"ZmZmZmZmS0DNzMzMzMxSQJqZmZmZ+VJAzczMzMzsVEAzMzMzM7NNQM3MzMzMzFJAMzMzMzPzUkCamZmZmTlSQM3MzMzMbFRAAAAAAAAgVECamZmZmdlRQJqZmZmZGVJAzczMzMyMU0BmZmZmZiZRQJqZmZmZ2VJAzczMzMyMUUAzMzMzM/NTQGZmZmZmhlFAAAAAAAAAUEAzMzMzMxNRQDMzMzMz01FAAAAAAAAgU0AAAAAAACBQQM3MzMzMjFJAAAAAAACgU0BmZmZmZmZSQJqZmZmZWU5AmpmZmZlZTUCamZmZmblQQAAAAAAAwExAZmZmZmZGVECamZmZmVlSQJqZmZmZGUxAMzMzMzOzU0CamZmZmflSQDMzMzMz01JAAAAAAACAT0BmZmZmZiZMQGZmZmZmJk5AZmZmZmbmU0CamZmZmZlMQM3MzMzMTFNAAAAAAACAU0BmZmZmZmZUQDMzMzMz01NAZmZmZmbmTkCamZmZmZlSQM3MzMzMjFJAMzMzMzOTUUAzMzMzM3NSQJqZmZmZmUxAAAAAAACATkAzMzMzM/NSQAAAAAAAgE5AmpmZmZl5UEAAAAAAAABUQM3MzMzMTFRAAAAAAADATEAAAAAAAIBPQJqZmZmZGVJAzczMzMwMVEAAAAAAAMBPQGZmZmZm5lNAzczMzMzMUUAzMzMzM7NRQM3MzMzMjE1AAAAAAAAASkBmZmZmZqZPQAAAAAAAgEJAMzMzMzPTUUDNzMzMzKxSQAAAAAAAoFRAZmZmZmZGUEAzMzMzM3NRQJqZmZmZeVNAMzMzMzMTUUCamZmZmflTQAAAAAAAYFRAmpmZmZl5VEAAAAAAAOBSQAAAAAAAwFRAZmZmZmZmU0BmZmZmZsZQQM3MzMzMjE9AAAAAAADATkBmZmZmZsZTQAAAAAAAgFJAAAAAAACAU0AzMzMzM7NHQJqZmZmZ2U5AZmZmZmbmUkCamZmZmXlSQAAAAAAAQFRAMzMzMzPzUkBmZmZmZuZPQGZmZmZm5kpAMzMzMzOTUkCamZmZmblTQAAAAAAAQExAMzMzMzNzVEBmZmZmZgZQQM3MzMzMDFBAmpmZmZkZUkDNzMzMzOxSQJqZmZmZmVBAzczMzMyMUUBmZmZmZuZPQM3MzMzMzFJAzczMzMxsUkCamZmZmdlLQAAAAAAAgFBAAAAAAADATUAAAAAAAGBRQAAAAAAAIFRAAAAAAAAgVEAzMzMzM/NSQJqZmZmZWU5AZmZmZmZmTUCamZmZmTlUQAAAAAAAwFJAzczMzMwsUEDNzMzMzExTQJqZmZmZWU1AmpmZmZlZUkAzMzMzMzNTQM3MzMzMbFFAZmZmZmYGU0AAAAAAAOBTQDMzMzMzU1RAAAAAAACAUkDNzMzMzCxRQJqZmZmZ2U9AZmZmZmbmUUBmZmZmZuZQQM3MzMzMbFNAAAAAAABAUEAAAAAAAEBTQDMzMzMzM1JAAAAAAABATEAAAAAAAGBUQAAAAAAA4FJAAAAAAADgU0AAAAAAAIBPQDMzMzMzc0xAmpmZmZlZTEAAAAAAAEBMQGZmZmZmZlRAzczMzMzsUkAAAAAAAABRQAAAAAAAYFFAZmZmZmbmR0AAAAAAAGBUQDMzMzMzk1RAzczMzMwsU0AzMzMzM7NTQJqZmZmZeVFAMzMzMzNzTkBmZmZmZqZSQDMzMzMzc1FAAAAAAACATkBmZmZmZoZRQGZmZmZmxlFAMzMzMzMzU0DNzMzMzOxSQGZmZmZmplBAMzMzMzMzTUCamZmZmZlRQM3MzMzMDFNAAAAAAAAAVEAAAAAAAKBTQAAAAAAAIFNAZmZmZmZGUUAAAAAAAABQQM3MzMzMrFJAMzMzMzPzUkAAAAAAAIBSQM3MzMzMDEtAMzMzMzMzSUA=\",\"dtype\":\"float64\",\"shape\":[178]}}},\"id\":\"0b5945c4-6835-407c-8cf5-a5b1710d9c4c\",\"type\":\"ColumnDataSource\"},{\"attributes\":{\"fill_color\":{\"value\":\"#1f77b4\"},\"line_color\":{\"value\":\"#1f77b4\"},\"x\":{\"field\":\"x\"},\"y\":{\"field\":\"y\"}},\"id\":\"1199f13e-f8e0-4dc6-88ff-a76fce3d812b\",\"type\":\"Circle\"},{\"attributes\":{\"below\":[{\"id\":\"fdfb2f10-f032-43a2-befb-da58a8741d04\",\"type\":\"LogAxis\"}],\"left\":[{\"id\":\"08c4ab9d-f6c6-4671-a751-8a040982a502\",\"type\":\"LinearAxis\"}],\"plot_height\":200,\"renderers\":[{\"id\":\"fdfb2f10-f032-43a2-befb-da58a8741d04\",\"type\":\"LogAxis\"},{\"id\":\"d047097d-7391-406b-a516-212a5df3dc3d\",\"type\":\"Grid\"},{\"id\":\"08c4ab9d-f6c6-4671-a751-8a040982a502\",\"type\":\"LinearAxis\"},{\"id\":\"969192ba-8673-4b54-b1f0-cabc283994c6\",\"type\":\"Grid\"},{\"id\":\"a12312ae-0d47-4f9e-9b74-3cb255e25b99\",\"type\":\"GlyphRenderer\"}],\"title\":{\"id\":\"4a0f67f5-3ded-4323-b266-fae0cc2c7516\",\"type\":\"Title\"},\"toolbar\":{\"id\":\"61436159-1849-483d-a884-1481d0c3fe43\",\"type\":\"Toolbar\"},\"x_range\":{\"id\":\"bfb4f182-732e-4666-a9ca-ebf5b71d1dc2\",\"type\":\"Range1d\"},\"x_scale\":{\"id\":\"5cd7906a-79d3-4346-8819-99b17253b312\",\"type\":\"LogScale\"},\"y_range\":{\"id\":\"e013434d-b87b-4555-be1d-beaa0569c227\",\"type\":\"DataRange1d\"},\"y_scale\":{\"id\":\"59b07403-5e59-4ca8-98ca-955f737da337\",\"type\":\"LinearScale\"}},\"id\":\"d5533274-98bd-416b-be1f-ed9b0c34cbef\",\"subtype\":\"Figure\",\"type\":\"Plot\"},{\"attributes\":{\"format\":\"$0,\"},\"id\":\"cbed852c-7c8a-4b14-a722-1c6ac12caf56\",\"type\":\"NumeralTickFormatter\"},{\"attributes\":{\"active_drag\":\"auto\",\"active_inspect\":\"auto\",\"active_scroll\":\"auto\",\"active_tap\":\"auto\"},\"id\":\"61436159-1849-483d-a884-1481d0c3fe43\",\"type\":\"Toolbar\"},{\"attributes\":{\"source\":{\"id\":\"0b5945c4-6835-407c-8cf5-a5b1710d9c4c\",\"type\":\"ColumnDataSource\"}},\"id\":\"c1b10189-ef18-408d-9460-5075052a1927\",\"type\":\"CDSView\"},{\"attributes\":{},\"id\":\"97ff3a65-ed57-4338-ae6c-0b4776ad2e8a\",\"type\":\"BasicTickFormatter\"},{\"attributes\":{},\"id\":\"59b07403-5e59-4ca8-98ca-955f737da337\",\"type\":\"LinearScale\"},{\"attributes\":{\"fill_alpha\":{\"value\":0.1},\"fill_color\":{\"value\":\"#1f77b4\"},\"line_alpha\":{\"value\":0.1},\"line_color\":{\"value\":\"#1f77b4\"},\"x\":{\"field\":\"x\"},\"y\":{\"field\":\"y\"}},\"id\":\"46fffe8d-c689-4f2f-8ae2-bfe8aaf44aae\",\"type\":\"Circle\"},{\"attributes\":{\"data_source\":{\"id\":\"0b5945c4-6835-407c-8cf5-a5b1710d9c4c\",\"type\":\"ColumnDataSource\"},\"glyph\":{\"id\":\"1199f13e-f8e0-4dc6-88ff-a76fce3d812b\",\"type\":\"Circle\"},\"hover_glyph\":null,\"muted_glyph\":null,\"nonselection_glyph\":{\"id\":\"46fffe8d-c689-4f2f-8ae2-bfe8aaf44aae\",\"type\":\"Circle\"},\"selection_glyph\":null,\"view\":{\"id\":\"c1b10189-ef18-408d-9460-5075052a1927\",\"type\":\"CDSView\"}},\"id\":\"a12312ae-0d47-4f9e-9b74-3cb255e25b99\",\"type\":\"GlyphRenderer\"},{\"attributes\":{\"num_minor_ticks\":10},\"id\":\"f5c4938e-a765-425b-855c-d54303e0f272\",\"type\":\"LogTicker\"},{\"attributes\":{\"plot\":null,\"text\":\"\"},\"id\":\"4a0f67f5-3ded-4323-b266-fae0cc2c7516\",\"type\":\"Title\"},{\"attributes\":{\"callback\":null,\"end\":1000000,\"start\":100},\"id\":\"bfb4f182-732e-4666-a9ca-ebf5b71d1dc2\",\"type\":\"Range1d\"},{\"attributes\":{},\"id\":\"5cd7906a-79d3-4346-8819-99b17253b312\",\"type\":\"LogScale\"},{\"attributes\":{\"callback\":null},\"id\":\"e013434d-b87b-4555-be1d-beaa0569c227\",\"type\":\"DataRange1d\"},{\"attributes\":{\"formatter\":{\"id\":\"cbed852c-7c8a-4b14-a722-1c6ac12caf56\",\"type\":\"NumeralTickFormatter\"},\"plot\":{\"id\":\"d5533274-98bd-416b-be1f-ed9b0c34cbef\",\"subtype\":\"Figure\",\"type\":\"Plot\"},\"ticker\":{\"id\":\"f5c4938e-a765-425b-855c-d54303e0f272\",\"type\":\"LogTicker\"}},\"id\":\"fdfb2f10-f032-43a2-befb-da58a8741d04\",\"type\":\"LogAxis\"},{\"attributes\":{\"plot\":{\"id\":\"d5533274-98bd-416b-be1f-ed9b0c34cbef\",\"subtype\":\"Figure\",\"type\":\"Plot\"},\"ticker\":{\"id\":\"f5c4938e-a765-425b-855c-d54303e0f272\",\"type\":\"LogTicker\"}},\"id\":\"d047097d-7391-406b-a516-212a5df3dc3d\",\"type\":\"Grid\"}],\"root_ids\":[\"d5533274-98bd-416b-be1f-ed9b0c34cbef\"]},\"title\":\"Bokeh Application\",\"version\":\"0.12.10\"}};\n",
       "    var render_items = [{\"docid\":\"c13bff84-a6d2-4890-bdeb-00b2646de389\",\"elementid\":\"90c8540d-0980-4541-a4ac-caf37e9c9ae5\",\"modelid\":\"d5533274-98bd-416b-be1f-ed9b0c34cbef\"}];\n",
       "\n",
       "    root.Bokeh.embed.embed_items(docs_json, render_items);\n",
       "  }\n",
       "\n",
       "  if (root.Bokeh !== undefined) {\n",
       "    embed_document(root);\n",
       "  } else {\n",
       "    var attempts = 0;\n",
       "    var timer = setInterval(function(root) {\n",
       "      if (root.Bokeh !== undefined) {\n",
       "        embed_document(root);\n",
       "        clearInterval(timer);\n",
       "      }\n",
       "      attempts++;\n",
       "      if (attempts > 100) {\n",
       "        console.log(\"Bokeh: ERROR: Unable to embed document because BokehJS library is missing\")\n",
       "        clearInterval(timer);\n",
       "      }\n",
       "    }, 10, root)\n",
       "  }\n",
       "})(window);"
      ],
      "application/vnd.bokehjs_exec.v0+json": ""
     },
     "metadata": {
      "application/vnd.bokehjs_exec.v0+json": {
       "id": "d5533274-98bd-416b-be1f-ed9b0c34cbef"
      }
     },
     "output_type": "display_data"
    }
   ],
   "source": [
    "from bokeh.models import NumeralTickFormatter\n",
    "p = figure(height = 200, x_axis_type = 'log', x_range = (100, 1000000), tools = ' ')\n",
    "p.circle(x=data.loc[2010].income, y = data.loc[2010].life)\n",
    "p.xaxis[0].formatter = NumeralTickFormatter(format='$0,')\n",
    "show(p)"
   ]
  },
  {
   "cell_type": "code",
   "execution_count": 8,
   "metadata": {},
   "outputs": [
    {
     "data": {
      "text/plain": [
       "['x', 'y', 'country', 'region', 'population']"
      ]
     },
     "execution_count": 8,
     "metadata": {},
     "output_type": "execute_result"
    }
   ],
   "source": [
    "from bokeh.models import ColumnDataSource\n",
    "source = ColumnDataSource(dict(x=data.loc[2010].income, \n",
    "                               y=data.loc[2010].life, \n",
    "                               country = data.loc[2010].Country, \n",
    "                               region = data.loc[2010].region,\n",
    "                              population = data.loc[2010].population))\n",
    "source.column_names"
   ]
  },
  {
   "cell_type": "code",
   "execution_count": 9,
   "metadata": {
    "collapsed": true
   },
   "outputs": [],
   "source": [
    "plot_opts = dict(height = 300, x_axis_type = 'log', x_range = (100,100000), y_range = (0,100))"
   ]
  },
  {
   "cell_type": "code",
   "execution_count": 10,
   "metadata": {
    "collapsed": true
   },
   "outputs": [],
   "source": [
    "p = figure(**plot_opts)"
   ]
  },
  {
   "cell_type": "code",
   "execution_count": 11,
   "metadata": {},
   "outputs": [
    {
     "data": {
      "text/html": [
       "\n",
       "<div class=\"bk-root\">\n",
       "    <div class=\"bk-plotdiv\" id=\"4b8870a7-eb2b-4182-a55d-cc2400ad5d80\"></div>\n",
       "</div>"
      ]
     },
     "metadata": {},
     "output_type": "display_data"
    },
    {
     "data": {
      "application/javascript": [
       "(function(root) {\n",
       "  function embed_document(root) {\n",
       "    var docs_json = {\"3a9e67ba-7b41-444c-b52f-07d2e24ca212\":{\"roots\":{\"references\":[{\"attributes\":{\"below\":[{\"id\":\"e3dd75d5-01a3-44e9-a3e5-daa6af5ea339\",\"type\":\"LogAxis\"}],\"left\":[{\"id\":\"efaad7a1-5263-4fd4-b7ff-c6a3d0878210\",\"type\":\"LinearAxis\"}],\"plot_height\":300,\"renderers\":[{\"id\":\"e3dd75d5-01a3-44e9-a3e5-daa6af5ea339\",\"type\":\"LogAxis\"},{\"id\":\"4e30d08e-cda3-4b0b-872c-6ea2d4460844\",\"type\":\"Grid\"},{\"id\":\"efaad7a1-5263-4fd4-b7ff-c6a3d0878210\",\"type\":\"LinearAxis\"},{\"id\":\"1edf94d0-e6b2-4b10-9598-00fd2d528cca\",\"type\":\"Grid\"},{\"id\":\"4e39b846-af90-4449-9dc9-e408841fd904\",\"type\":\"BoxAnnotation\"},{\"id\":\"cff60232-9252-419d-81e2-73a4efa3785e\",\"type\":\"GlyphRenderer\"}],\"title\":{\"id\":\"6fb0619c-5da9-47ef-a794-9016f2474d55\",\"type\":\"Title\"},\"toolbar\":{\"id\":\"5f7dc37e-8865-4aa5-aec4-8ba5658c72b3\",\"type\":\"Toolbar\"},\"x_range\":{\"id\":\"2bdad9ce-1800-4dd9-b2d6-aee7d0c8f47e\",\"type\":\"Range1d\"},\"x_scale\":{\"id\":\"d77f134b-fd02-482d-9dc4-431c2e8b23d3\",\"type\":\"LogScale\"},\"y_range\":{\"id\":\"6e94fbc2-0010-4262-bb89-91273204bfb4\",\"type\":\"Range1d\"},\"y_scale\":{\"id\":\"409ade9b-24d8-43b6-85f5-863dbd86734a\",\"type\":\"LinearScale\"}},\"id\":\"24f88b45-5c33-4dd0-8ef7-647cf520dc0c\",\"subtype\":\"Figure\",\"type\":\"Plot\"},{\"attributes\":{},\"id\":\"6de9ee62-025b-4362-9d65-084f8e397720\",\"type\":\"WheelZoomTool\"},{\"attributes\":{\"dimension\":1,\"plot\":{\"id\":\"24f88b45-5c33-4dd0-8ef7-647cf520dc0c\",\"subtype\":\"Figure\",\"type\":\"Plot\"},\"ticker\":{\"id\":\"390b944b-4a6e-43b4-b673-aed84e6647a3\",\"type\":\"BasicTicker\"}},\"id\":\"1edf94d0-e6b2-4b10-9598-00fd2d528cca\",\"type\":\"Grid\"},{\"attributes\":{},\"id\":\"d77f134b-fd02-482d-9dc4-431c2e8b23d3\",\"type\":\"LogScale\"},{\"attributes\":{\"callback\":null,\"end\":100},\"id\":\"6e94fbc2-0010-4262-bb89-91273204bfb4\",\"type\":\"Range1d\"},{\"attributes\":{},\"id\":\"915a4ff5-7112-467c-8818-75c28f25f5aa\",\"type\":\"SaveTool\"},{\"attributes\":{},\"id\":\"409ade9b-24d8-43b6-85f5-863dbd86734a\",\"type\":\"LinearScale\"},{\"attributes\":{},\"id\":\"069de642-059d-4e89-a1be-72db18323a1f\",\"type\":\"HelpTool\"},{\"attributes\":{\"overlay\":{\"id\":\"4e39b846-af90-4449-9dc9-e408841fd904\",\"type\":\"BoxAnnotation\"}},\"id\":\"49a28d32-7390-401a-b314-a18e543da68f\",\"type\":\"BoxZoomTool\"},{\"attributes\":{},\"id\":\"390b944b-4a6e-43b4-b673-aed84e6647a3\",\"type\":\"BasicTicker\"},{\"attributes\":{\"callback\":null,\"column_names\":[\"x\",\"y\",\"country\",\"region\",\"population\"],\"data\":{\"country\":[\"Afghanistan\",\"Albania\",\"Algeria\",\"Andorra\",\"Angola\",\"Antigua and Barbuda\",\"Argentina\",\"Armenia\",\"Australia\",\"Austria\",\"Azerbaijan\",\"Bahamas\",\"Bahrain\",\"Bangladesh\",\"Barbados\",\"Belarus\",\"Belgium\",\"Belize\",\"Benin\",\"Bhutan\",\"Bolivia\",\"Bosnia and Herzegovina\",\"Botswana\",\"Brazil\",\"Brunei\",\"Bulgaria\",\"Burkina Faso\",\"Burundi\",\"Cambodia\",\"Cameroon\",\"Canada\",\"Cape Verde\",\"Chad\",\"Chile\",\"China\",\"Colombia\",\"Comoros\",\"Congo, Dem. Rep.\",\"Congo, Rep.\",\"Costa Rica\",\"Cote d'Ivoire\",\"Croatia\",\"Cuba\",\"Cyprus\",\"Denmark\",\"Djibouti\",\"Dominica\",\"Ecuador\",\"Egypt\",\"El Salvador\",\"Equatorial Guinea\",\"Eritrea\",\"Estonia\",\"Ethiopia\",\"Fiji\",\"Finland\",\"France\",\"Gabon\",\"Gambia\",\"Georgia\",\"Germany\",\"Ghana\",\"Greece\",\"Grenada\",\"Guatemala\",\"Guinea\",\"Guinea-Bissau\",\"Guyana\",\"Haiti\",\"Honduras\",\"Hungary\",\"Iceland\",\"India\",\"Indonesia\",\"Iran\",\"Iraq\",\"Ireland\",\"Israel\",\"Italy\",\"Jamaica\",\"Japan\",\"Jordan\",\"Kazakhstan\",\"Kenya\",\"Kiribati\",\"Kuwait\",\"Latvia\",\"Lebanon\",\"Lesotho\",\"Liberia\",\"Libya\",\"Lithuania\",\"Luxembourg\",\"Macedonia, FYR\",\"Madagascar\",\"Malawi\",\"Malaysia\",\"Maldives\",\"Mali\",\"Malta\",\"Marshall Islands\",\"Mauritania\",\"Mauritius\",\"Mexico\",\"Micronesia, Fed. Sts.\",\"Moldova\",\"Mongolia\",\"Montenegro\",\"Morocco\",\"Mozambique\",\"Myanmar\",\"Namibia\",\"Nepal\",\"Netherlands\",\"New Zealand\",\"Nicaragua\",\"Niger\",\"Nigeria\",\"Norway\",\"Oman\",\"Pakistan\",\"Panama\",\"Papua New Guinea\",\"Paraguay\",\"Peru\",\"Philippines\",\"Poland\",\"Portugal\",\"Qatar\",\"Romania\",\"Russia\",\"Rwanda\",\"Samoa\",\"Sao Tome and Principe\",\"Saudi Arabia\",\"Senegal\",\"Serbia\",\"Seychelles\",\"Sierra Leone\",\"Singapore\",\"Slovak Republic\",\"Slovenia\",\"Solomon Islands\",\"Somalia\",\"South Africa\",\"South Sudan\",\"Spain\",\"Sri Lanka\",\"Sudan\",\"Suriname\",\"Swaziland\",\"Sweden\",\"Switzerland\",\"Syria\",\"Taiwan\",\"Tajikistan\",\"Tanzania\",\"Thailand\",\"Timor-Leste\",\"Togo\",\"Tonga\",\"Trinidad and Tobago\",\"Tunisia\",\"Turkey\",\"Turkmenistan\",\"Uganda\",\"Ukraine\",\"United Arab Emirates\",\"United Kingdom\",\"United States\",\"Uruguay\",\"Uzbekistan\",\"Vanuatu\",\"Venezuela\",\"Vietnam\",\"West Bank and Gaza\",\"Zambia\",\"Zimbabwe\"],\"population\":{\"__ndarray__\":\"AAAA8LWqekEAAACAvSNGQQAAAPjxLoFBAAAAADCc9EAAAAAgpzx0QQAAAAAQTPVAAAAA2Baog0EAAAAAFJxGQQAAAPDaInVBAAAAQKYBYEEAAACgTlthQQAAAAD4BRZBAAAAAAc/M0EAAAAS+hKiQQAAAAA4EBFBAAAAQNMaYkEAAABA59hkQQAAAAAkoRNBAAAAwHQjYkEAAAAA7PolQQAAAKDk6mJBAAAAAL1CTUEAAAAAVz8/QQAAAIA5radBAAAAAFgBGEEAAABAsEFcQQAAAEDY0G1BAAAAoK8LYkEAAABAeGVrQQAAAKAEo3NBAAAA6MpFgEEAAAAALO4dQQAAAIDHsGZBAAAAgBA6cEEAAEDIY/vTQQAAAKg85YVBAAAAAI5SJUEAAADAKHGPQQAAAACPBU9BAAAAQL5WUUEAAACw9zJzQQAAAEBCd1BBAAAAoIyRZUEAAAAARdcwQQAAAMDbLFVBAAAAAKRaKUEAAAAA8F/xQAAAAIBUfGxBAAAAiGKPk0EAAACAyAhXQQAAAAAMPSZBAAAAAMDjUUEAAAAAeVM0QQAAAFhZ4JRBAAAAAGA+KkEAAABA43lUQQAAAICvBY5BAAAAADCHN0EAAAAAStU5QQAAAACFNlBBAAAArGEtk0EAAABg8jB3QQAAAKDEUWVBAAAAAFCO+UAAAACgfBlsQQAAAMAmAWVBAAAAAJTvOEEAAAAApP0mQQAAACCgEmNBAAAAwACgXEEAAAAg9RljQQAAAABoaRNBAAAATtVX0kEAAACMcs2sQQAAAPQQtJFBAAAAwCtwfUEAAACAHZ1RQQAAAAB0TlxBAAAAOO1pjEEAAACAAupEQQAAAOj7Wp5BAAAAACbdWEEAAAAALBxvQQAAAMjjOoNBAAAAAIAP+UAAAACAiFdHQQAAAAAX5j9BAAAAAIGLUEEAAAAA2q0+QQAAAABzMk5BAAAAQNjmV0EAAACASdNHQQAAAADE/x5BAAAAAGt4P0EAAADAXhp0QQAAAADUK2xBAAAAwBzRekEAAAAAfEwUQQAAAMDm7WxBAAAAAIAmGUEAAAAAgJnpQAAAAAB0ZktBAAAAAM8KM0EAAAAY10ecQQAAAAAwTPlAAAAAgIEpT0EAAACAKLJEQQAAAAAA+yJBAAAAsM2efkEAAAAQ2zF3QQAAAKgQq4hBAAAAgHW8QEEAAABggKF5QQAAAGDiuG9BAAAAwKCqUEEAAACAPuNVQQAAAMASE29BAAAAzEEBo0EAAADAnKhSQQAAAICBdUZBAAAAHFRFpEEAAAAATZ9LQQAAAEAHH1pBAAAAQFWwV0EAAADATAN8QQAAANikLpZBAAAA0NJkgkEAAACgYDBkQQAAAACJ8DpBAAAAYMVbc0EAAACm1hChQQAAAKA0omNBAAAAAGi1BkEAAAAAANwEQQAAAHARynpBAAAA4I62aEEAAADAXEdhQQAAAACQufZAAAAAgIcIVkEAAABA7F9TQQAAAAAsoFRBAAAAAIBRP0EAAAAAwg4gQQAAAECSRmJBAAAA0HadiEEAAABgYy5jQQAAAKCoOIZBAAAAAPZDc0EAAAAojjiBQQAAAAD0nx9BAAAAALw0MkEAAAAgM+VhQQAAAIAB311BAAAAoL3Cc0EAAACAVvV1QQAAAAAA7FxBAAAAaFTEhUEAAADAHc2PQQAAAABiITBBAAAAwBBhWEEAAAAAsGD5QAAAAADfQzRBAAAAQOtKZEEAAABAej2RQQAAAMDSO1NBAAAAkB6df0EAAABINMSFQQAAAEA7xl9BAAAAYNjnjUEAAADKVXiyQQAAAACnvklBAAAAQGd0ekEAAAAAWNgMQQAAABAKp3tBAAAAPO4QlUEAAAAA1gpPQQAAAOCfi2pBAAAAIDGnakE=\",\"dtype\":\"float64\",\"shape\":[178]},\"region\":[\"South Asia\",\"Europe & Central Asia\",\"Middle East & North Africa\",\"Europe & Central Asia\",\"Sub-Saharan Africa\",\"America\",\"America\",\"Europe & Central Asia\",\"East Asia & Pacific\",\"Europe & Central Asia\",\"Europe & Central Asia\",\"America\",\"Middle East & North Africa\",\"South Asia\",\"America\",\"Europe & Central Asia\",\"Europe & Central Asia\",\"America\",\"Sub-Saharan Africa\",\"South Asia\",\"America\",\"Europe & Central Asia\",\"Sub-Saharan Africa\",\"America\",\"East Asia & Pacific\",\"Europe & Central Asia\",\"Sub-Saharan Africa\",\"Sub-Saharan Africa\",\"East Asia & Pacific\",\"Sub-Saharan Africa\",\"America\",\"Sub-Saharan Africa\",\"Sub-Saharan Africa\",\"America\",\"East Asia & Pacific\",\"America\",\"Sub-Saharan Africa\",\"Sub-Saharan Africa\",\"Sub-Saharan Africa\",\"America\",\"Sub-Saharan Africa\",\"Europe & Central Asia\",\"America\",\"Europe & Central Asia\",\"Europe & Central Asia\",\"Middle East & North Africa\",\"America\",\"America\",\"Middle East & North Africa\",\"America\",\"Sub-Saharan Africa\",\"Sub-Saharan Africa\",\"Europe & Central Asia\",\"Sub-Saharan Africa\",\"East Asia & Pacific\",\"Europe & Central Asia\",\"Europe & Central Asia\",\"Sub-Saharan Africa\",\"Sub-Saharan Africa\",\"Europe & Central Asia\",\"Europe & Central Asia\",\"Sub-Saharan Africa\",\"Europe & Central Asia\",\"America\",\"America\",\"Sub-Saharan Africa\",\"Sub-Saharan Africa\",\"America\",\"America\",\"America\",\"Europe & Central Asia\",\"Europe & Central Asia\",\"South Asia\",\"East Asia & Pacific\",\"Middle East & North Africa\",\"Middle East & North Africa\",\"Europe & Central Asia\",\"Middle East & North Africa\",\"Europe & Central Asia\",\"America\",\"East Asia & Pacific\",\"Middle East & North Africa\",\"Europe & Central Asia\",\"Sub-Saharan Africa\",\"East Asia & Pacific\",\"Middle East & North Africa\",\"Europe & Central Asia\",\"Middle East & North Africa\",\"Sub-Saharan Africa\",\"Sub-Saharan Africa\",\"Middle East & North Africa\",\"Europe & Central Asia\",\"Europe & Central Asia\",\"Europe & Central Asia\",\"Sub-Saharan Africa\",\"Sub-Saharan Africa\",\"East Asia & Pacific\",\"South Asia\",\"Sub-Saharan Africa\",\"Europe & Central Asia\",\"East Asia & Pacific\",\"Sub-Saharan Africa\",\"Sub-Saharan Africa\",\"America\",\"East Asia & Pacific\",\"Europe & Central Asia\",\"East Asia & Pacific\",\"Europe & Central Asia\",\"Middle East & North Africa\",\"Sub-Saharan Africa\",\"East Asia & Pacific\",\"Sub-Saharan Africa\",\"South Asia\",\"Europe & Central Asia\",\"East Asia & Pacific\",\"America\",\"Sub-Saharan Africa\",\"Sub-Saharan Africa\",\"Europe & Central Asia\",\"Middle East & North Africa\",\"South Asia\",\"America\",\"East Asia & Pacific\",\"America\",\"America\",\"East Asia & Pacific\",\"Europe & Central Asia\",\"Europe & Central Asia\",\"Middle East & North Africa\",\"Europe & Central Asia\",\"Europe & Central Asia\",\"Sub-Saharan Africa\",\"East Asia & Pacific\",\"Sub-Saharan Africa\",\"Middle East & North Africa\",\"Sub-Saharan Africa\",\"Europe & Central Asia\",\"Sub-Saharan Africa\",\"Sub-Saharan Africa\",\"East Asia & Pacific\",\"Europe & Central Asia\",\"Europe & Central Asia\",\"East Asia & Pacific\",\"Sub-Saharan Africa\",\"Sub-Saharan Africa\",\"Sub-Saharan Africa\",\"Europe & Central Asia\",\"South Asia\",\"Sub-Saharan Africa\",\"America\",\"Sub-Saharan Africa\",\"Europe & Central Asia\",\"Europe & Central Asia\",\"Middle East & North Africa\",\"East Asia & Pacific\",\"Europe & Central Asia\",\"Sub-Saharan Africa\",\"East Asia & Pacific\",\"East Asia & Pacific\",\"Sub-Saharan Africa\",\"East Asia & Pacific\",\"America\",\"Middle East & North Africa\",\"Europe & Central Asia\",\"Europe & Central Asia\",\"Sub-Saharan Africa\",\"Europe & Central Asia\",\"Middle East & North Africa\",\"Europe & Central Asia\",\"America\",\"America\",\"Europe & Central Asia\",\"East Asia & Pacific\",\"America\",\"East Asia & Pacific\",\"Middle East & North Africa\",\"Sub-Saharan Africa\",\"Sub-Saharan Africa\"],\"x\":{\"__ndarray__\":\"AAAAAACUmUAAAAAAAE/CQAAAAAAAZ8hAAAAAAMAI40AAAAAAAIe7QAAAAADAFdRAAAAAAIDKzkAAAAAAAGy5QAAAAABALuRAAAAAAKDt5EAAAAAAACfPQAAAAADAYNZAAAAAACDN40AAAAAAADajQAAAAACA4M1AAAAAAICrzkAAAAAAgOfjQAAAAACACMBAAAAAAACUmUAAAAAAAHS5QAAAAAAAn7RAAAAAAIDcwUAAAAAAAKXKQAAAAAAAosxAAAAAAMA+8UAAAAAAABPNQAAAAAAAXJZAAAAAAACohkAAAAAAAKKjQAAAAAAAFqRAAAAAAKDo40AAAAAAAHW3QAAAAAAAhJ5AAAAAAADB0kAAAAAAAGvCQAAAAACADMVAAAAAAABIlkAAAAAAAMCDQAAAAAAAnbVAAAAAAAARyEAAAAAAAJimQAAAAABAhdNAAAAAAEAL0kAAAAAAYHrgQAAAAACg/uRAAAAAAADSpEAAAAAAgEPEQAAAAACAL8JAAAAAAIC7xEAAAAAAAEW8QAAAAADgz+BAAAAAAADskEAAAAAAgDPVQAAAAAAA5JBAAAAAAAC6u0AAAAAAIEDjQAAAAAAg8eFAAAAAAAA3z0AAAAAAAAyaQAAAAAAAMrdAAAAAAADX40AAAAAAACaoQAAAAACAgdxAAAAAAADVxUAAAAAAAMG6QAAAAAAAhJJAAAAAAABglUAAAAAAAKa1QAAAAAAAuJdAAAAAAACusEAAAAAAgIvVQAAAAAAg8+JAAAAAAADDsUAAAAAAAJnAQAAAAAAAldBAAAAAAAAVyEAAAAAAgGrlQAAAAABA0dxAAAAAACB14UAAAAAAAFnAQAAAAACAzOBAAAAAAAD8xUAAAAAAQCTTQAAAAAAAjqNAAAAAAAAEm0AAAAAAUGbyQAAAAAAAudFAAAAAAIDDz0AAAAAAAHahQAAAAAAAiIVAAAAAAECN3UAAAAAAgEXUQAAAAACwQPZAAAAAAIDVxUAAAAAAALiVQAAAAAAACIdAAAAAAIDr00AAAAAAAM3GQAAAAAAAAJpAAAAAAIBA20AAAAAAAHSrQAAAAAAAxqlAAAAAAIB3zkAAAAAAADLOQAAAAAAAEqpAAAAAAACqrkAAAAAAABy+QAAAAAAArMpAAAAAAABCuUAAAAAAABCNQAAAAAAACqhAAAAAAIB4wEAAAAAAADyfQAAAAABgYuZAAAAAAAAU30AAAAAAAPyuQAAAAAAASIpAAAAAAAD6s0AAAAAAQLzuQAAAAACABOhAAAAAAAB8sEAAAAAAgCTNQAAAAAAA5qBAAAAAAABgu0AAAAAAgF3DQAAAAAAA7rVAAAAAAADU1EAAAAAAQMDaQAAAAAAAP/9AAAAAAAB+0EAAAAAAACjVQAAAAAAAuJNAAAAAAAAdtUAAAAAAAG6lQAAAAADAQ+ZAAAAAAAAMoUAAAAAAgAbIQAAAAAAA49NAAAAAAAAMlUAAAAAAgJfxQAAAAACA3ddAAAAAAEC220AAAAAAAOybQAAAAAAAMINAAAAAAICbx0AAAAAAAPytQAAAAABAHOBAAAAAAACUvUAAAAAAAKSpQAAAAACA+stAAAAAAADmtkAAAAAAQPLkQAAAAADgdOpAAAAAAADLuUAAAAAAoBXjQAAAAAAAfKBAAAAAAAC+oEAAAAAAAAvJQAAAAAAAxJtAAAAAAAB4k0AAAAAAAFGzQAAAAABAotxAAAAAAIBVxEAAAAAAgEjQQAAAAAAAmMNAAAAAAACsl0AAAAAAAKS+QAAAAACAqOtAAAAAAACy4UAAAAAAoBvoQAAAAADAsdBAAAAAAABZsEAAAAAAAAinQAAAAAAAJtBAAAAAAACGsUAAAAAAAEOwQAAAAAAA9qpAAAAAAAAwl0A=\",\"dtype\":\"float64\",\"shape\":[178]},\"y\":{\"__ndarray__\":\"ZmZmZmZmS0DNzMzMzMxSQJqZmZmZ+VJAzczMzMzsVEAzMzMzM7NNQM3MzMzMzFJAMzMzMzPzUkCamZmZmTlSQM3MzMzMbFRAAAAAAAAgVECamZmZmdlRQJqZmZmZGVJAzczMzMyMU0BmZmZmZiZRQJqZmZmZ2VJAzczMzMyMUUAzMzMzM/NTQGZmZmZmhlFAAAAAAAAAUEAzMzMzMxNRQDMzMzMz01FAAAAAAAAgU0AAAAAAACBQQM3MzMzMjFJAAAAAAACgU0BmZmZmZmZSQJqZmZmZWU5AmpmZmZlZTUCamZmZmblQQAAAAAAAwExAZmZmZmZGVECamZmZmVlSQJqZmZmZGUxAMzMzMzOzU0CamZmZmflSQDMzMzMz01JAAAAAAACAT0BmZmZmZiZMQGZmZmZmJk5AZmZmZmbmU0CamZmZmZlMQM3MzMzMTFNAAAAAAACAU0BmZmZmZmZUQDMzMzMz01NAZmZmZmbmTkCamZmZmZlSQM3MzMzMjFJAMzMzMzOTUUAzMzMzM3NSQJqZmZmZmUxAAAAAAACATkAzMzMzM/NSQAAAAAAAgE5AmpmZmZl5UEAAAAAAAABUQM3MzMzMTFRAAAAAAADATEAAAAAAAIBPQJqZmZmZGVJAzczMzMwMVEAAAAAAAMBPQGZmZmZm5lNAzczMzMzMUUAzMzMzM7NRQM3MzMzMjE1AAAAAAAAASkBmZmZmZqZPQAAAAAAAgEJAMzMzMzPTUUDNzMzMzKxSQAAAAAAAoFRAZmZmZmZGUEAzMzMzM3NRQJqZmZmZeVNAMzMzMzMTUUCamZmZmflTQAAAAAAAYFRAmpmZmZl5VEAAAAAAAOBSQAAAAAAAwFRAZmZmZmZmU0BmZmZmZsZQQM3MzMzMjE9AAAAAAADATkBmZmZmZsZTQAAAAAAAgFJAAAAAAACAU0AzMzMzM7NHQJqZmZmZ2U5AZmZmZmbmUkCamZmZmXlSQAAAAAAAQFRAMzMzMzPzUkBmZmZmZuZPQGZmZmZm5kpAMzMzMzOTUkCamZmZmblTQAAAAAAAQExAMzMzMzNzVEBmZmZmZgZQQM3MzMzMDFBAmpmZmZkZUkDNzMzMzOxSQJqZmZmZmVBAzczMzMyMUUBmZmZmZuZPQM3MzMzMzFJAzczMzMxsUkCamZmZmdlLQAAAAAAAgFBAAAAAAADATUAAAAAAAGBRQAAAAAAAIFRAAAAAAAAgVEAzMzMzM/NSQJqZmZmZWU5AZmZmZmZmTUCamZmZmTlUQAAAAAAAwFJAzczMzMwsUEDNzMzMzExTQJqZmZmZWU1AmpmZmZlZUkAzMzMzMzNTQM3MzMzMbFFAZmZmZmYGU0AAAAAAAOBTQDMzMzMzU1RAAAAAAACAUkDNzMzMzCxRQJqZmZmZ2U9AZmZmZmbmUUBmZmZmZuZQQM3MzMzMbFNAAAAAAABAUEAAAAAAAEBTQDMzMzMzM1JAAAAAAABATEAAAAAAAGBUQAAAAAAA4FJAAAAAAADgU0AAAAAAAIBPQDMzMzMzc0xAmpmZmZlZTEAAAAAAAEBMQGZmZmZmZlRAzczMzMzsUkAAAAAAAABRQAAAAAAAYFFAZmZmZmbmR0AAAAAAAGBUQDMzMzMzk1RAzczMzMwsU0AzMzMzM7NTQJqZmZmZeVFAMzMzMzNzTkBmZmZmZqZSQDMzMzMzc1FAAAAAAACATkBmZmZmZoZRQGZmZmZmxlFAMzMzMzMzU0DNzMzMzOxSQGZmZmZmplBAMzMzMzMzTUCamZmZmZlRQM3MzMzMDFNAAAAAAAAAVEAAAAAAAKBTQAAAAAAAIFNAZmZmZmZGUUAAAAAAAABQQM3MzMzMrFJAMzMzMzPzUkAAAAAAAIBSQM3MzMzMDEtAMzMzMzMzSUA=\",\"dtype\":\"float64\",\"shape\":[178]}}},\"id\":\"0672468f-e68e-4972-8669-77695d747f10\",\"type\":\"ColumnDataSource\"},{\"attributes\":{\"formatter\":{\"id\":\"f73704ce-c06c-4b8b-a388-f5637e263d1b\",\"type\":\"BasicTickFormatter\"},\"plot\":{\"id\":\"24f88b45-5c33-4dd0-8ef7-647cf520dc0c\",\"subtype\":\"Figure\",\"type\":\"Plot\"},\"ticker\":{\"id\":\"390b944b-4a6e-43b4-b673-aed84e6647a3\",\"type\":\"BasicTicker\"}},\"id\":\"efaad7a1-5263-4fd4-b7ff-c6a3d0878210\",\"type\":\"LinearAxis\"},{\"attributes\":{},\"id\":\"119f2d35-c51f-4522-845e-aa536b670217\",\"type\":\"PanTool\"},{\"attributes\":{\"fill_alpha\":{\"value\":0.1},\"fill_color\":{\"value\":\"#1f77b4\"},\"line_alpha\":{\"value\":0.1},\"line_color\":{\"value\":\"#1f77b4\"},\"x\":{\"field\":\"x\"},\"y\":{\"field\":\"y\"}},\"id\":\"10cae2fe-8bfd-4b97-b68e-1d789989cce7\",\"type\":\"Circle\"},{\"attributes\":{\"callback\":null,\"end\":100000,\"start\":100},\"id\":\"2bdad9ce-1800-4dd9-b2d6-aee7d0c8f47e\",\"type\":\"Range1d\"},{\"attributes\":{\"num_minor_ticks\":10},\"id\":\"9dc8fe58-2487-4386-bdb8-b91e2adb2171\",\"type\":\"LogTicker\"},{\"attributes\":{\"ticker\":null},\"id\":\"4aca867e-1cfd-4382-9979-ef1f91dae509\",\"type\":\"LogTickFormatter\"},{\"attributes\":{\"plot\":{\"id\":\"24f88b45-5c33-4dd0-8ef7-647cf520dc0c\",\"subtype\":\"Figure\",\"type\":\"Plot\"},\"ticker\":{\"id\":\"9dc8fe58-2487-4386-bdb8-b91e2adb2171\",\"type\":\"LogTicker\"}},\"id\":\"4e30d08e-cda3-4b0b-872c-6ea2d4460844\",\"type\":\"Grid\"},{\"attributes\":{},\"id\":\"581418a3-04b1-4b98-8759-0c6b6f69c8f3\",\"type\":\"ResetTool\"},{\"attributes\":{\"formatter\":{\"id\":\"4aca867e-1cfd-4382-9979-ef1f91dae509\",\"type\":\"LogTickFormatter\"},\"plot\":{\"id\":\"24f88b45-5c33-4dd0-8ef7-647cf520dc0c\",\"subtype\":\"Figure\",\"type\":\"Plot\"},\"ticker\":{\"id\":\"9dc8fe58-2487-4386-bdb8-b91e2adb2171\",\"type\":\"LogTicker\"}},\"id\":\"e3dd75d5-01a3-44e9-a3e5-daa6af5ea339\",\"type\":\"LogAxis\"},{\"attributes\":{\"plot\":null,\"text\":\"\"},\"id\":\"6fb0619c-5da9-47ef-a794-9016f2474d55\",\"type\":\"Title\"},{\"attributes\":{\"active_drag\":\"auto\",\"active_inspect\":\"auto\",\"active_scroll\":\"auto\",\"active_tap\":\"auto\",\"tools\":[{\"id\":\"119f2d35-c51f-4522-845e-aa536b670217\",\"type\":\"PanTool\"},{\"id\":\"6de9ee62-025b-4362-9d65-084f8e397720\",\"type\":\"WheelZoomTool\"},{\"id\":\"49a28d32-7390-401a-b314-a18e543da68f\",\"type\":\"BoxZoomTool\"},{\"id\":\"915a4ff5-7112-467c-8818-75c28f25f5aa\",\"type\":\"SaveTool\"},{\"id\":\"581418a3-04b1-4b98-8759-0c6b6f69c8f3\",\"type\":\"ResetTool\"},{\"id\":\"069de642-059d-4e89-a1be-72db18323a1f\",\"type\":\"HelpTool\"}]},\"id\":\"5f7dc37e-8865-4aa5-aec4-8ba5658c72b3\",\"type\":\"Toolbar\"},{\"attributes\":{\"fill_color\":{\"value\":\"#1f77b4\"},\"line_color\":{\"value\":\"#1f77b4\"},\"x\":{\"field\":\"x\"},\"y\":{\"field\":\"y\"}},\"id\":\"34141b9c-1b16-4651-8a4b-905f1095268e\",\"type\":\"Circle\"},{\"attributes\":{\"source\":{\"id\":\"0672468f-e68e-4972-8669-77695d747f10\",\"type\":\"ColumnDataSource\"}},\"id\":\"9f70b53a-e071-4f28-9f20-810b7e9bf48e\",\"type\":\"CDSView\"},{\"attributes\":{\"data_source\":{\"id\":\"0672468f-e68e-4972-8669-77695d747f10\",\"type\":\"ColumnDataSource\"},\"glyph\":{\"id\":\"34141b9c-1b16-4651-8a4b-905f1095268e\",\"type\":\"Circle\"},\"hover_glyph\":null,\"muted_glyph\":null,\"nonselection_glyph\":{\"id\":\"10cae2fe-8bfd-4b97-b68e-1d789989cce7\",\"type\":\"Circle\"},\"selection_glyph\":null,\"view\":{\"id\":\"9f70b53a-e071-4f28-9f20-810b7e9bf48e\",\"type\":\"CDSView\"}},\"id\":\"cff60232-9252-419d-81e2-73a4efa3785e\",\"type\":\"GlyphRenderer\"},{\"attributes\":{},\"id\":\"f73704ce-c06c-4b8b-a388-f5637e263d1b\",\"type\":\"BasicTickFormatter\"},{\"attributes\":{\"bottom_units\":\"screen\",\"fill_alpha\":{\"value\":0.5},\"fill_color\":{\"value\":\"lightgrey\"},\"left_units\":\"screen\",\"level\":\"overlay\",\"line_alpha\":{\"value\":1.0},\"line_color\":{\"value\":\"black\"},\"line_dash\":[4,4],\"line_width\":{\"value\":2},\"plot\":null,\"render_mode\":\"css\",\"right_units\":\"screen\",\"top_units\":\"screen\"},\"id\":\"4e39b846-af90-4449-9dc9-e408841fd904\",\"type\":\"BoxAnnotation\"}],\"root_ids\":[\"24f88b45-5c33-4dd0-8ef7-647cf520dc0c\"]},\"title\":\"Bokeh Application\",\"version\":\"0.12.10\"}};\n",
       "    var render_items = [{\"docid\":\"3a9e67ba-7b41-444c-b52f-07d2e24ca212\",\"elementid\":\"4b8870a7-eb2b-4182-a55d-cc2400ad5d80\",\"modelid\":\"24f88b45-5c33-4dd0-8ef7-647cf520dc0c\"}];\n",
       "\n",
       "    root.Bokeh.embed.embed_items(docs_json, render_items);\n",
       "  }\n",
       "\n",
       "  if (root.Bokeh !== undefined) {\n",
       "    embed_document(root);\n",
       "  } else {\n",
       "    var attempts = 0;\n",
       "    var timer = setInterval(function(root) {\n",
       "      if (root.Bokeh !== undefined) {\n",
       "        embed_document(root);\n",
       "        clearInterval(timer);\n",
       "      }\n",
       "      attempts++;\n",
       "      if (attempts > 100) {\n",
       "        console.log(\"Bokeh: ERROR: Unable to embed document because BokehJS library is missing\")\n",
       "        clearInterval(timer);\n",
       "      }\n",
       "    }, 10, root)\n",
       "  }\n",
       "})(window);"
      ],
      "application/vnd.bokehjs_exec.v0+json": ""
     },
     "metadata": {
      "application/vnd.bokehjs_exec.v0+json": {
       "id": "24f88b45-5c33-4dd0-8ef7-647cf520dc0c"
      }
     },
     "output_type": "display_data"
    }
   ],
   "source": [
    "p.circle(x='x', y = 'y', source = source)\n",
    "show(p)"
   ]
  },
  {
   "cell_type": "code",
   "execution_count": 12,
   "metadata": {
    "collapsed": true
   },
   "outputs": [],
   "source": [
    "from bokeh.models import HoverTool"
   ]
  },
  {
   "cell_type": "code",
   "execution_count": 13,
   "metadata": {},
   "outputs": [
    {
     "data": {
      "text/html": [
       "\n",
       "<div class=\"bk-root\">\n",
       "    <div class=\"bk-plotdiv\" id=\"8eb3c538-5d3f-4b1d-b5c3-b443c5c4fde7\"></div>\n",
       "</div>"
      ]
     },
     "metadata": {},
     "output_type": "display_data"
    },
    {
     "data": {
      "application/javascript": [
       "(function(root) {\n",
       "  function embed_document(root) {\n",
       "    var docs_json = {\"c0d489ca-6fe5-4a1e-be3f-6a6f8fc62890\":{\"roots\":{\"references\":[{\"attributes\":{},\"id\":\"9e3b885f-2aa7-44ba-b595-f3ce8035ec6a\",\"type\":\"BasicTickFormatter\"},{\"attributes\":{\"num_minor_ticks\":10},\"id\":\"93289637-df2b-46fb-9f42-9871480e7fe6\",\"type\":\"LogTicker\"},{\"attributes\":{\"callback\":null,\"tooltips\":\"@region\"},\"id\":\"407d5208-6ce9-4f24-9a6f-d6477ffec02b\",\"type\":\"HoverTool\"},{\"attributes\":{\"ticker\":null},\"id\":\"8ae1b1d1-498f-4cb3-b12c-1d5aa45c290e\",\"type\":\"LogTickFormatter\"},{\"attributes\":{\"callback\":null,\"end\":100},\"id\":\"fcd98f66-0475-4c9a-bbb7-0314d5fe5b8f\",\"type\":\"Range1d\"},{\"attributes\":{\"below\":[{\"id\":\"074b24f0-19fd-4906-b135-8cdb1fa85b49\",\"type\":\"LogAxis\"}],\"left\":[{\"id\":\"e7e1d5a7-0d5b-4cca-83ae-59175f2966e3\",\"type\":\"LinearAxis\"}],\"plot_height\":300,\"renderers\":[{\"id\":\"074b24f0-19fd-4906-b135-8cdb1fa85b49\",\"type\":\"LogAxis\"},{\"id\":\"a567bf9f-ec8e-42bd-ac50-b364677fc981\",\"type\":\"Grid\"},{\"id\":\"e7e1d5a7-0d5b-4cca-83ae-59175f2966e3\",\"type\":\"LinearAxis\"},{\"id\":\"2898e1e6-5dc0-4b2d-be7c-a171a8f5fd99\",\"type\":\"Grid\"},{\"id\":\"35f1071b-fa62-4980-8c0d-525db8661277\",\"type\":\"GlyphRenderer\"}],\"title\":{\"id\":\"b28121d1-895d-4c10-aef2-eb3a606f98a7\",\"type\":\"Title\"},\"toolbar\":{\"id\":\"118f8878-1e84-48ac-851d-04e20c70f563\",\"type\":\"Toolbar\"},\"x_range\":{\"id\":\"ed6af108-f218-4521-8dc2-2bd2979e3f7b\",\"type\":\"Range1d\"},\"x_scale\":{\"id\":\"e66495c3-bad3-4eff-b158-9a2a3bf2f0a0\",\"type\":\"LogScale\"},\"y_range\":{\"id\":\"fcd98f66-0475-4c9a-bbb7-0314d5fe5b8f\",\"type\":\"Range1d\"},\"y_scale\":{\"id\":\"a73b0702-f805-4f5b-9d08-3c6ad2aba6cf\",\"type\":\"LinearScale\"}},\"id\":\"461d6207-ca56-4ecf-ab5e-7bb252942d91\",\"subtype\":\"Figure\",\"type\":\"Plot\"},{\"attributes\":{},\"id\":\"a73b0702-f805-4f5b-9d08-3c6ad2aba6cf\",\"type\":\"LinearScale\"},{\"attributes\":{\"plot\":{\"id\":\"461d6207-ca56-4ecf-ab5e-7bb252942d91\",\"subtype\":\"Figure\",\"type\":\"Plot\"},\"ticker\":{\"id\":\"93289637-df2b-46fb-9f42-9871480e7fe6\",\"type\":\"LogTicker\"}},\"id\":\"a567bf9f-ec8e-42bd-ac50-b364677fc981\",\"type\":\"Grid\"},{\"attributes\":{},\"id\":\"e66495c3-bad3-4eff-b158-9a2a3bf2f0a0\",\"type\":\"LogScale\"},{\"attributes\":{\"formatter\":{\"id\":\"8ae1b1d1-498f-4cb3-b12c-1d5aa45c290e\",\"type\":\"LogTickFormatter\"},\"plot\":{\"id\":\"461d6207-ca56-4ecf-ab5e-7bb252942d91\",\"subtype\":\"Figure\",\"type\":\"Plot\"},\"ticker\":{\"id\":\"93289637-df2b-46fb-9f42-9871480e7fe6\",\"type\":\"LogTicker\"}},\"id\":\"074b24f0-19fd-4906-b135-8cdb1fa85b49\",\"type\":\"LogAxis\"},{\"attributes\":{\"callback\":null,\"column_names\":[\"x\",\"y\",\"country\",\"region\",\"population\"],\"data\":{\"country\":[\"Afghanistan\",\"Albania\",\"Algeria\",\"Andorra\",\"Angola\",\"Antigua and Barbuda\",\"Argentina\",\"Armenia\",\"Australia\",\"Austria\",\"Azerbaijan\",\"Bahamas\",\"Bahrain\",\"Bangladesh\",\"Barbados\",\"Belarus\",\"Belgium\",\"Belize\",\"Benin\",\"Bhutan\",\"Bolivia\",\"Bosnia and Herzegovina\",\"Botswana\",\"Brazil\",\"Brunei\",\"Bulgaria\",\"Burkina Faso\",\"Burundi\",\"Cambodia\",\"Cameroon\",\"Canada\",\"Cape Verde\",\"Chad\",\"Chile\",\"China\",\"Colombia\",\"Comoros\",\"Congo, Dem. Rep.\",\"Congo, Rep.\",\"Costa Rica\",\"Cote d'Ivoire\",\"Croatia\",\"Cuba\",\"Cyprus\",\"Denmark\",\"Djibouti\",\"Dominica\",\"Ecuador\",\"Egypt\",\"El Salvador\",\"Equatorial Guinea\",\"Eritrea\",\"Estonia\",\"Ethiopia\",\"Fiji\",\"Finland\",\"France\",\"Gabon\",\"Gambia\",\"Georgia\",\"Germany\",\"Ghana\",\"Greece\",\"Grenada\",\"Guatemala\",\"Guinea\",\"Guinea-Bissau\",\"Guyana\",\"Haiti\",\"Honduras\",\"Hungary\",\"Iceland\",\"India\",\"Indonesia\",\"Iran\",\"Iraq\",\"Ireland\",\"Israel\",\"Italy\",\"Jamaica\",\"Japan\",\"Jordan\",\"Kazakhstan\",\"Kenya\",\"Kiribati\",\"Kuwait\",\"Latvia\",\"Lebanon\",\"Lesotho\",\"Liberia\",\"Libya\",\"Lithuania\",\"Luxembourg\",\"Macedonia, FYR\",\"Madagascar\",\"Malawi\",\"Malaysia\",\"Maldives\",\"Mali\",\"Malta\",\"Marshall Islands\",\"Mauritania\",\"Mauritius\",\"Mexico\",\"Micronesia, Fed. Sts.\",\"Moldova\",\"Mongolia\",\"Montenegro\",\"Morocco\",\"Mozambique\",\"Myanmar\",\"Namibia\",\"Nepal\",\"Netherlands\",\"New Zealand\",\"Nicaragua\",\"Niger\",\"Nigeria\",\"Norway\",\"Oman\",\"Pakistan\",\"Panama\",\"Papua New Guinea\",\"Paraguay\",\"Peru\",\"Philippines\",\"Poland\",\"Portugal\",\"Qatar\",\"Romania\",\"Russia\",\"Rwanda\",\"Samoa\",\"Sao Tome and Principe\",\"Saudi Arabia\",\"Senegal\",\"Serbia\",\"Seychelles\",\"Sierra Leone\",\"Singapore\",\"Slovak Republic\",\"Slovenia\",\"Solomon Islands\",\"Somalia\",\"South Africa\",\"South Sudan\",\"Spain\",\"Sri Lanka\",\"Sudan\",\"Suriname\",\"Swaziland\",\"Sweden\",\"Switzerland\",\"Syria\",\"Taiwan\",\"Tajikistan\",\"Tanzania\",\"Thailand\",\"Timor-Leste\",\"Togo\",\"Tonga\",\"Trinidad and Tobago\",\"Tunisia\",\"Turkey\",\"Turkmenistan\",\"Uganda\",\"Ukraine\",\"United Arab Emirates\",\"United Kingdom\",\"United States\",\"Uruguay\",\"Uzbekistan\",\"Vanuatu\",\"Venezuela\",\"Vietnam\",\"West Bank and Gaza\",\"Zambia\",\"Zimbabwe\"],\"population\":{\"__ndarray__\":\"AAAA8LWqekEAAACAvSNGQQAAAPjxLoFBAAAAADCc9EAAAAAgpzx0QQAAAAAQTPVAAAAA2Baog0EAAAAAFJxGQQAAAPDaInVBAAAAQKYBYEEAAACgTlthQQAAAAD4BRZBAAAAAAc/M0EAAAAS+hKiQQAAAAA4EBFBAAAAQNMaYkEAAABA59hkQQAAAAAkoRNBAAAAwHQjYkEAAAAA7PolQQAAAKDk6mJBAAAAAL1CTUEAAAAAVz8/QQAAAIA5radBAAAAAFgBGEEAAABAsEFcQQAAAEDY0G1BAAAAoK8LYkEAAABAeGVrQQAAAKAEo3NBAAAA6MpFgEEAAAAALO4dQQAAAIDHsGZBAAAAgBA6cEEAAEDIY/vTQQAAAKg85YVBAAAAAI5SJUEAAADAKHGPQQAAAACPBU9BAAAAQL5WUUEAAACw9zJzQQAAAEBCd1BBAAAAoIyRZUEAAAAARdcwQQAAAMDbLFVBAAAAAKRaKUEAAAAA8F/xQAAAAIBUfGxBAAAAiGKPk0EAAACAyAhXQQAAAAAMPSZBAAAAAMDjUUEAAAAAeVM0QQAAAFhZ4JRBAAAAAGA+KkEAAABA43lUQQAAAICvBY5BAAAAADCHN0EAAAAAStU5QQAAAACFNlBBAAAArGEtk0EAAABg8jB3QQAAAKDEUWVBAAAAAFCO+UAAAACgfBlsQQAAAMAmAWVBAAAAAJTvOEEAAAAApP0mQQAAACCgEmNBAAAAwACgXEEAAAAg9RljQQAAAABoaRNBAAAATtVX0kEAAACMcs2sQQAAAPQQtJFBAAAAwCtwfUEAAACAHZ1RQQAAAAB0TlxBAAAAOO1pjEEAAACAAupEQQAAAOj7Wp5BAAAAACbdWEEAAAAALBxvQQAAAMjjOoNBAAAAAIAP+UAAAACAiFdHQQAAAAAX5j9BAAAAAIGLUEEAAAAA2q0+QQAAAABzMk5BAAAAQNjmV0EAAACASdNHQQAAAADE/x5BAAAAAGt4P0EAAADAXhp0QQAAAADUK2xBAAAAwBzRekEAAAAAfEwUQQAAAMDm7WxBAAAAAIAmGUEAAAAAgJnpQAAAAAB0ZktBAAAAAM8KM0EAAAAY10ecQQAAAAAwTPlAAAAAgIEpT0EAAACAKLJEQQAAAAAA+yJBAAAAsM2efkEAAAAQ2zF3QQAAAKgQq4hBAAAAgHW8QEEAAABggKF5QQAAAGDiuG9BAAAAwKCqUEEAAACAPuNVQQAAAMASE29BAAAAzEEBo0EAAADAnKhSQQAAAICBdUZBAAAAHFRFpEEAAAAATZ9LQQAAAEAHH1pBAAAAQFWwV0EAAADATAN8QQAAANikLpZBAAAA0NJkgkEAAACgYDBkQQAAAACJ8DpBAAAAYMVbc0EAAACm1hChQQAAAKA0omNBAAAAAGi1BkEAAAAAANwEQQAAAHARynpBAAAA4I62aEEAAADAXEdhQQAAAACQufZAAAAAgIcIVkEAAABA7F9TQQAAAAAsoFRBAAAAAIBRP0EAAAAAwg4gQQAAAECSRmJBAAAA0HadiEEAAABgYy5jQQAAAKCoOIZBAAAAAPZDc0EAAAAojjiBQQAAAAD0nx9BAAAAALw0MkEAAAAgM+VhQQAAAIAB311BAAAAoL3Cc0EAAACAVvV1QQAAAAAA7FxBAAAAaFTEhUEAAADAHc2PQQAAAABiITBBAAAAwBBhWEEAAAAAsGD5QAAAAADfQzRBAAAAQOtKZEEAAABAej2RQQAAAMDSO1NBAAAAkB6df0EAAABINMSFQQAAAEA7xl9BAAAAYNjnjUEAAADKVXiyQQAAAACnvklBAAAAQGd0ekEAAAAAWNgMQQAAABAKp3tBAAAAPO4QlUEAAAAA1gpPQQAAAOCfi2pBAAAAIDGnakE=\",\"dtype\":\"float64\",\"shape\":[178]},\"region\":[\"South Asia\",\"Europe & Central Asia\",\"Middle East & North Africa\",\"Europe & Central Asia\",\"Sub-Saharan Africa\",\"America\",\"America\",\"Europe & Central Asia\",\"East Asia & Pacific\",\"Europe & Central Asia\",\"Europe & Central Asia\",\"America\",\"Middle East & North Africa\",\"South Asia\",\"America\",\"Europe & Central Asia\",\"Europe & Central Asia\",\"America\",\"Sub-Saharan Africa\",\"South Asia\",\"America\",\"Europe & Central Asia\",\"Sub-Saharan Africa\",\"America\",\"East Asia & Pacific\",\"Europe & Central Asia\",\"Sub-Saharan Africa\",\"Sub-Saharan Africa\",\"East Asia & Pacific\",\"Sub-Saharan Africa\",\"America\",\"Sub-Saharan Africa\",\"Sub-Saharan Africa\",\"America\",\"East Asia & Pacific\",\"America\",\"Sub-Saharan Africa\",\"Sub-Saharan Africa\",\"Sub-Saharan Africa\",\"America\",\"Sub-Saharan Africa\",\"Europe & Central Asia\",\"America\",\"Europe & Central Asia\",\"Europe & Central Asia\",\"Middle East & North Africa\",\"America\",\"America\",\"Middle East & North Africa\",\"America\",\"Sub-Saharan Africa\",\"Sub-Saharan Africa\",\"Europe & Central Asia\",\"Sub-Saharan Africa\",\"East Asia & Pacific\",\"Europe & Central Asia\",\"Europe & Central Asia\",\"Sub-Saharan Africa\",\"Sub-Saharan Africa\",\"Europe & Central Asia\",\"Europe & Central Asia\",\"Sub-Saharan Africa\",\"Europe & Central Asia\",\"America\",\"America\",\"Sub-Saharan Africa\",\"Sub-Saharan Africa\",\"America\",\"America\",\"America\",\"Europe & Central Asia\",\"Europe & Central Asia\",\"South Asia\",\"East Asia & Pacific\",\"Middle East & North Africa\",\"Middle East & North Africa\",\"Europe & Central Asia\",\"Middle East & North Africa\",\"Europe & Central Asia\",\"America\",\"East Asia & Pacific\",\"Middle East & North Africa\",\"Europe & Central Asia\",\"Sub-Saharan Africa\",\"East Asia & Pacific\",\"Middle East & North Africa\",\"Europe & Central Asia\",\"Middle East & North Africa\",\"Sub-Saharan Africa\",\"Sub-Saharan Africa\",\"Middle East & North Africa\",\"Europe & Central Asia\",\"Europe & Central Asia\",\"Europe & Central Asia\",\"Sub-Saharan Africa\",\"Sub-Saharan Africa\",\"East Asia & Pacific\",\"South Asia\",\"Sub-Saharan Africa\",\"Europe & Central Asia\",\"East Asia & Pacific\",\"Sub-Saharan Africa\",\"Sub-Saharan Africa\",\"America\",\"East Asia & Pacific\",\"Europe & Central Asia\",\"East Asia & Pacific\",\"Europe & Central Asia\",\"Middle East & North Africa\",\"Sub-Saharan Africa\",\"East Asia & Pacific\",\"Sub-Saharan Africa\",\"South Asia\",\"Europe & Central Asia\",\"East Asia & Pacific\",\"America\",\"Sub-Saharan Africa\",\"Sub-Saharan Africa\",\"Europe & Central Asia\",\"Middle East & North Africa\",\"South Asia\",\"America\",\"East Asia & Pacific\",\"America\",\"America\",\"East Asia & Pacific\",\"Europe & Central Asia\",\"Europe & Central Asia\",\"Middle East & North Africa\",\"Europe & Central Asia\",\"Europe & Central Asia\",\"Sub-Saharan Africa\",\"East Asia & Pacific\",\"Sub-Saharan Africa\",\"Middle East & North Africa\",\"Sub-Saharan Africa\",\"Europe & Central Asia\",\"Sub-Saharan Africa\",\"Sub-Saharan Africa\",\"East Asia & Pacific\",\"Europe & Central Asia\",\"Europe & Central Asia\",\"East Asia & Pacific\",\"Sub-Saharan Africa\",\"Sub-Saharan Africa\",\"Sub-Saharan Africa\",\"Europe & Central Asia\",\"South Asia\",\"Sub-Saharan Africa\",\"America\",\"Sub-Saharan Africa\",\"Europe & Central Asia\",\"Europe & Central Asia\",\"Middle East & North Africa\",\"East Asia & Pacific\",\"Europe & Central Asia\",\"Sub-Saharan Africa\",\"East Asia & Pacific\",\"East Asia & Pacific\",\"Sub-Saharan Africa\",\"East Asia & Pacific\",\"America\",\"Middle East & North Africa\",\"Europe & Central Asia\",\"Europe & Central Asia\",\"Sub-Saharan Africa\",\"Europe & Central Asia\",\"Middle East & North Africa\",\"Europe & Central Asia\",\"America\",\"America\",\"Europe & Central Asia\",\"East Asia & Pacific\",\"America\",\"East Asia & Pacific\",\"Middle East & North Africa\",\"Sub-Saharan Africa\",\"Sub-Saharan Africa\"],\"x\":{\"__ndarray__\":\"AAAAAACUmUAAAAAAAE/CQAAAAAAAZ8hAAAAAAMAI40AAAAAAAIe7QAAAAADAFdRAAAAAAIDKzkAAAAAAAGy5QAAAAABALuRAAAAAAKDt5EAAAAAAACfPQAAAAADAYNZAAAAAACDN40AAAAAAADajQAAAAACA4M1AAAAAAICrzkAAAAAAgOfjQAAAAACACMBAAAAAAACUmUAAAAAAAHS5QAAAAAAAn7RAAAAAAIDcwUAAAAAAAKXKQAAAAAAAosxAAAAAAMA+8UAAAAAAABPNQAAAAAAAXJZAAAAAAACohkAAAAAAAKKjQAAAAAAAFqRAAAAAAKDo40AAAAAAAHW3QAAAAAAAhJ5AAAAAAADB0kAAAAAAAGvCQAAAAACADMVAAAAAAABIlkAAAAAAAMCDQAAAAAAAnbVAAAAAAAARyEAAAAAAAJimQAAAAABAhdNAAAAAAEAL0kAAAAAAYHrgQAAAAACg/uRAAAAAAADSpEAAAAAAgEPEQAAAAACAL8JAAAAAAIC7xEAAAAAAAEW8QAAAAADgz+BAAAAAAADskEAAAAAAgDPVQAAAAAAA5JBAAAAAAAC6u0AAAAAAIEDjQAAAAAAg8eFAAAAAAAA3z0AAAAAAAAyaQAAAAAAAMrdAAAAAAADX40AAAAAAACaoQAAAAACAgdxAAAAAAADVxUAAAAAAAMG6QAAAAAAAhJJAAAAAAABglUAAAAAAAKa1QAAAAAAAuJdAAAAAAACusEAAAAAAgIvVQAAAAAAg8+JAAAAAAADDsUAAAAAAAJnAQAAAAAAAldBAAAAAAAAVyEAAAAAAgGrlQAAAAABA0dxAAAAAACB14UAAAAAAAFnAQAAAAACAzOBAAAAAAAD8xUAAAAAAQCTTQAAAAAAAjqNAAAAAAAAEm0AAAAAAUGbyQAAAAAAAudFAAAAAAIDDz0AAAAAAAHahQAAAAAAAiIVAAAAAAECN3UAAAAAAgEXUQAAAAACwQPZAAAAAAIDVxUAAAAAAALiVQAAAAAAACIdAAAAAAIDr00AAAAAAAM3GQAAAAAAAAJpAAAAAAIBA20AAAAAAAHSrQAAAAAAAxqlAAAAAAIB3zkAAAAAAADLOQAAAAAAAEqpAAAAAAACqrkAAAAAAABy+QAAAAAAArMpAAAAAAABCuUAAAAAAABCNQAAAAAAACqhAAAAAAIB4wEAAAAAAADyfQAAAAABgYuZAAAAAAAAU30AAAAAAAPyuQAAAAAAASIpAAAAAAAD6s0AAAAAAQLzuQAAAAACABOhAAAAAAAB8sEAAAAAAgCTNQAAAAAAA5qBAAAAAAABgu0AAAAAAgF3DQAAAAAAA7rVAAAAAAADU1EAAAAAAQMDaQAAAAAAAP/9AAAAAAAB+0EAAAAAAACjVQAAAAAAAuJNAAAAAAAAdtUAAAAAAAG6lQAAAAADAQ+ZAAAAAAAAMoUAAAAAAgAbIQAAAAAAA49NAAAAAAAAMlUAAAAAAgJfxQAAAAACA3ddAAAAAAEC220AAAAAAAOybQAAAAAAAMINAAAAAAICbx0AAAAAAAPytQAAAAABAHOBAAAAAAACUvUAAAAAAAKSpQAAAAACA+stAAAAAAADmtkAAAAAAQPLkQAAAAADgdOpAAAAAAADLuUAAAAAAoBXjQAAAAAAAfKBAAAAAAAC+oEAAAAAAAAvJQAAAAAAAxJtAAAAAAAB4k0AAAAAAAFGzQAAAAABAotxAAAAAAIBVxEAAAAAAgEjQQAAAAAAAmMNAAAAAAACsl0AAAAAAAKS+QAAAAACAqOtAAAAAAACy4UAAAAAAoBvoQAAAAADAsdBAAAAAAABZsEAAAAAAAAinQAAAAAAAJtBAAAAAAACGsUAAAAAAAEOwQAAAAAAA9qpAAAAAAAAwl0A=\",\"dtype\":\"float64\",\"shape\":[178]},\"y\":{\"__ndarray__\":\"ZmZmZmZmS0DNzMzMzMxSQJqZmZmZ+VJAzczMzMzsVEAzMzMzM7NNQM3MzMzMzFJAMzMzMzPzUkCamZmZmTlSQM3MzMzMbFRAAAAAAAAgVECamZmZmdlRQJqZmZmZGVJAzczMzMyMU0BmZmZmZiZRQJqZmZmZ2VJAzczMzMyMUUAzMzMzM/NTQGZmZmZmhlFAAAAAAAAAUEAzMzMzMxNRQDMzMzMz01FAAAAAAAAgU0AAAAAAACBQQM3MzMzMjFJAAAAAAACgU0BmZmZmZmZSQJqZmZmZWU5AmpmZmZlZTUCamZmZmblQQAAAAAAAwExAZmZmZmZGVECamZmZmVlSQJqZmZmZGUxAMzMzMzOzU0CamZmZmflSQDMzMzMz01JAAAAAAACAT0BmZmZmZiZMQGZmZmZmJk5AZmZmZmbmU0CamZmZmZlMQM3MzMzMTFNAAAAAAACAU0BmZmZmZmZUQDMzMzMz01NAZmZmZmbmTkCamZmZmZlSQM3MzMzMjFJAMzMzMzOTUUAzMzMzM3NSQJqZmZmZmUxAAAAAAACATkAzMzMzM/NSQAAAAAAAgE5AmpmZmZl5UEAAAAAAAABUQM3MzMzMTFRAAAAAAADATEAAAAAAAIBPQJqZmZmZGVJAzczMzMwMVEAAAAAAAMBPQGZmZmZm5lNAzczMzMzMUUAzMzMzM7NRQM3MzMzMjE1AAAAAAAAASkBmZmZmZqZPQAAAAAAAgEJAMzMzMzPTUUDNzMzMzKxSQAAAAAAAoFRAZmZmZmZGUEAzMzMzM3NRQJqZmZmZeVNAMzMzMzMTUUCamZmZmflTQAAAAAAAYFRAmpmZmZl5VEAAAAAAAOBSQAAAAAAAwFRAZmZmZmZmU0BmZmZmZsZQQM3MzMzMjE9AAAAAAADATkBmZmZmZsZTQAAAAAAAgFJAAAAAAACAU0AzMzMzM7NHQJqZmZmZ2U5AZmZmZmbmUkCamZmZmXlSQAAAAAAAQFRAMzMzMzPzUkBmZmZmZuZPQGZmZmZm5kpAMzMzMzOTUkCamZmZmblTQAAAAAAAQExAMzMzMzNzVEBmZmZmZgZQQM3MzMzMDFBAmpmZmZkZUkDNzMzMzOxSQJqZmZmZmVBAzczMzMyMUUBmZmZmZuZPQM3MzMzMzFJAzczMzMxsUkCamZmZmdlLQAAAAAAAgFBAAAAAAADATUAAAAAAAGBRQAAAAAAAIFRAAAAAAAAgVEAzMzMzM/NSQJqZmZmZWU5AZmZmZmZmTUCamZmZmTlUQAAAAAAAwFJAzczMzMwsUEDNzMzMzExTQJqZmZmZWU1AmpmZmZlZUkAzMzMzMzNTQM3MzMzMbFFAZmZmZmYGU0AAAAAAAOBTQDMzMzMzU1RAAAAAAACAUkDNzMzMzCxRQJqZmZmZ2U9AZmZmZmbmUUBmZmZmZuZQQM3MzMzMbFNAAAAAAABAUEAAAAAAAEBTQDMzMzMzM1JAAAAAAABATEAAAAAAAGBUQAAAAAAA4FJAAAAAAADgU0AAAAAAAIBPQDMzMzMzc0xAmpmZmZlZTEAAAAAAAEBMQGZmZmZmZlRAzczMzMzsUkAAAAAAAABRQAAAAAAAYFFAZmZmZmbmR0AAAAAAAGBUQDMzMzMzk1RAzczMzMwsU0AzMzMzM7NTQJqZmZmZeVFAMzMzMzNzTkBmZmZmZqZSQDMzMzMzc1FAAAAAAACATkBmZmZmZoZRQGZmZmZmxlFAMzMzMzMzU0DNzMzMzOxSQGZmZmZmplBAMzMzMzMzTUCamZmZmZlRQM3MzMzMDFNAAAAAAAAAVEAAAAAAAKBTQAAAAAAAIFNAZmZmZmZGUUAAAAAAAABQQM3MzMzMrFJAMzMzMzPzUkAAAAAAAIBSQM3MzMzMDEtAMzMzMzMzSUA=\",\"dtype\":\"float64\",\"shape\":[178]}}},\"id\":\"0672468f-e68e-4972-8669-77695d747f10\",\"type\":\"ColumnDataSource\"},{\"attributes\":{\"active_drag\":\"auto\",\"active_inspect\":\"auto\",\"active_scroll\":\"auto\",\"active_tap\":\"auto\",\"tools\":[{\"id\":\"407d5208-6ce9-4f24-9a6f-d6477ffec02b\",\"type\":\"HoverTool\"}]},\"id\":\"118f8878-1e84-48ac-851d-04e20c70f563\",\"type\":\"Toolbar\"},{\"attributes\":{\"formatter\":{\"id\":\"9e3b885f-2aa7-44ba-b595-f3ce8035ec6a\",\"type\":\"BasicTickFormatter\"},\"plot\":{\"id\":\"461d6207-ca56-4ecf-ab5e-7bb252942d91\",\"subtype\":\"Figure\",\"type\":\"Plot\"},\"ticker\":{\"id\":\"fe4ef66e-0ed7-469d-973c-e9e5d6a578d1\",\"type\":\"BasicTicker\"}},\"id\":\"e7e1d5a7-0d5b-4cca-83ae-59175f2966e3\",\"type\":\"LinearAxis\"},{\"attributes\":{},\"id\":\"fe4ef66e-0ed7-469d-973c-e9e5d6a578d1\",\"type\":\"BasicTicker\"},{\"attributes\":{\"dimension\":1,\"plot\":{\"id\":\"461d6207-ca56-4ecf-ab5e-7bb252942d91\",\"subtype\":\"Figure\",\"type\":\"Plot\"},\"ticker\":{\"id\":\"fe4ef66e-0ed7-469d-973c-e9e5d6a578d1\",\"type\":\"BasicTicker\"}},\"id\":\"2898e1e6-5dc0-4b2d-be7c-a171a8f5fd99\",\"type\":\"Grid\"},{\"attributes\":{\"fill_color\":{\"value\":\"#1f77b4\"},\"line_color\":{\"value\":\"#1f77b4\"},\"x\":{\"field\":\"x\"},\"y\":{\"field\":\"y\"}},\"id\":\"df675699-04a0-4429-be79-5f90c9986492\",\"type\":\"Circle\"},{\"attributes\":{\"fill_alpha\":{\"value\":0.1},\"fill_color\":{\"value\":\"#1f77b4\"},\"line_alpha\":{\"value\":0.1},\"line_color\":{\"value\":\"#1f77b4\"},\"x\":{\"field\":\"x\"},\"y\":{\"field\":\"y\"}},\"id\":\"629f81bd-a7fb-432f-ac1e-8361e5786c5d\",\"type\":\"Circle\"},{\"attributes\":{\"data_source\":{\"id\":\"0672468f-e68e-4972-8669-77695d747f10\",\"type\":\"ColumnDataSource\"},\"glyph\":{\"id\":\"df675699-04a0-4429-be79-5f90c9986492\",\"type\":\"Circle\"},\"hover_glyph\":null,\"muted_glyph\":null,\"nonselection_glyph\":{\"id\":\"629f81bd-a7fb-432f-ac1e-8361e5786c5d\",\"type\":\"Circle\"},\"selection_glyph\":null,\"view\":{\"id\":\"165fc1d8-e7eb-4685-9721-032534c3a1f4\",\"type\":\"CDSView\"}},\"id\":\"35f1071b-fa62-4980-8c0d-525db8661277\",\"type\":\"GlyphRenderer\"},{\"attributes\":{\"callback\":null,\"end\":100000,\"start\":100},\"id\":\"ed6af108-f218-4521-8dc2-2bd2979e3f7b\",\"type\":\"Range1d\"},{\"attributes\":{\"source\":{\"id\":\"0672468f-e68e-4972-8669-77695d747f10\",\"type\":\"ColumnDataSource\"}},\"id\":\"165fc1d8-e7eb-4685-9721-032534c3a1f4\",\"type\":\"CDSView\"},{\"attributes\":{\"plot\":null,\"text\":\"\"},\"id\":\"b28121d1-895d-4c10-aef2-eb3a606f98a7\",\"type\":\"Title\"}],\"root_ids\":[\"461d6207-ca56-4ecf-ab5e-7bb252942d91\"]},\"title\":\"Bokeh Application\",\"version\":\"0.12.10\"}};\n",
       "    var render_items = [{\"docid\":\"c0d489ca-6fe5-4a1e-be3f-6a6f8fc62890\",\"elementid\":\"8eb3c538-5d3f-4b1d-b5c3-b443c5c4fde7\",\"modelid\":\"461d6207-ca56-4ecf-ab5e-7bb252942d91\"}];\n",
       "\n",
       "    root.Bokeh.embed.embed_items(docs_json, render_items);\n",
       "  }\n",
       "\n",
       "  if (root.Bokeh !== undefined) {\n",
       "    embed_document(root);\n",
       "  } else {\n",
       "    var attempts = 0;\n",
       "    var timer = setInterval(function(root) {\n",
       "      if (root.Bokeh !== undefined) {\n",
       "        embed_document(root);\n",
       "        clearInterval(timer);\n",
       "      }\n",
       "      attempts++;\n",
       "      if (attempts > 100) {\n",
       "        console.log(\"Bokeh: ERROR: Unable to embed document because BokehJS library is missing\")\n",
       "        clearInterval(timer);\n",
       "      }\n",
       "    }, 10, root)\n",
       "  }\n",
       "})(window);"
      ],
      "application/vnd.bokehjs_exec.v0+json": ""
     },
     "metadata": {
      "application/vnd.bokehjs_exec.v0+json": {
       "id": "461d6207-ca56-4ecf-ab5e-7bb252942d91"
      }
     },
     "output_type": "display_data"
    }
   ],
   "source": [
    "hover = HoverTool(tooltips = ('@region'))\n",
    "p = figure(tools = [hover], **plot_opts)\n",
    "p.circle(x='x', y = 'y', source = source)\n",
    "show(p)"
   ]
  },
  {
   "cell_type": "code",
   "execution_count": 14,
   "metadata": {},
   "outputs": [
    {
     "data": {
      "text/plain": [
       "['x', 'y', 'country', 'region', 'population']"
      ]
     },
     "execution_count": 14,
     "metadata": {},
     "output_type": "execute_result"
    }
   ],
   "source": [
    "from bokeh.models import ColumnDataSource\n",
    "source = ColumnDataSource(dict(x=data.loc[2010].income, \n",
    "                               y=data.loc[2010].life, \n",
    "                               country = data.loc[2010].Country, \n",
    "                               region = data.loc[2010].region,\n",
    "                              population = data.loc[2010].population))\n",
    "source.column_names"
   ]
  },
  {
   "cell_type": "code",
   "execution_count": 15,
   "metadata": {},
   "outputs": [
    {
     "name": "stderr",
     "output_type": "stream",
     "text": [
      "W-1005 (SNAPPED_TOOLBAR_ANNOTATIONS): Snapped toolbars and annotations on the same side MAY overlap visually: Figure(id='c791237f-c0c2-443f-84a7-80196bdcaf92', ...)\n"
     ]
    },
    {
     "data": {
      "text/html": [
       "\n",
       "<div class=\"bk-root\">\n",
       "    <div class=\"bk-plotdiv\" id=\"cb6f3bc2-54e3-42e6-a058-7688a58c5644\"></div>\n",
       "</div>"
      ]
     },
     "metadata": {},
     "output_type": "display_data"
    },
    {
     "data": {
      "application/javascript": [
       "(function(root) {\n",
       "  function embed_document(root) {\n",
       "    var docs_json = {\"cf356398-7833-46f0-adcb-206c7b500b70\":{\"roots\":{\"references\":[{\"attributes\":{},\"id\":\"483d5883-4cf8-4a5c-af0d-7506d4aca3ab\",\"type\":\"LogScale\"},{\"attributes\":{\"formatter\":{\"id\":\"cc8545cd-f81b-40cb-b1f4-7be0c7eb02ad\",\"type\":\"LogTickFormatter\"},\"plot\":{\"id\":\"c791237f-c0c2-443f-84a7-80196bdcaf92\",\"subtype\":\"Figure\",\"type\":\"Plot\"},\"ticker\":{\"id\":\"613fcedc-009a-4b25-a87f-665f7412a8b0\",\"type\":\"LogTicker\"}},\"id\":\"57a52fa0-3216-4e2d-a90c-bfa17e569925\",\"type\":\"LogAxis\"},{\"attributes\":{\"formatter\":{\"id\":\"b1484af7-45ea-4366-a71b-3720d7c30eb0\",\"type\":\"BasicTickFormatter\"},\"plot\":{\"id\":\"c791237f-c0c2-443f-84a7-80196bdcaf92\",\"subtype\":\"Figure\",\"type\":\"Plot\"},\"ticker\":{\"id\":\"14d4f3c5-7b06-4f87-9a14-b3230af54b30\",\"type\":\"BasicTicker\"}},\"id\":\"20b67fb9-106d-47ef-b9ca-78c740bcbe5f\",\"type\":\"LinearAxis\"},{\"attributes\":{},\"id\":\"14d4f3c5-7b06-4f87-9a14-b3230af54b30\",\"type\":\"BasicTicker\"},{\"attributes\":{\"dimension\":1,\"plot\":{\"id\":\"c791237f-c0c2-443f-84a7-80196bdcaf92\",\"subtype\":\"Figure\",\"type\":\"Plot\"},\"ticker\":{\"id\":\"14d4f3c5-7b06-4f87-9a14-b3230af54b30\",\"type\":\"BasicTicker\"}},\"id\":\"b414bd9e-23e6-4d96-b575-c652e74c1a40\",\"type\":\"Grid\"},{\"attributes\":{},\"id\":\"b1484af7-45ea-4366-a71b-3720d7c30eb0\",\"type\":\"BasicTickFormatter\"},{\"attributes\":{\"data\":null,\"x\":[1548.0,1376048943.0],\"y\":[5,50]},\"id\":\"e6ef427c-9059-4c1e-a06e-9ff0ff4a35bb\",\"type\":\"LinearInterpolator\"},{\"attributes\":{\"fill_alpha\":{\"value\":0.6},\"fill_color\":{\"field\":\"region\",\"transform\":{\"id\":\"0b7a4372-cfa3-4d67-951d-349c683c925d\",\"type\":\"CategoricalColorMapper\"}},\"line_alpha\":{\"value\":0.6},\"line_color\":{\"field\":\"region\",\"transform\":{\"id\":\"0b7a4372-cfa3-4d67-951d-349c683c925d\",\"type\":\"CategoricalColorMapper\"}},\"size\":{\"field\":\"population\",\"transform\":{\"id\":\"e6ef427c-9059-4c1e-a06e-9ff0ff4a35bb\",\"type\":\"LinearInterpolator\"},\"units\":\"screen\"},\"x\":{\"field\":\"x\"},\"y\":{\"field\":\"y\"}},\"id\":\"eff8b986-58f7-411d-a087-5dae26523c48\",\"type\":\"Circle\"},{\"attributes\":{\"fill_alpha\":{\"value\":0.1},\"fill_color\":{\"value\":\"#1f77b4\"},\"line_alpha\":{\"value\":0.1},\"line_color\":{\"value\":\"#1f77b4\"},\"size\":{\"field\":\"population\",\"transform\":{\"id\":\"e6ef427c-9059-4c1e-a06e-9ff0ff4a35bb\",\"type\":\"LinearInterpolator\"},\"units\":\"screen\"},\"x\":{\"field\":\"x\"},\"y\":{\"field\":\"y\"}},\"id\":\"8df66834-e150-4b2b-95a7-f9945697369f\",\"type\":\"Circle\"},{\"attributes\":{\"below\":[{\"id\":\"57a52fa0-3216-4e2d-a90c-bfa17e569925\",\"type\":\"LogAxis\"}],\"left\":[{\"id\":\"20b67fb9-106d-47ef-b9ca-78c740bcbe5f\",\"type\":\"LinearAxis\"}],\"plot_height\":300,\"renderers\":[{\"id\":\"57a52fa0-3216-4e2d-a90c-bfa17e569925\",\"type\":\"LogAxis\"},{\"id\":\"78a1621e-8b3f-4fed-976c-f7af3c7bff19\",\"type\":\"Grid\"},{\"id\":\"20b67fb9-106d-47ef-b9ca-78c740bcbe5f\",\"type\":\"LinearAxis\"},{\"id\":\"b414bd9e-23e6-4d96-b575-c652e74c1a40\",\"type\":\"Grid\"},{\"id\":\"b6ed3e95-1cba-4c0d-84f8-87898d788680\",\"type\":\"Legend\"},{\"id\":\"6a3317d8-81b8-4907-8626-5ad0051720b2\",\"type\":\"GlyphRenderer\"}],\"right\":[{\"id\":\"b6ed3e95-1cba-4c0d-84f8-87898d788680\",\"type\":\"Legend\"}],\"title\":{\"id\":\"fb71dd12-9d5a-472f-bc48-127deb84c7f9\",\"type\":\"Title\"},\"title_location\":\"below\",\"toolbar\":{\"id\":\"0010a5ba-a310-4a53-8d3a-fc35329b671b\",\"type\":\"Toolbar\"},\"x_range\":{\"id\":\"fe6a1029-b3b8-432a-a161-1a3e9b7926b9\",\"type\":\"Range1d\"},\"x_scale\":{\"id\":\"483d5883-4cf8-4a5c-af0d-7506d4aca3ab\",\"type\":\"LogScale\"},\"y_range\":{\"id\":\"00f04ed4-96e6-4f8e-bd93-6dcd54c7a7c0\",\"type\":\"Range1d\"},\"y_scale\":{\"id\":\"e09356b8-a092-48a3-ac3a-626c544bb7f5\",\"type\":\"LinearScale\"}},\"id\":\"c791237f-c0c2-443f-84a7-80196bdcaf92\",\"subtype\":\"Figure\",\"type\":\"Plot\"},{\"attributes\":{\"source\":{\"id\":\"0854ae15-bcb2-4ecc-a3d4-7a559302ca19\",\"type\":\"ColumnDataSource\"}},\"id\":\"472f83a5-7fcd-4b03-9d01-e4e8512325fc\",\"type\":\"CDSView\"},{\"attributes\":{\"callback\":null,\"end\":100000,\"start\":100},\"id\":\"fe6a1029-b3b8-432a-a161-1a3e9b7926b9\",\"type\":\"Range1d\"},{\"attributes\":{\"callback\":null,\"show_arrow\":false,\"tooltips\":\"@country\"},\"id\":\"8b9e0ea7-e43a-4a5f-b1f9-ef7db490f559\",\"type\":\"HoverTool\"},{\"attributes\":{\"items\":[{\"id\":\"a9beeb69-cc54-4cac-a3c9-9083cf48af1f\",\"type\":\"LegendItem\"}],\"location\":[0,-50],\"plot\":{\"id\":\"c791237f-c0c2-443f-84a7-80196bdcaf92\",\"subtype\":\"Figure\",\"type\":\"Plot\"}},\"id\":\"b6ed3e95-1cba-4c0d-84f8-87898d788680\",\"type\":\"Legend\"},{\"attributes\":{\"active_drag\":\"auto\",\"active_inspect\":\"auto\",\"active_scroll\":\"auto\",\"active_tap\":\"auto\",\"tools\":[{\"id\":\"8b9e0ea7-e43a-4a5f-b1f9-ef7db490f559\",\"type\":\"HoverTool\"}]},\"id\":\"0010a5ba-a310-4a53-8d3a-fc35329b671b\",\"type\":\"Toolbar\"},{\"attributes\":{\"plot\":null,\"text\":\"2010\"},\"id\":\"fb71dd12-9d5a-472f-bc48-127deb84c7f9\",\"type\":\"Title\"},{\"attributes\":{\"callback\":null,\"column_names\":[\"x\",\"y\",\"country\",\"region\",\"population\"],\"data\":{\"country\":[\"Afghanistan\",\"Albania\",\"Algeria\",\"Andorra\",\"Angola\",\"Antigua and Barbuda\",\"Argentina\",\"Armenia\",\"Australia\",\"Austria\",\"Azerbaijan\",\"Bahamas\",\"Bahrain\",\"Bangladesh\",\"Barbados\",\"Belarus\",\"Belgium\",\"Belize\",\"Benin\",\"Bhutan\",\"Bolivia\",\"Bosnia and Herzegovina\",\"Botswana\",\"Brazil\",\"Brunei\",\"Bulgaria\",\"Burkina Faso\",\"Burundi\",\"Cambodia\",\"Cameroon\",\"Canada\",\"Cape Verde\",\"Chad\",\"Chile\",\"China\",\"Colombia\",\"Comoros\",\"Congo, Dem. Rep.\",\"Congo, Rep.\",\"Costa Rica\",\"Cote d'Ivoire\",\"Croatia\",\"Cuba\",\"Cyprus\",\"Denmark\",\"Djibouti\",\"Dominica\",\"Ecuador\",\"Egypt\",\"El Salvador\",\"Equatorial Guinea\",\"Eritrea\",\"Estonia\",\"Ethiopia\",\"Fiji\",\"Finland\",\"France\",\"Gabon\",\"Gambia\",\"Georgia\",\"Germany\",\"Ghana\",\"Greece\",\"Grenada\",\"Guatemala\",\"Guinea\",\"Guinea-Bissau\",\"Guyana\",\"Haiti\",\"Honduras\",\"Hungary\",\"Iceland\",\"India\",\"Indonesia\",\"Iran\",\"Iraq\",\"Ireland\",\"Israel\",\"Italy\",\"Jamaica\",\"Japan\",\"Jordan\",\"Kazakhstan\",\"Kenya\",\"Kiribati\",\"Kuwait\",\"Latvia\",\"Lebanon\",\"Lesotho\",\"Liberia\",\"Libya\",\"Lithuania\",\"Luxembourg\",\"Macedonia, FYR\",\"Madagascar\",\"Malawi\",\"Malaysia\",\"Maldives\",\"Mali\",\"Malta\",\"Marshall Islands\",\"Mauritania\",\"Mauritius\",\"Mexico\",\"Micronesia, Fed. Sts.\",\"Moldova\",\"Mongolia\",\"Montenegro\",\"Morocco\",\"Mozambique\",\"Myanmar\",\"Namibia\",\"Nepal\",\"Netherlands\",\"New Zealand\",\"Nicaragua\",\"Niger\",\"Nigeria\",\"Norway\",\"Oman\",\"Pakistan\",\"Panama\",\"Papua New Guinea\",\"Paraguay\",\"Peru\",\"Philippines\",\"Poland\",\"Portugal\",\"Qatar\",\"Romania\",\"Russia\",\"Rwanda\",\"Samoa\",\"Sao Tome and Principe\",\"Saudi Arabia\",\"Senegal\",\"Serbia\",\"Seychelles\",\"Sierra Leone\",\"Singapore\",\"Slovak Republic\",\"Slovenia\",\"Solomon Islands\",\"Somalia\",\"South Africa\",\"South Sudan\",\"Spain\",\"Sri Lanka\",\"Sudan\",\"Suriname\",\"Swaziland\",\"Sweden\",\"Switzerland\",\"Syria\",\"Taiwan\",\"Tajikistan\",\"Tanzania\",\"Thailand\",\"Timor-Leste\",\"Togo\",\"Tonga\",\"Trinidad and Tobago\",\"Tunisia\",\"Turkey\",\"Turkmenistan\",\"Uganda\",\"Ukraine\",\"United Arab Emirates\",\"United Kingdom\",\"United States\",\"Uruguay\",\"Uzbekistan\",\"Vanuatu\",\"Venezuela\",\"Vietnam\",\"West Bank and Gaza\",\"Zambia\",\"Zimbabwe\"],\"population\":{\"__ndarray__\":\"AAAA8LWqekEAAACAvSNGQQAAAPjxLoFBAAAAADCc9EAAAAAgpzx0QQAAAAAQTPVAAAAA2Baog0EAAAAAFJxGQQAAAPDaInVBAAAAQKYBYEEAAACgTlthQQAAAAD4BRZBAAAAAAc/M0EAAAAS+hKiQQAAAAA4EBFBAAAAQNMaYkEAAABA59hkQQAAAAAkoRNBAAAAwHQjYkEAAAAA7PolQQAAAKDk6mJBAAAAAL1CTUEAAAAAVz8/QQAAAIA5radBAAAAAFgBGEEAAABAsEFcQQAAAEDY0G1BAAAAoK8LYkEAAABAeGVrQQAAAKAEo3NBAAAA6MpFgEEAAAAALO4dQQAAAIDHsGZBAAAAgBA6cEEAAEDIY/vTQQAAAKg85YVBAAAAAI5SJUEAAADAKHGPQQAAAACPBU9BAAAAQL5WUUEAAACw9zJzQQAAAEBCd1BBAAAAoIyRZUEAAAAARdcwQQAAAMDbLFVBAAAAAKRaKUEAAAAA8F/xQAAAAIBUfGxBAAAAiGKPk0EAAACAyAhXQQAAAAAMPSZBAAAAAMDjUUEAAAAAeVM0QQAAAFhZ4JRBAAAAAGA+KkEAAABA43lUQQAAAICvBY5BAAAAADCHN0EAAAAAStU5QQAAAACFNlBBAAAArGEtk0EAAABg8jB3QQAAAKDEUWVBAAAAAFCO+UAAAACgfBlsQQAAAMAmAWVBAAAAAJTvOEEAAAAApP0mQQAAACCgEmNBAAAAwACgXEEAAAAg9RljQQAAAABoaRNBAAAATtVX0kEAAACMcs2sQQAAAPQQtJFBAAAAwCtwfUEAAACAHZ1RQQAAAAB0TlxBAAAAOO1pjEEAAACAAupEQQAAAOj7Wp5BAAAAACbdWEEAAAAALBxvQQAAAMjjOoNBAAAAAIAP+UAAAACAiFdHQQAAAAAX5j9BAAAAAIGLUEEAAAAA2q0+QQAAAABzMk5BAAAAQNjmV0EAAACASdNHQQAAAADE/x5BAAAAAGt4P0EAAADAXhp0QQAAAADUK2xBAAAAwBzRekEAAAAAfEwUQQAAAMDm7WxBAAAAAIAmGUEAAAAAgJnpQAAAAAB0ZktBAAAAAM8KM0EAAAAY10ecQQAAAAAwTPlAAAAAgIEpT0EAAACAKLJEQQAAAAAA+yJBAAAAsM2efkEAAAAQ2zF3QQAAAKgQq4hBAAAAgHW8QEEAAABggKF5QQAAAGDiuG9BAAAAwKCqUEEAAACAPuNVQQAAAMASE29BAAAAzEEBo0EAAADAnKhSQQAAAICBdUZBAAAAHFRFpEEAAAAATZ9LQQAAAEAHH1pBAAAAQFWwV0EAAADATAN8QQAAANikLpZBAAAA0NJkgkEAAACgYDBkQQAAAACJ8DpBAAAAYMVbc0EAAACm1hChQQAAAKA0omNBAAAAAGi1BkEAAAAAANwEQQAAAHARynpBAAAA4I62aEEAAADAXEdhQQAAAACQufZAAAAAgIcIVkEAAABA7F9TQQAAAAAsoFRBAAAAAIBRP0EAAAAAwg4gQQAAAECSRmJBAAAA0HadiEEAAABgYy5jQQAAAKCoOIZBAAAAAPZDc0EAAAAojjiBQQAAAAD0nx9BAAAAALw0MkEAAAAgM+VhQQAAAIAB311BAAAAoL3Cc0EAAACAVvV1QQAAAAAA7FxBAAAAaFTEhUEAAADAHc2PQQAAAABiITBBAAAAwBBhWEEAAAAAsGD5QAAAAADfQzRBAAAAQOtKZEEAAABAej2RQQAAAMDSO1NBAAAAkB6df0EAAABINMSFQQAAAEA7xl9BAAAAYNjnjUEAAADKVXiyQQAAAACnvklBAAAAQGd0ekEAAAAAWNgMQQAAABAKp3tBAAAAPO4QlUEAAAAA1gpPQQAAAOCfi2pBAAAAIDGnakE=\",\"dtype\":\"float64\",\"shape\":[178]},\"region\":[\"South Asia\",\"Europe & Central Asia\",\"Middle East & North Africa\",\"Europe & Central Asia\",\"Sub-Saharan Africa\",\"America\",\"America\",\"Europe & Central Asia\",\"East Asia & Pacific\",\"Europe & Central Asia\",\"Europe & Central Asia\",\"America\",\"Middle East & North Africa\",\"South Asia\",\"America\",\"Europe & Central Asia\",\"Europe & Central Asia\",\"America\",\"Sub-Saharan Africa\",\"South Asia\",\"America\",\"Europe & Central Asia\",\"Sub-Saharan Africa\",\"America\",\"East Asia & Pacific\",\"Europe & Central Asia\",\"Sub-Saharan Africa\",\"Sub-Saharan Africa\",\"East Asia & Pacific\",\"Sub-Saharan Africa\",\"America\",\"Sub-Saharan Africa\",\"Sub-Saharan Africa\",\"America\",\"East Asia & Pacific\",\"America\",\"Sub-Saharan Africa\",\"Sub-Saharan Africa\",\"Sub-Saharan Africa\",\"America\",\"Sub-Saharan Africa\",\"Europe & Central Asia\",\"America\",\"Europe & Central Asia\",\"Europe & Central Asia\",\"Middle East & North Africa\",\"America\",\"America\",\"Middle East & North Africa\",\"America\",\"Sub-Saharan Africa\",\"Sub-Saharan Africa\",\"Europe & Central Asia\",\"Sub-Saharan Africa\",\"East Asia & Pacific\",\"Europe & Central Asia\",\"Europe & Central Asia\",\"Sub-Saharan Africa\",\"Sub-Saharan Africa\",\"Europe & Central Asia\",\"Europe & Central Asia\",\"Sub-Saharan Africa\",\"Europe & Central Asia\",\"America\",\"America\",\"Sub-Saharan Africa\",\"Sub-Saharan Africa\",\"America\",\"America\",\"America\",\"Europe & Central Asia\",\"Europe & Central Asia\",\"South Asia\",\"East Asia & Pacific\",\"Middle East & North Africa\",\"Middle East & North Africa\",\"Europe & Central Asia\",\"Middle East & North Africa\",\"Europe & Central Asia\",\"America\",\"East Asia & Pacific\",\"Middle East & North Africa\",\"Europe & Central Asia\",\"Sub-Saharan Africa\",\"East Asia & Pacific\",\"Middle East & North Africa\",\"Europe & Central Asia\",\"Middle East & North Africa\",\"Sub-Saharan Africa\",\"Sub-Saharan Africa\",\"Middle East & North Africa\",\"Europe & Central Asia\",\"Europe & Central Asia\",\"Europe & Central Asia\",\"Sub-Saharan Africa\",\"Sub-Saharan Africa\",\"East Asia & Pacific\",\"South Asia\",\"Sub-Saharan Africa\",\"Europe & Central Asia\",\"East Asia & Pacific\",\"Sub-Saharan Africa\",\"Sub-Saharan Africa\",\"America\",\"East Asia & Pacific\",\"Europe & Central Asia\",\"East Asia & Pacific\",\"Europe & Central Asia\",\"Middle East & North Africa\",\"Sub-Saharan Africa\",\"East Asia & Pacific\",\"Sub-Saharan Africa\",\"South Asia\",\"Europe & Central Asia\",\"East Asia & Pacific\",\"America\",\"Sub-Saharan Africa\",\"Sub-Saharan Africa\",\"Europe & Central Asia\",\"Middle East & North Africa\",\"South Asia\",\"America\",\"East Asia & Pacific\",\"America\",\"America\",\"East Asia & Pacific\",\"Europe & Central Asia\",\"Europe & Central Asia\",\"Middle East & North Africa\",\"Europe & Central Asia\",\"Europe & Central Asia\",\"Sub-Saharan Africa\",\"East Asia & Pacific\",\"Sub-Saharan Africa\",\"Middle East & North Africa\",\"Sub-Saharan Africa\",\"Europe & Central Asia\",\"Sub-Saharan Africa\",\"Sub-Saharan Africa\",\"East Asia & Pacific\",\"Europe & Central Asia\",\"Europe & Central Asia\",\"East Asia & Pacific\",\"Sub-Saharan Africa\",\"Sub-Saharan Africa\",\"Sub-Saharan Africa\",\"Europe & Central Asia\",\"South Asia\",\"Sub-Saharan Africa\",\"America\",\"Sub-Saharan Africa\",\"Europe & Central Asia\",\"Europe & Central Asia\",\"Middle East & North Africa\",\"East Asia & Pacific\",\"Europe & Central Asia\",\"Sub-Saharan Africa\",\"East Asia & Pacific\",\"East Asia & Pacific\",\"Sub-Saharan Africa\",\"East Asia & Pacific\",\"America\",\"Middle East & North Africa\",\"Europe & Central Asia\",\"Europe & Central Asia\",\"Sub-Saharan Africa\",\"Europe & Central Asia\",\"Middle East & North Africa\",\"Europe & Central Asia\",\"America\",\"America\",\"Europe & Central Asia\",\"East Asia & Pacific\",\"America\",\"East Asia & Pacific\",\"Middle East & North Africa\",\"Sub-Saharan Africa\",\"Sub-Saharan Africa\"],\"x\":{\"__ndarray__\":\"AAAAAACUmUAAAAAAAE/CQAAAAAAAZ8hAAAAAAMAI40AAAAAAAIe7QAAAAADAFdRAAAAAAIDKzkAAAAAAAGy5QAAAAABALuRAAAAAAKDt5EAAAAAAACfPQAAAAADAYNZAAAAAACDN40AAAAAAADajQAAAAACA4M1AAAAAAICrzkAAAAAAgOfjQAAAAACACMBAAAAAAACUmUAAAAAAAHS5QAAAAAAAn7RAAAAAAIDcwUAAAAAAAKXKQAAAAAAAosxAAAAAAMA+8UAAAAAAABPNQAAAAAAAXJZAAAAAAACohkAAAAAAAKKjQAAAAAAAFqRAAAAAAKDo40AAAAAAAHW3QAAAAAAAhJ5AAAAAAADB0kAAAAAAAGvCQAAAAACADMVAAAAAAABIlkAAAAAAAMCDQAAAAAAAnbVAAAAAAAARyEAAAAAAAJimQAAAAABAhdNAAAAAAEAL0kAAAAAAYHrgQAAAAACg/uRAAAAAAADSpEAAAAAAgEPEQAAAAACAL8JAAAAAAIC7xEAAAAAAAEW8QAAAAADgz+BAAAAAAADskEAAAAAAgDPVQAAAAAAA5JBAAAAAAAC6u0AAAAAAIEDjQAAAAAAg8eFAAAAAAAA3z0AAAAAAAAyaQAAAAAAAMrdAAAAAAADX40AAAAAAACaoQAAAAACAgdxAAAAAAADVxUAAAAAAAMG6QAAAAAAAhJJAAAAAAABglUAAAAAAAKa1QAAAAAAAuJdAAAAAAACusEAAAAAAgIvVQAAAAAAg8+JAAAAAAADDsUAAAAAAAJnAQAAAAAAAldBAAAAAAAAVyEAAAAAAgGrlQAAAAABA0dxAAAAAACB14UAAAAAAAFnAQAAAAACAzOBAAAAAAAD8xUAAAAAAQCTTQAAAAAAAjqNAAAAAAAAEm0AAAAAAUGbyQAAAAAAAudFAAAAAAIDDz0AAAAAAAHahQAAAAAAAiIVAAAAAAECN3UAAAAAAgEXUQAAAAACwQPZAAAAAAIDVxUAAAAAAALiVQAAAAAAACIdAAAAAAIDr00AAAAAAAM3GQAAAAAAAAJpAAAAAAIBA20AAAAAAAHSrQAAAAAAAxqlAAAAAAIB3zkAAAAAAADLOQAAAAAAAEqpAAAAAAACqrkAAAAAAABy+QAAAAAAArMpAAAAAAABCuUAAAAAAABCNQAAAAAAACqhAAAAAAIB4wEAAAAAAADyfQAAAAABgYuZAAAAAAAAU30AAAAAAAPyuQAAAAAAASIpAAAAAAAD6s0AAAAAAQLzuQAAAAACABOhAAAAAAAB8sEAAAAAAgCTNQAAAAAAA5qBAAAAAAABgu0AAAAAAgF3DQAAAAAAA7rVAAAAAAADU1EAAAAAAQMDaQAAAAAAAP/9AAAAAAAB+0EAAAAAAACjVQAAAAAAAuJNAAAAAAAAdtUAAAAAAAG6lQAAAAADAQ+ZAAAAAAAAMoUAAAAAAgAbIQAAAAAAA49NAAAAAAAAMlUAAAAAAgJfxQAAAAACA3ddAAAAAAEC220AAAAAAAOybQAAAAAAAMINAAAAAAICbx0AAAAAAAPytQAAAAABAHOBAAAAAAACUvUAAAAAAAKSpQAAAAACA+stAAAAAAADmtkAAAAAAQPLkQAAAAADgdOpAAAAAAADLuUAAAAAAoBXjQAAAAAAAfKBAAAAAAAC+oEAAAAAAAAvJQAAAAAAAxJtAAAAAAAB4k0AAAAAAAFGzQAAAAABAotxAAAAAAIBVxEAAAAAAgEjQQAAAAAAAmMNAAAAAAACsl0AAAAAAAKS+QAAAAACAqOtAAAAAAACy4UAAAAAAoBvoQAAAAADAsdBAAAAAAABZsEAAAAAAAAinQAAAAAAAJtBAAAAAAACGsUAAAAAAAEOwQAAAAAAA9qpAAAAAAAAwl0A=\",\"dtype\":\"float64\",\"shape\":[178]},\"y\":{\"__ndarray__\":\"ZmZmZmZmS0DNzMzMzMxSQJqZmZmZ+VJAzczMzMzsVEAzMzMzM7NNQM3MzMzMzFJAMzMzMzPzUkCamZmZmTlSQM3MzMzMbFRAAAAAAAAgVECamZmZmdlRQJqZmZmZGVJAzczMzMyMU0BmZmZmZiZRQJqZmZmZ2VJAzczMzMyMUUAzMzMzM/NTQGZmZmZmhlFAAAAAAAAAUEAzMzMzMxNRQDMzMzMz01FAAAAAAAAgU0AAAAAAACBQQM3MzMzMjFJAAAAAAACgU0BmZmZmZmZSQJqZmZmZWU5AmpmZmZlZTUCamZmZmblQQAAAAAAAwExAZmZmZmZGVECamZmZmVlSQJqZmZmZGUxAMzMzMzOzU0CamZmZmflSQDMzMzMz01JAAAAAAACAT0BmZmZmZiZMQGZmZmZmJk5AZmZmZmbmU0CamZmZmZlMQM3MzMzMTFNAAAAAAACAU0BmZmZmZmZUQDMzMzMz01NAZmZmZmbmTkCamZmZmZlSQM3MzMzMjFJAMzMzMzOTUUAzMzMzM3NSQJqZmZmZmUxAAAAAAACATkAzMzMzM/NSQAAAAAAAgE5AmpmZmZl5UEAAAAAAAABUQM3MzMzMTFRAAAAAAADATEAAAAAAAIBPQJqZmZmZGVJAzczMzMwMVEAAAAAAAMBPQGZmZmZm5lNAzczMzMzMUUAzMzMzM7NRQM3MzMzMjE1AAAAAAAAASkBmZmZmZqZPQAAAAAAAgEJAMzMzMzPTUUDNzMzMzKxSQAAAAAAAoFRAZmZmZmZGUEAzMzMzM3NRQJqZmZmZeVNAMzMzMzMTUUCamZmZmflTQAAAAAAAYFRAmpmZmZl5VEAAAAAAAOBSQAAAAAAAwFRAZmZmZmZmU0BmZmZmZsZQQM3MzMzMjE9AAAAAAADATkBmZmZmZsZTQAAAAAAAgFJAAAAAAACAU0AzMzMzM7NHQJqZmZmZ2U5AZmZmZmbmUkCamZmZmXlSQAAAAAAAQFRAMzMzMzPzUkBmZmZmZuZPQGZmZmZm5kpAMzMzMzOTUkCamZmZmblTQAAAAAAAQExAMzMzMzNzVEBmZmZmZgZQQM3MzMzMDFBAmpmZmZkZUkDNzMzMzOxSQJqZmZmZmVBAzczMzMyMUUBmZmZmZuZPQM3MzMzMzFJAzczMzMxsUkCamZmZmdlLQAAAAAAAgFBAAAAAAADATUAAAAAAAGBRQAAAAAAAIFRAAAAAAAAgVEAzMzMzM/NSQJqZmZmZWU5AZmZmZmZmTUCamZmZmTlUQAAAAAAAwFJAzczMzMwsUEDNzMzMzExTQJqZmZmZWU1AmpmZmZlZUkAzMzMzMzNTQM3MzMzMbFFAZmZmZmYGU0AAAAAAAOBTQDMzMzMzU1RAAAAAAACAUkDNzMzMzCxRQJqZmZmZ2U9AZmZmZmbmUUBmZmZmZuZQQM3MzMzMbFNAAAAAAABAUEAAAAAAAEBTQDMzMzMzM1JAAAAAAABATEAAAAAAAGBUQAAAAAAA4FJAAAAAAADgU0AAAAAAAIBPQDMzMzMzc0xAmpmZmZlZTEAAAAAAAEBMQGZmZmZmZlRAzczMzMzsUkAAAAAAAABRQAAAAAAAYFFAZmZmZmbmR0AAAAAAAGBUQDMzMzMzk1RAzczMzMwsU0AzMzMzM7NTQJqZmZmZeVFAMzMzMzNzTkBmZmZmZqZSQDMzMzMzc1FAAAAAAACATkBmZmZmZoZRQGZmZmZmxlFAMzMzMzMzU0DNzMzMzOxSQGZmZmZmplBAMzMzMzMzTUCamZmZmZlRQM3MzMzMDFNAAAAAAAAAVEAAAAAAAKBTQAAAAAAAIFNAZmZmZmZGUUAAAAAAAABQQM3MzMzMrFJAMzMzMzPzUkAAAAAAAIBSQM3MzMzMDEtAMzMzMzMzSUA=\",\"dtype\":\"float64\",\"shape\":[178]}}},\"id\":\"0854ae15-bcb2-4ecc-a3d4-7a559302ca19\",\"type\":\"ColumnDataSource\"},{\"attributes\":{\"data_source\":{\"id\":\"0854ae15-bcb2-4ecc-a3d4-7a559302ca19\",\"type\":\"ColumnDataSource\"},\"glyph\":{\"id\":\"eff8b986-58f7-411d-a087-5dae26523c48\",\"type\":\"Circle\"},\"hover_glyph\":null,\"muted_glyph\":null,\"nonselection_glyph\":{\"id\":\"8df66834-e150-4b2b-95a7-f9945697369f\",\"type\":\"Circle\"},\"selection_glyph\":null,\"view\":{\"id\":\"472f83a5-7fcd-4b03-9d01-e4e8512325fc\",\"type\":\"CDSView\"}},\"id\":\"6a3317d8-81b8-4907-8626-5ad0051720b2\",\"type\":\"GlyphRenderer\"},{\"attributes\":{\"num_minor_ticks\":10},\"id\":\"613fcedc-009a-4b25-a87f-665f7412a8b0\",\"type\":\"LogTicker\"},{\"attributes\":{\"factors\":[\"South Asia\",\"Europe & Central Asia\",\"Middle East & North Africa\",\"Sub-Saharan Africa\",\"America\",\"East Asia & Pacific\"],\"palette\":[\"#3288bd\",\"#99d594\",\"#e6f598\",\"#fee08b\",\"#fc8d59\",\"#d53e4f\"]},\"id\":\"0b7a4372-cfa3-4d67-951d-349c683c925d\",\"type\":\"CategoricalColorMapper\"},{\"attributes\":{\"ticker\":null},\"id\":\"cc8545cd-f81b-40cb-b1f4-7be0c7eb02ad\",\"type\":\"LogTickFormatter\"},{\"attributes\":{\"callback\":null,\"end\":100},\"id\":\"00f04ed4-96e6-4f8e-bd93-6dcd54c7a7c0\",\"type\":\"Range1d\"},{\"attributes\":{},\"id\":\"e09356b8-a092-48a3-ac3a-626c544bb7f5\",\"type\":\"LinearScale\"},{\"attributes\":{\"label\":{\"field\":\"region\"},\"renderers\":[{\"id\":\"6a3317d8-81b8-4907-8626-5ad0051720b2\",\"type\":\"GlyphRenderer\"}]},\"id\":\"a9beeb69-cc54-4cac-a3c9-9083cf48af1f\",\"type\":\"LegendItem\"},{\"attributes\":{\"plot\":{\"id\":\"c791237f-c0c2-443f-84a7-80196bdcaf92\",\"subtype\":\"Figure\",\"type\":\"Plot\"},\"ticker\":{\"id\":\"613fcedc-009a-4b25-a87f-665f7412a8b0\",\"type\":\"LogTicker\"}},\"id\":\"78a1621e-8b3f-4fed-976c-f7af3c7bff19\",\"type\":\"Grid\"}],\"root_ids\":[\"c791237f-c0c2-443f-84a7-80196bdcaf92\"]},\"title\":\"Bokeh Application\",\"version\":\"0.12.10\"}};\n",
       "    var render_items = [{\"docid\":\"cf356398-7833-46f0-adcb-206c7b500b70\",\"elementid\":\"cb6f3bc2-54e3-42e6-a058-7688a58c5644\",\"modelid\":\"c791237f-c0c2-443f-84a7-80196bdcaf92\",\"notebook_comms_target\":\"8640c936-0813-45b3-b21a-e782f6838345\"}];\n",
       "\n",
       "    root.Bokeh.embed.embed_items(docs_json, render_items);\n",
       "  }\n",
       "\n",
       "  if (root.Bokeh !== undefined) {\n",
       "    embed_document(root);\n",
       "  } else {\n",
       "    var attempts = 0;\n",
       "    var timer = setInterval(function(root) {\n",
       "      if (root.Bokeh !== undefined) {\n",
       "        embed_document(root);\n",
       "        clearInterval(timer);\n",
       "      }\n",
       "      attempts++;\n",
       "      if (attempts > 100) {\n",
       "        console.log(\"Bokeh: ERROR: Unable to embed document because BokehJS library is missing\")\n",
       "        clearInterval(timer);\n",
       "      }\n",
       "    }, 10, root)\n",
       "  }\n",
       "})(window);"
      ],
      "application/vnd.bokehjs_exec.v0+json": ""
     },
     "metadata": {
      "application/vnd.bokehjs_exec.v0+json": {
       "id": "c791237f-c0c2-443f-84a7-80196bdcaf92"
      }
     },
     "output_type": "display_data"
    },
    {
     "data": {
      "text/html": [
       "<p><code>&lt;Bokeh Notebook handle for <strong>In[15]</strong>&gt;</code></p>"
      ],
      "text/plain": [
       "<bokeh.io.notebook.CommsHandle at 0x23710ece048>"
      ]
     },
     "execution_count": 15,
     "metadata": {},
     "output_type": "execute_result"
    }
   ],
   "source": [
    "from bokeh.models import LinearInterpolator\n",
    "from bokeh.models import CategoricalColorMapper\n",
    "from bokeh.palettes import Spectral6\n",
    "from ipywidgets import interact\n",
    "\n",
    "from bokeh.io import push_notebook\n",
    "\n",
    "def update(year):\n",
    "    new_data = dict(\n",
    "    x=data.loc[year].income,\n",
    "    y=data.loc[year].life,\n",
    "    country=data.loc[year].Country,\n",
    "    region=data.loc[year].region,\n",
    "    population=data.loc[year].population)\n",
    "    \n",
    "    source.data = new_data\n",
    "    p.title.text = str(year)\n",
    "    push_notebook()\n",
    "\n",
    "size_mapper = LinearInterpolator(x=[data.population.min(), data.population.max()],\n",
    "                                y = [5, 50])\n",
    "\n",
    "color_mapper = CategoricalColorMapper(factors=list(data.region.unique()),\n",
    "                                     palette=Spectral6)\n",
    "\n",
    "p = figure(\n",
    "    title='2010',\n",
    "    title_location = 'below',\n",
    "    tools = [HoverTool(tooltips = '@country', show_arrow = False)], \n",
    "    **plot_opts)\n",
    "\n",
    "p.circle(x='x', y='y', \n",
    "         size = {'field': 'population', 'transform': size_mapper},\n",
    "         color = {'field': 'region', 'transform': color_mapper},\n",
    "         alpha = 0.6, \n",
    "         source = source,\n",
    "        legend = 'region')\n",
    "\n",
    "p.legend.location = (0,-50)\n",
    "p.right.append(p.legend[0])\n",
    "show(p, notebook_handle=True)"
   ]
  },
  {
   "cell_type": "code",
   "execution_count": 16,
   "metadata": {},
   "outputs": [
    {
     "data": {
      "application/vnd.jupyter.widget-view+json": {
       "model_id": "bb92dc3f678a43c0a12ca7bb7ba38a0f",
       "version_major": 2,
       "version_minor": 0
      },
      "text/plain": [
       "A Jupyter Widget"
      ]
     },
     "metadata": {},
     "output_type": "display_data"
    },
    {
     "data": {
      "text/plain": [
       "<function __main__.update>"
      ]
     },
     "execution_count": 16,
     "metadata": {},
     "output_type": "execute_result"
    }
   ],
   "source": [
    "interact(update, year=(1800,2014,1))"
   ]
  }
 ],
 "metadata": {
  "kernelspec": {
   "display_name": "Python 3",
   "language": "python",
   "name": "python3"
  },
  "language_info": {
   "codemirror_mode": {
    "name": "ipython",
    "version": 3
   },
   "file_extension": ".py",
   "mimetype": "text/x-python",
   "name": "python",
   "nbconvert_exporter": "python",
   "pygments_lexer": "ipython3",
   "version": "3.6.3"
  }
 },
 "nbformat": 4,
 "nbformat_minor": 2
}
